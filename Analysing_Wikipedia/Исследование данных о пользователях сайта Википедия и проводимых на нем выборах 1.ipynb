{
 "cells": [
  {
   "cell_type": "markdown",
   "metadata": {},
   "source": [
    "\n"
   ]
  },
  {
   "cell_type": "markdown",
   "metadata": {},
   "source": [
    "<b>Проект:</b> Изучение и анализ данных о пользователях сайта Википедия и о проводимых на нем выборах.\n"
   ]
  },
  {
   "cell_type": "markdown",
   "metadata": {},
   "source": [
    "<b>Цель проекта:</b> Изучить имеющиеся данные, привести их в пригодный для анализа формат.\n",
    "Обнаружить в них значимые закономерности. \n",
    "Выбрать параметры для сегментации, разделить пользователей на сегменты и изучить данные подробнее в разрезе сегментов. \n",
    "Исследовать голосующую аудиторию проекта, динамику голосований. \n"
   ]
  },
  {
   "cell_type": "markdown",
   "metadata": {},
   "source": [
    "<b>Описание данных:</b> Имеются 2 файла данных за 2008-2023гг. о пользователях сайта Википедия (stats и votes).\n",
    "В файле stats содержатся данные о ТОП-150 пользователей, который определяется по количеству правок, сделанных пользователем.\n"
   ]
  },
  {
   "cell_type": "markdown",
   "metadata": {},
   "source": [
    "# Изучение и предобработка данных."
   ]
  },
  {
   "cell_type": "markdown",
   "metadata": {},
   "source": [
    "Импортируем необходимые библиотеки."
   ]
  },
  {
   "cell_type": "code",
   "execution_count": 1,
   "metadata": {},
   "outputs": [],
   "source": [
    "import pandas as pd\n",
    "import numpy as np\n",
    "from datetime import datetime, timedelta\n",
    "from matplotlib import pyplot as plt\n",
    "import seaborn as sns\n",
    "import math"
   ]
  },
  {
   "cell_type": "markdown",
   "metadata": {},
   "source": [
    "Загрузим данные."
   ]
  },
  {
   "cell_type": "code",
   "execution_count": 4,
   "metadata": {},
   "outputs": [
    {
     "data": {
      "text/html": [
       "<div>\n",
       "<style scoped>\n",
       "    .dataframe tbody tr th:only-of-type {\n",
       "        vertical-align: middle;\n",
       "    }\n",
       "\n",
       "    .dataframe tbody tr th {\n",
       "        vertical-align: top;\n",
       "    }\n",
       "\n",
       "    .dataframe thead th {\n",
       "        text-align: right;\n",
       "    }\n",
       "</style>\n",
       "<table border=\"1\" class=\"dataframe\">\n",
       "  <thead>\n",
       "    <tr style=\"text-align: right;\">\n",
       "      <th></th>\n",
       "      <th>Edits</th>\n",
       "      <th>Reverts</th>\n",
       "      <th>Log</th>\n",
       "      <th>Diff</th>\n",
       "      <th>Volume</th>\n",
       "      <th>Tot size</th>\n",
       "      <th>Time</th>\n",
       "      <th>Speed</th>\n",
       "      <th>User</th>\n",
       "      <th>txt</th>\n",
       "    </tr>\n",
       "  </thead>\n",
       "  <tbody>\n",
       "    <tr>\n",
       "      <th>0</th>\n",
       "      <td>1589</td>\n",
       "      <td>NaN</td>\n",
       "      <td>1621.0</td>\n",
       "      <td>262 k</td>\n",
       "      <td>1.1 M</td>\n",
       "      <td>39 M</td>\n",
       "      <td>95 h</td>\n",
       "      <td>34/h</td>\n",
       "      <td>Altes</td>\n",
       "      <td>200708</td>\n",
       "    </tr>\n",
       "    <tr>\n",
       "      <th>1</th>\n",
       "      <td>1809</td>\n",
       "      <td>NaN</td>\n",
       "      <td>1328.0</td>\n",
       "      <td>395 k</td>\n",
       "      <td>2.8 M</td>\n",
       "      <td>42 M</td>\n",
       "      <td>129 h</td>\n",
       "      <td>24/h</td>\n",
       "      <td>Obersachse</td>\n",
       "      <td>200708</td>\n",
       "    </tr>\n",
       "    <tr>\n",
       "      <th>2</th>\n",
       "      <td>2734</td>\n",
       "      <td>NaN</td>\n",
       "      <td>NaN</td>\n",
       "      <td>16 k</td>\n",
       "      <td>15 k</td>\n",
       "      <td>19 M</td>\n",
       "      <td>105 h</td>\n",
       "      <td>26/h</td>\n",
       "      <td>Monegasque~ruwiki</td>\n",
       "      <td>200708</td>\n",
       "    </tr>\n",
       "    <tr>\n",
       "      <th>3</th>\n",
       "      <td>2611</td>\n",
       "      <td>NaN</td>\n",
       "      <td>6.0</td>\n",
       "      <td>278 k</td>\n",
       "      <td>350 k</td>\n",
       "      <td>43 M</td>\n",
       "      <td>135 h</td>\n",
       "      <td>19/h</td>\n",
       "      <td>User№101</td>\n",
       "      <td>200708</td>\n",
       "    </tr>\n",
       "    <tr>\n",
       "      <th>4</th>\n",
       "      <td>917</td>\n",
       "      <td>6.0</td>\n",
       "      <td>1416.0</td>\n",
       "      <td>154 k</td>\n",
       "      <td>1.2 M</td>\n",
       "      <td>26 M</td>\n",
       "      <td>98 h</td>\n",
       "      <td>24/h</td>\n",
       "      <td>Kalan</td>\n",
       "      <td>200708</td>\n",
       "    </tr>\n",
       "  </tbody>\n",
       "</table>\n",
       "</div>"
      ],
      "text/plain": [
       "   Edits  Reverts     Log   Diff Volume Tot size   Time Speed  \\\n",
       "0   1589      NaN  1621.0  262 k  1.1 M     39 M   95 h  34/h   \n",
       "1   1809      NaN  1328.0  395 k  2.8 M     42 M  129 h  24/h   \n",
       "2   2734      NaN     NaN   16 k   15 k     19 M  105 h  26/h   \n",
       "3   2611      NaN     6.0  278 k  350 k     43 M  135 h  19/h   \n",
       "4    917      6.0  1416.0  154 k  1.2 M     26 M   98 h  24/h   \n",
       "\n",
       "                User     txt  \n",
       "0              Altes  200708  \n",
       "1         Obersachse  200708  \n",
       "2  Monegasque~ruwiki  200708  \n",
       "3           User№101  200708  \n",
       "4              Kalan  200708  "
      ]
     },
     "execution_count": 4,
     "metadata": {},
     "output_type": "execute_result"
    }
   ],
   "source": [
    "stats.head()"
   ]
  },
  {
   "cell_type": "code",
   "execution_count": 5,
   "metadata": {},
   "outputs": [
    {
     "name": "stdout",
     "output_type": "stream",
     "text": [
      "<class 'pandas.core.frame.DataFrame'>\n",
      "RangeIndex: 28950 entries, 0 to 28949\n",
      "Data columns (total 10 columns):\n",
      " #   Column    Non-Null Count  Dtype  \n",
      "---  ------    --------------  -----  \n",
      " 0   Edits     28950 non-null  int64  \n",
      " 1   Reverts   10157 non-null  float64\n",
      " 2   Log       28306 non-null  float64\n",
      " 3   Diff      28945 non-null  object \n",
      " 4   Volume    28945 non-null  object \n",
      " 5   Tot size  28945 non-null  object \n",
      " 6   Time      28950 non-null  object \n",
      " 7   Speed     28950 non-null  object \n",
      " 8   User      28950 non-null  object \n",
      " 9   txt       28950 non-null  int64  \n",
      "dtypes: float64(2), int64(2), object(6)\n",
      "memory usage: 2.2+ MB\n"
     ]
    }
   ],
   "source": [
    "stats.info()"
   ]
  },
  {
   "cell_type": "markdown",
   "metadata": {},
   "source": [
    "Проведем предобработку данных:\n",
    "Приведем названия столбцов к нижнему и змеиному регистру.\n",
    "Столбец 'txt' переведем в формат datetime."
   ]
  },
  {
   "cell_type": "code",
   "execution_count": 6,
   "metadata": {},
   "outputs": [],
   "source": [
    "stats.columns = stats.columns.str.lower()"
   ]
  },
  {
   "cell_type": "code",
   "execution_count": 7,
   "metadata": {},
   "outputs": [],
   "source": [
    "stats.rename(columns={'tot size':'tot_size'}, inplace=True)"
   ]
  },
  {
   "cell_type": "code",
   "execution_count": 8,
   "metadata": {},
   "outputs": [],
   "source": [
    "stats['txt'] = pd.to_datetime(stats['txt'],format='%Y%m')"
   ]
  },
  {
   "cell_type": "markdown",
   "metadata": {},
   "source": [
    "Напишем функцию для перевода данных в столбцах diff, volume, tot_size в формат float с единицами измерения в тысячах единиц."
   ]
  },
  {
   "cell_type": "code",
   "execution_count": 9,
   "metadata": {},
   "outputs": [],
   "source": [
    "def measure_i(measure):\n",
    "         \n",
    "    if \"k\" in str(measure):\n",
    "        measure = pd.to_numeric(str(measure).split()[0],downcast='signed',errors='coerce')\n",
    "        return measure\n",
    "    elif \"M\" in str(measure):\n",
    "        measure = pd.to_numeric(str(measure).split()[0],downcast='signed',errors='coerce')\n",
    "        return measure*1000\n",
    "    else:\n",
    "        return pd.to_numeric(measure,errors='coerce')/1000   \n"
   ]
  },
  {
   "cell_type": "code",
   "execution_count": null,
   "metadata": {},
   "outputs": [],
   "source": [
    "cols_to_change = ['diff', 'volume', 'tot_size']\n",
    "\n",
    "for col in cols_to_change:\n",
    "    stats[col] = stats[col].apply(measure_i)"
   ]
  },
  {
   "cell_type": "markdown",
   "metadata": {},
   "source": [
    "Преобразуем данные в столбцах speed, time в числовой формат с единицами измерения колличество правок в минуту и минуты. Переименуем данные столбцы."
   ]
  },
  {
   "cell_type": "code",
   "execution_count": null,
   "metadata": {},
   "outputs": [],
   "source": [
    "stats['speed']=pd.to_numeric(stats.speed.str.split('/', expand=True)[0],errors='coerce')/60"
   ]
  },
  {
   "cell_type": "code",
   "execution_count": null,
   "metadata": {},
   "outputs": [],
   "source": [
    "stats.rename(columns={'speed':'speed_ed_min'}, inplace=True)"
   ]
  },
  {
   "cell_type": "code",
   "execution_count": null,
   "metadata": {},
   "outputs": [],
   "source": [
    "stats['time'] = pd.to_numeric(stats.time.str.split('\\xa0', expand=True)[0],errors='coerce')*60+pd.to_numeric(stats.time.str.split('\\xa0', expand=True)[2],errors='coerce').fillna(0)"
   ]
  },
  {
   "cell_type": "code",
   "execution_count": null,
   "metadata": {},
   "outputs": [],
   "source": [
    "stats.rename(columns={'speed':'speed_ed_min','time':'time_min'}, inplace=True)"
   ]
  },
  {
   "cell_type": "markdown",
   "metadata": {},
   "source": [
    "Заполним пропуски в столбцах revert, log нулями, руководствуясь соображениями, что значения пропущены у тех пользователей, кто не отменял чужие правки и не совершал иных действий."
   ]
  },
  {
   "cell_type": "code",
   "execution_count": null,
   "metadata": {},
   "outputs": [],
   "source": [
    "stats['reverts']=stats['reverts'].fillna(0)"
   ]
  },
  {
   "cell_type": "code",
   "execution_count": null,
   "metadata": {},
   "outputs": [],
   "source": [
    "stats['log']=stats['log'].fillna(0)"
   ]
  },
  {
   "cell_type": "code",
   "execution_count": null,
   "metadata": {},
   "outputs": [],
   "source": [
    "stats.info()"
   ]
  },
  {
   "cell_type": "markdown",
   "metadata": {},
   "source": [
    "Проверим данные на явные дубликаты."
   ]
  },
  {
   "cell_type": "code",
   "execution_count": null,
   "metadata": {},
   "outputs": [],
   "source": [
    "stats.duplicated().sum()"
   ]
  },
  {
   "cell_type": "markdown",
   "metadata": {},
   "source": [
    "Узнаем количество уникальных пользователей."
   ]
  },
  {
   "cell_type": "code",
   "execution_count": null,
   "metadata": {},
   "outputs": [],
   "source": [
    "user_count = stats['user'].nunique()\n",
    "user_count"
   ]
  },
  {
   "cell_type": "markdown",
   "metadata": {},
   "source": [
    "В ячейках diff,volume,tot_size по 5 нулевых значений. Выгрузим строки с нулевыми значениями по столбцу diff."
   ]
  },
  {
   "cell_type": "code",
   "execution_count": null,
   "metadata": {},
   "outputs": [],
   "source": [
    "stats.loc[stats['volume'].isnull()]"
   ]
  },
  {
   "cell_type": "markdown",
   "metadata": {},
   "source": [
    "Видим, что именно в этих строках отсутствуют значения по 2 другим столбцах. Т.к. их количество всего 5, удалим эти строки, т.к. это не повлияет на результаты анализа."
   ]
  },
  {
   "cell_type": "code",
   "execution_count": null,
   "metadata": {},
   "outputs": [],
   "source": [
    "stats=stats.dropna(subset=['volume'])"
   ]
  },
  {
   "cell_type": "code",
   "execution_count": null,
   "metadata": {},
   "outputs": [],
   "source": [
    "stats.head()"
   ]
  },
  {
   "cell_type": "markdown",
   "metadata": {},
   "source": [
    "# Исследовательский анализ данных."
   ]
  },
  {
   "cell_type": "markdown",
   "metadata": {},
   "source": [
    "Т.к. статистика каждый месяц формируется только по Топ-150 пользователей по количеству правок, вся аналитика будет вестись с учетом этой особенности. "
   ]
  },
  {
   "cell_type": "markdown",
   "metadata": {},
   "source": [
    "Для начала проанализируем общее изменение показателей по годам по средним показателям и по общим. Показатели 'volume','diff','tot_size' отражены в тысячах, а 'edits','log','reverts' - в единицах."
   ]
  },
  {
   "cell_type": "code",
   "execution_count": null,
   "metadata": {},
   "outputs": [],
   "source": [
    "stats.groupby(['txt']).agg({'volume':['mean'],'diff':['mean']}).plot(figsize=(10,5),grid=True)\n",
    "plt.title('Изменение средних показателей добавленного объема и добавленного объема за вычетом удаленного по годам')\n",
    "plt.xlabel('Год')\n",
    "plt.ylabel('Объем добавленного,тыс.ед.')\n",
    "plt.show()"
   ]
  },
  {
   "cell_type": "code",
   "execution_count": null,
   "metadata": {},
   "outputs": [],
   "source": [
    "stats.groupby(['txt']).agg({'edits':['mean'],'log':['mean'],'reverts':['mean']}).plot(figsize=(10,5),grid=True)\n",
    "plt.title('Изменение средних показателей количества правок, иных действий и отмен чужих правок по годам')\n",
    "plt.xlabel('Год')\n",
    "plt.ylabel('Количество действий')\n",
    "plt.show()"
   ]
  },
  {
   "cell_type": "code",
   "execution_count": null,
   "metadata": {},
   "outputs": [],
   "source": [
    "stats.groupby(['txt']).agg({'volume':['sum'],'diff':['sum']}).plot(figsize=(10,5),grid=True)\n",
    "plt.title('Изменение суммарных показателей добавленного объема и добавленного объема за вычетом удаленного по годам')\n",
    "plt.xlabel('Год')\n",
    "plt.ylabel('Объем добавленного,тыс.ед.')\n",
    "plt.show()"
   ]
  },
  {
   "cell_type": "code",
   "execution_count": null,
   "metadata": {},
   "outputs": [],
   "source": [
    "stats.groupby(['txt']).agg({'edits':['sum'],'log':['sum'],'reverts':['sum']}).plot(figsize=(10,5),grid=True)\n",
    "plt.title('Изменение суммарных показателей количества правок, иных действий и отмен чужих правок по годам')\n",
    "plt.xlabel('Год')\n",
    "plt.ylabel('Количество действий')\n",
    "plt.show()"
   ]
  },
  {
   "cell_type": "markdown",
   "metadata": {},
   "source": [
    "Из графиков видно, что все показатели имеют достаточно стабильный уровень, начиная с 2009года.  \n",
    "Отмечается пик роста количества правок в 2015-2016гг.(особенно в середине 2015г.-более 1 750 в среднем и более 1 750 - в общем), а снижение в 2008,2009,2014,2018,2020гг.  \n",
    "Общий объем написанного(и объщий объем за вычетом удаленного-diff) имеет пик в конце 2017г(около 900 000(700 000) в среднем и более 140 000 000(110 000) в общем).   \n",
    "А активность иных действий максимальная в середине 2011г."
   ]
  },
  {
   "cell_type": "code",
   "execution_count": null,
   "metadata": {},
   "outputs": [],
   "source": [
    "stats.groupby(['txt']).agg({'tot_size':['mean']}).plot(figsize=(10,5),grid=True)\n",
    "plt.title('Изменение средней накопленной суммы добавленного по годам')\n",
    "plt.xlabel('Год')\n",
    "plt.ylabel('Накопленная сумма добавленного,тыс.ед.')\n",
    "plt.show()"
   ]
  },
  {
   "cell_type": "code",
   "execution_count": null,
   "metadata": {},
   "outputs": [],
   "source": [
    "stats.groupby(['txt']).agg({'tot_size':['sum']}).plot(figsize=(10,5),grid=True,legend=False)\n",
    "plt.title('Изменение суммарной накопленной суммы добавленного по годам')\n",
    "plt.xlabel('Год')\n",
    "plt.ylabel('Накопленная сумма добавленного,тыс.ед.')\n",
    "plt.show()"
   ]
  },
  {
   "cell_type": "markdown",
   "metadata": {},
   "source": [
    "Пики роста по средней и суммарной накопленной сумме добавленного наблюдаются в 2013,2016,2021,2023гг."
   ]
  },
  {
   "cell_type": "code",
   "execution_count": null,
   "metadata": {},
   "outputs": [],
   "source": [
    "stats.groupby(['txt']).agg({'speed_ed_min':['mean']}).plot(figsize=(10,5),grid=True,legend=False)\n",
    "plt.title('Средняя скорость внесения правок по годам')\n",
    "plt.xlabel('Год')\n",
    "plt.ylabel('Средняя скорость,ед/мин')\n",
    "plt.show()"
   ]
  },
  {
   "cell_type": "markdown",
   "metadata": {},
   "source": [
    "Средняя скорость внесения правок имеет тенденцию к росту с 2019, что может быть связано с использованием ботов при написании статей."
   ]
  },
  {
   "cell_type": "markdown",
   "metadata": {},
   "source": [
    "Далее сгруппируем таблицу по пользователям. \n",
    "Сегметируем пользователей по частоте попадания в ТОП-150 и рассмотрим, как меняются показатели в зависимости от группы. \n",
    "Сгруппируем данные по пользователям, применив к 'volume','diff','edits','tot_size','log','reverts' функцию среднего,посчитаем количество раз попадания пользователя, время первого и последнего попадания в ТОП.\n",
    "Переименуем столбцы, а также найдем периодичность в месяцах, с какой каждый пользователь попадал в ТОП-150."
   ]
  },
  {
   "cell_type": "code",
   "execution_count": null,
   "metadata": {},
   "outputs": [],
   "source": [
    "frec_group = stats.groupby(['user']).agg({'txt':['min','max','count'],'volume':['mean'],'diff':['mean'],'tot_size':['mean'],'edits':['mean'],'log':['mean'],'reverts':['mean']})\n"
   ]
  },
  {
   "cell_type": "code",
   "execution_count": null,
   "metadata": {},
   "outputs": [],
   "source": [
    "frec_group.index.names = ['voter']"
   ]
  },
  {
   "cell_type": "code",
   "execution_count": null,
   "metadata": {},
   "outputs": [],
   "source": [
    "frec_group.columns = ['txt_min','txt_max','count_in_top','volume','diff','tot_size','edits','log','reverts']"
   ]
  },
  {
   "cell_type": "code",
   "execution_count": null,
   "metadata": {},
   "outputs": [],
   "source": [
    "frec_group['txt_delta_d'] = frec_group['txt_max']-frec_group['txt_min']"
   ]
  },
  {
   "cell_type": "code",
   "execution_count": null,
   "metadata": {},
   "outputs": [],
   "source": [
    "frec_group['txt_delta_d'] = frec_group['txt_delta_d'].dt.days.astype('int')"
   ]
  },
  {
   "cell_type": "markdown",
   "metadata": {},
   "source": [
    "Рассчитаем в месяцах период, в течение которого пользователь периодически попадал в ТОП-150."
   ]
  },
  {
   "cell_type": "code",
   "execution_count": null,
   "metadata": {},
   "outputs": [],
   "source": [
    "frec_group['txt_delta_m'] = round(frec_group['txt_delta_d']/30.44)\n"
   ]
  },
  {
   "cell_type": "markdown",
   "metadata": {},
   "source": [
    "Добавим столбец с расчетом частоты попадания пользователя в ТОП в месяцах."
   ]
  },
  {
   "cell_type": "code",
   "execution_count": null,
   "metadata": {},
   "outputs": [],
   "source": [
    "frec_group['frec_top_m'] = round(frec_group['txt_delta_m']/frec_group['count_in_top'],1)"
   ]
  },
  {
   "cell_type": "code",
   "execution_count": null,
   "metadata": {},
   "outputs": [],
   "source": [
    "frec_group.sort_values(by=['count_in_top'],ascending=False)"
   ]
  },
  {
   "cell_type": "markdown",
   "metadata": {},
   "source": [
    "Построим гистограмму, чтобы определить, распределение количества раз попадания в ТОП-150. Перед построением исключим пользователей, которые попали в Топ только 1 раз, т.к. их можно отнести к группе самых редко попадающих в Топ пользователей."
   ]
  },
  {
   "cell_type": "code",
   "execution_count": null,
   "metadata": {},
   "outputs": [],
   "source": [
    "frec_group.plot(y='count_in_top',kind='hist',bins=100,figsize=(10,5),grid=True,legend=False)\n",
    "plt.title('Распределение количества раз попадания пользователем в ТОП-150')\n",
    "plt.xlabel('Количество попаданий в ТОП-150')\n",
    "plt.ylabel('Количество пользователей')\n",
    "plt.show()"
   ]
  },
  {
   "cell_type": "markdown",
   "metadata": {},
   "source": [
    "Видим, что большинство пользователей попадало в ТОП только 1-2 раза. Достаточно много от 3 до 10, затем показатель сильно снижается. Напишем функцию для разбивки пользователей на группы по количеству раз попадания в ТОП-150 и применим ее для создания нового столбца с указанием номера группы каждого пользователя."
   ]
  },
  {
   "cell_type": "markdown",
   "metadata": {},
   "source": [
    "Разобьем пользователей на сегменты по количеству раз попадания в ТОП: \n",
    "1- 1 раз , \n",
    "2 - от 1 до 5 раз, \n",
    "3 - от 6 до 10 раз, \n",
    "4 - от 11 до 25 раз, \n",
    "5 - от 26 до 50 раз, \n",
    "6 - от 51 до 75 раз,\n",
    "7 - более 76 раз."
   ]
  },
  {
   "cell_type": "code",
   "execution_count": null,
   "metadata": {},
   "outputs": [],
   "source": [
    "def frequency(interval):\n",
    "         \n",
    "    if 0 < interval <= 1:\n",
    "        return 1\n",
    "    elif 1 < interval <= 5:\n",
    "        return 2\n",
    "    elif 5 < interval <= 10:\n",
    "        return 3\n",
    "    elif 10 < interval <= 25:\n",
    "        return 4\n",
    "    elif 25 < interval <= 50:\n",
    "        return 5\n",
    "    elif 50 < interval <= 75:\n",
    "        return 6\n",
    "    else:\n",
    "        return 7"
   ]
  },
  {
   "cell_type": "code",
   "execution_count": null,
   "metadata": {},
   "outputs": [],
   "source": [
    "frec_group['group_in_top'] = frec_group['count_in_top'].apply(frequency)"
   ]
  },
  {
   "cell_type": "markdown",
   "metadata": {},
   "source": [
    "Сгруппируем таблицу по номерам групп, применив 'volume','diff','edits','log' функцию среднего и посчитаем количество пользователей в каждой группе. Затем построим графики по этим данным."
   ]
  },
  {
   "cell_type": "code",
   "execution_count": null,
   "metadata": {},
   "outputs": [],
   "source": [
    "frec_group_mean_1 = frec_group.groupby(['group_in_top']).agg({'group_in_top':['count'],'volume':['mean'],'diff':['mean'],'edits':['mean'],'log':['mean']})"
   ]
  },
  {
   "cell_type": "code",
   "execution_count": null,
   "metadata": {},
   "outputs": [],
   "source": [
    "frec_group_mean_1"
   ]
  },
  {
   "cell_type": "code",
   "execution_count": null,
   "metadata": {},
   "outputs": [],
   "source": [
    "frec_group_mean_1.plot(figsize=(10, 5))\n",
    "plt.title('Средние показатели групп')\n",
    "plt.xlabel('Номер группы')\n",
    "plt.ylabel('Средний объем/Среднее количество')\n",
    "plt.show()"
   ]
  },
  {
   "cell_type": "markdown",
   "metadata": {},
   "source": [
    "Пользователей 1 и 2 группы больше всего(попадали в ТОП от 1 до 5 раз), потом этот показатель резко снижается и падает с возрастанием количества раз попадания в ТОП.\n",
    "По средним показателям 'volume','diff','edits','log' наблюдается динамика роста с ростом количества раз попадания пользователя в ТОП.\n",
    "В 5 группе(25-50 попаданий в ТОП) наблюдается повышение количества правок и иных действий при одновременном сокращении объема написанного и написанного за вычетом удаленного."
   ]
  },
  {
   "cell_type": "code",
   "execution_count": null,
   "metadata": {},
   "outputs": [],
   "source": [
    "frec_group_mean_1.columns = ['count','vol_mean','diff_mean','edits_mean','log_mean']"
   ]
  },
  {
   "cell_type": "markdown",
   "metadata": {},
   "source": [
    "Посчитаем долю пользователей каждой группы относительно общего объема."
   ]
  },
  {
   "cell_type": "code",
   "execution_count": null,
   "metadata": {},
   "outputs": [],
   "source": [
    "frec_group_mean_1['share']=round(frec_group_mean_1['count']/user_count*100,1)"
   ]
  },
  {
   "cell_type": "code",
   "execution_count": null,
   "metadata": {},
   "outputs": [],
   "source": [
    "frec_group_mean_1"
   ]
  },
  {
   "cell_type": "code",
   "execution_count": null,
   "metadata": {},
   "outputs": [],
   "source": [
    "frec_group_mean_1.plot(kind='pie',y='count',autopct='%.1f%%',legend=False,title='Доля пользователей каждой группы относительно общего объема');"
   ]
  },
  {
   "cell_type": "markdown",
   "metadata": {},
   "source": [
    "Примерно одинаковое количество представителей 1 группы(1 раз попадание) -30,1% и 2 группы(2-5 раз) - 31,3%; более, чем в 2 раза меньше представителей 3 и 4 группы(5-10 и 11-25 раз) - 14,1% и 11,8%, соответственно. Те, кто оказался в ТОПе более 50раз - 5,6%"
   ]
  },
  {
   "cell_type": "code",
   "execution_count": null,
   "metadata": {},
   "outputs": [],
   "source": [
    "frec_group.groupby(['group_in_top']).agg({'reverts':['mean']}).plot(figsize=(7, 3),legend=False)\n",
    "plt.title('Среднее количество отмен чужих правок по группам')\n",
    "plt.xlabel('Номер группы')\n",
    "plt.ylabel('Количество отмен')\n",
    "plt.show()"
   ]
  },
  {
   "cell_type": "markdown",
   "metadata": {},
   "source": [
    "Также наблюдаем динамику, что пользователи, которые чаще попадают в ТОП, делают больше отмен чужих правок. Возможно это связано с большим объемом и количеством написанного, соответственно в большее количество текстом могли внести правки другие пользователи, с которыми автор мог не согласиться."
   ]
  },
  {
   "cell_type": "code",
   "execution_count": null,
   "metadata": {},
   "outputs": [],
   "source": [
    "frec_group.groupby(['group_in_top']).agg({'tot_size':['mean']}).plot(figsize=(7, 3),legend=False)\n",
    "plt.title('Общая накопленная сумма добавленного по группам')\n",
    "plt.xlabel('Номер группы')\n",
    "plt.ylabel('Накопленная сумма добавленного')\n",
    "plt.show()"
   ]
  },
  {
   "cell_type": "markdown",
   "metadata": {},
   "source": [
    "Действительно график изменения общего объема накопленного по группам очень похож на график отмены чужих правок, что подтверждает предположение. Общий объем накопленного расчет в зависимости от количества раз попадания пользователя в ТОП. Также стоит отметить, что в последней группе находятся самые \"старые\" авторы проекта. "
   ]
  },
  {
   "cell_type": "code",
   "execution_count": null,
   "metadata": {},
   "outputs": [],
   "source": [
    "frec_group.head(5)"
   ]
  },
  {
   "cell_type": "markdown",
   "metadata": {},
   "source": [
    "Напишем функцию для класиффикации пользователей по частоте попадания в ТОП в месяцах(т.е. раз во сколько месяцев в среднем пользователь попадает в ТОП), и применим эту классификацию внутри предыдущей классификации.\n",
    "Разобьем пользователей на сегменты по частоте попадания в ТОП: \n",
    "1- раз в 1 месяц, \n",
    "2 - раз в 1 - 2 мес., \n",
    "3- раз в 2 - 3 мес., \n",
    "4 - раз в 3 - 6мес., \n",
    "5 - раз в 6 - 12 мес. \n",
    "6- реже 1 раза в год либо попавшие 1 раз в ТОП."
   ]
  },
  {
   "cell_type": "code",
   "execution_count": null,
   "metadata": {},
   "outputs": [],
   "source": [
    "def frequency_2(interval_2):\n",
    "         \n",
    "    if 0 < interval_2 <= 1:\n",
    "        return 1\n",
    "    elif 1 < interval_2 <= 2:\n",
    "        return 2\n",
    "    elif 2 < interval_2 <= 3:\n",
    "        return 3\n",
    "    elif 3 < interval_2 <= 6:\n",
    "        return 4\n",
    "    elif 6 < interval_2 <= 12:\n",
    "        return 5\n",
    "    else:\n",
    "        return 6"
   ]
  },
  {
   "cell_type": "code",
   "execution_count": null,
   "metadata": {},
   "outputs": [],
   "source": [
    "frec_group['frec_int'] = frec_group['frec_top_m'].apply(frequency_2)"
   ]
  },
  {
   "cell_type": "code",
   "execution_count": null,
   "metadata": {},
   "outputs": [],
   "source": [
    "frec_group"
   ]
  },
  {
   "cell_type": "code",
   "execution_count": null,
   "metadata": {},
   "outputs": [],
   "source": [
    "frec_group.query('frec_top_m!=0').plot(y='frec_top_m',kind='hist',bins=100,figsize=(10,5),grid=True)\n",
    "plt.title('Распределение частоты попадания пользователем в ТОП-150')\n",
    "plt.xlabel('Частота попаданий в ТОП-150, мес.')\n",
    "plt.ylabel('Количество пользователей')\n",
    "plt.show()"
   ]
  },
  {
   "cell_type": "markdown",
   "metadata": {},
   "source": [
    "Получается, что в ТОПе в основном присутствуют пользователи, которые попадают в ТОП не реже 1раза в 1-3 месяца."
   ]
  },
  {
   "cell_type": "markdown",
   "metadata": {},
   "source": [
    "Далее проанализируем частоту попадания внутри групп, выделенных по общему количеству попадания в ТОП."
   ]
  },
  {
   "cell_type": "code",
   "execution_count": null,
   "metadata": {},
   "outputs": [],
   "source": [
    "frec_group.query('group_in_top == 2').groupby(['frec_int']).agg({'frec_int':['count']})\\\n",
    ".plot(kind='pie',subplots=True,autopct='%.1f%%',legend=False,title='Доля пользователей по частоте попадания в ТОП для группы 2');"
   ]
  },
  {
   "cell_type": "code",
   "execution_count": null,
   "metadata": {},
   "outputs": [],
   "source": [
    "frec_group.query('group_in_top == 2').groupby(['frec_int']).agg({'frec_int':['count']}).plot(kind='bar',legend=False)\n",
    "plt.title('Распределение частоты попадания пользователем в ТОП-150 для 2 группы')\n",
    "plt.xlabel('Частота попаданий в ТОП-150, мес.')\n",
    "plt.ylabel('Количество пользователей')\n",
    "plt.show()"
   ]
  },
  {
   "cell_type": "markdown",
   "metadata": {},
   "source": [
    "В группе, кто попал в ТОП 2-5 раз почти половина пользователей попадала в него с периодичностью раз в месяц, т.е. им удавалось 2-5 месяцев подряд поддерживать высокий уровень правок и оставаться в ТОПе. Остальная часть примерно одинаково распределена по группам."
   ]
  },
  {
   "cell_type": "code",
   "execution_count": null,
   "metadata": {},
   "outputs": [],
   "source": [
    "frec_group.query('group_in_top == 3').groupby(['frec_int']).agg({'frec_int':['count']})\\\n",
    ".plot(kind='pie',subplots=True,autopct='%.1f%%',legend=False,title='Доля пользователей по частоте попадания в ТОП для группы 3');"
   ]
  },
  {
   "cell_type": "markdown",
   "metadata": {},
   "source": [
    "В группе, кто попал в ТОП 6-10 раз примерно 1/3 пользователей попадала в него с периодичностью 1-2 раза в месяц. "
   ]
  },
  {
   "cell_type": "code",
   "execution_count": null,
   "metadata": {},
   "outputs": [],
   "source": [
    "frec_group.query('group_in_top == 4').groupby(['frec_int']).agg({'frec_int':['count']})\\\n",
    ".plot(kind='pie',subplots=True,autopct='%.1f%%',legend=False,title='Доля пользователей по частоте попадания в ТОП для группы 4');"
   ]
  },
  {
   "cell_type": "markdown",
   "metadata": {},
   "source": [
    "В группе, кто попал в ТОП 11-25 раз, у большей части периодичностью попадания либо 1-2 раза в месяц или раз в 3.1-6 месяцев. "
   ]
  },
  {
   "cell_type": "code",
   "execution_count": null,
   "metadata": {},
   "outputs": [],
   "source": [
    "frec_group.query('group_in_top == 5').groupby(['frec_int']).agg({'frec_int':['count']})\\\n",
    ".plot(kind='pie',subplots=True,autopct='%.1f%%',legend=False,title='Доля пользователей по частоте попадания в ТОП для группы 5');"
   ]
  },
  {
   "cell_type": "markdown",
   "metadata": {},
   "source": [
    "В группе, кто попал в ТОП 26-50 раз, периодичностью попадания в основном либо раз в 1-2 месяца, либо раз в 3.1-6 месяцев, либо раз в 6.1-12 месяцев. "
   ]
  },
  {
   "cell_type": "code",
   "execution_count": null,
   "metadata": {},
   "outputs": [],
   "source": [
    "frec_group.query('group_in_top == 6').groupby(['frec_int']).agg({'frec_int':['count']})\\\n",
    ".plot(kind='pie',subplots=True,autopct='%.1f%%',legend=False,title='Доля пользователей по частоте попадания в ТОП для группы 6');"
   ]
  },
  {
   "cell_type": "markdown",
   "metadata": {},
   "source": [
    "Кто попадал в ТОП 51-75 раз, почти половина пользователей попадала туда раз в 1-2 месяца. "
   ]
  },
  {
   "cell_type": "code",
   "execution_count": null,
   "metadata": {},
   "outputs": [],
   "source": [
    "frec_group.query('group_in_top == 7').groupby(['frec_int']).agg({'frec_int':['count']})\\\n",
    ".plot(kind='pie',subplots=True,autopct='%.1f%%',legend=False,title='Доля пользователей по частоте попадания в ТОП для группы 7');"
   ]
  },
  {
   "cell_type": "markdown",
   "metadata": {},
   "source": [
    "А подавляющее большинство тех, кто попал в ТОП более 75 раз, оказывался там с периодичностью раз в 1-2 месяца.\n"
   ]
  },
  {
   "cell_type": "markdown",
   "metadata": {},
   "source": [
    "Т.о., большинство пользователей, которые оказались в ТОПе более 50 раз, имеют стабильно высокий уровень правок, который позволяет им попадать в ТОП раз в 1-2 месяца. Так же, как и у новичков, которые побывали в ТОПе 2-5 раз."
   ]
  },
  {
   "cell_type": "markdown",
   "metadata": {},
   "source": [
    "Проведем предобработку данных в таблице votes."
   ]
  },
  {
   "cell_type": "code",
   "execution_count": null,
   "metadata": {},
   "outputs": [],
   "source": [
    "votes"
   ]
  },
  {
   "cell_type": "markdown",
   "metadata": {},
   "source": [
    "Переведем столбец 'time' к формату datetime64"
   ]
  },
  {
   "cell_type": "code",
   "execution_count": null,
   "metadata": {},
   "outputs": [],
   "source": [
    "votes['time'] = pd.to_datetime(votes['time'])"
   ]
  },
  {
   "cell_type": "code",
   "execution_count": null,
   "metadata": {},
   "outputs": [],
   "source": [
    "votes.info()"
   ]
  },
  {
   "cell_type": "markdown",
   "metadata": {},
   "source": [
    "Добавим столбец, который обозначает день голосования в целых числах."
   ]
  },
  {
   "cell_type": "code",
   "execution_count": null,
   "metadata": {},
   "outputs": [],
   "source": [
    "votes['lt_day']= votes['lt'].apply(np.ceil)"
   ]
  },
  {
   "cell_type": "markdown",
   "metadata": {},
   "source": [
    "Исключим из выборки тех пользователей, которые не имеют право голоса."
   ]
  },
  {
   "cell_type": "code",
   "execution_count": null,
   "metadata": {},
   "outputs": [],
   "source": [
    "votes =votes.query('can_vote == True')"
   ]
  },
  {
   "cell_type": "code",
   "execution_count": null,
   "metadata": {},
   "outputs": [],
   "source": [
    "votes['lt'].sort_values()"
   ]
  },
  {
   "cell_type": "markdown",
   "metadata": {},
   "source": [
    "В значениях суток от начала голосования есть нулевые значения, скорее всего связанные с тем, что люди проголосовали до начала голосований раньше времени. Исключим данные по данным пользователям."
   ]
  },
  {
   "cell_type": "code",
   "execution_count": null,
   "metadata": {},
   "outputs": [],
   "source": [
    "votes =votes.query('lt != 0')"
   ]
  },
  {
   "cell_type": "markdown",
   "metadata": {},
   "source": [
    "Сгруппируем данные по дню голосования и найдем количество голосов, отданных в этот день и определим, на сколько % количество голосов \"за\" превышает количество голосов \"против\". Построим графики изменения этих показателей в зависимости от дня голосования."
   ]
  },
  {
   "cell_type": "code",
   "execution_count": null,
   "metadata": {},
   "outputs": [],
   "source": [
    "votes_day=votes.groupby(['lt_day']).agg({'vote':['count','mean']})"
   ]
  },
  {
   "cell_type": "code",
   "execution_count": null,
   "metadata": {},
   "outputs": [],
   "source": [
    "votes_day.columns = ['count','mean']"
   ]
  },
  {
   "cell_type": "code",
   "execution_count": null,
   "metadata": {},
   "outputs": [],
   "source": [
    "votes_day"
   ]
  },
  {
   "cell_type": "code",
   "execution_count": null,
   "metadata": {},
   "outputs": [],
   "source": [
    "plt.figure(figsize=(6,3))\n",
    "votes_day['count'].plot()\n",
    "plt.title('Количество голосов по дням голосования')\n",
    "plt.xlabel('День голосования')\n",
    "plt.ylabel('Количество голосов')\n",
    "plt.show()"
   ]
  },
  {
   "cell_type": "code",
   "execution_count": null,
   "metadata": {
    "scrolled": true
   },
   "outputs": [],
   "source": [
    "plt.figure(figsize=(6,3))\n",
    "votes_day['mean'].plot()\n",
    "plt.title('Доля голосов \"за\" по дням голосования')\n",
    "plt.xlabel('День голосования')\n",
    "plt.ylabel('Доля голосов \"за\"')\n",
    "plt.show()"
   ]
  },
  {
   "cell_type": "markdown",
   "metadata": {},
   "source": [
    "Максимальное количество голосов отдается в 1 день голосования, потом количество резко падает и продолжает снижаться до 5  дня. После 5 дня начинается небольшой рост. Возможно это связано с тем, что определяются основные претенденты и начинают отдавать голоса, чтобы поддержать их.\n",
    "\n",
    "Это предположение можно подтвердить и тем, что с 5 дня начинают больше голосовать \"за\", чем \"против\"."
   ]
  },
  {
   "cell_type": "markdown",
   "metadata": {},
   "source": [
    "Посчитаем, сколько голосов отдал каждый пользователь и в скольки голосованиях он участвовал. Затем объединим данные с талицей stats и посчитаем долю голосующих, которые попадают в ТОП-150 по количеству правок."
   ]
  },
  {
   "cell_type": "code",
   "execution_count": null,
   "metadata": {},
   "outputs": [],
   "source": [
    "votes_group=votes.groupby(['voter']).agg({'n':['count','nunique']})"
   ]
  },
  {
   "cell_type": "code",
   "execution_count": null,
   "metadata": {},
   "outputs": [],
   "source": [
    "votes_group.columns = ['vote_cnt','n_cnt']"
   ]
  },
  {
   "cell_type": "code",
   "execution_count": null,
   "metadata": {},
   "outputs": [],
   "source": [
    "votes_group.index.names = ['voter']"
   ]
  },
  {
   "cell_type": "code",
   "execution_count": null,
   "metadata": {},
   "outputs": [],
   "source": [
    "votes_group['vote_cnt_n'] = round(votes_group['vote_cnt']/votes_group['n_cnt'],1)"
   ]
  },
  {
   "cell_type": "code",
   "execution_count": null,
   "metadata": {},
   "outputs": [],
   "source": [
    "votes_group"
   ]
  },
  {
   "cell_type": "code",
   "execution_count": null,
   "metadata": {},
   "outputs": [],
   "source": [
    "votes_group_n=votes_group.join(frec_group, on='voter').fillna(0)"
   ]
  },
  {
   "cell_type": "code",
   "execution_count": null,
   "metadata": {},
   "outputs": [],
   "source": [
    "votes_group_n"
   ]
  },
  {
   "cell_type": "code",
   "execution_count": null,
   "metadata": {},
   "outputs": [],
   "source": [
    "round(votes_group_n.query('count_in_top != 0')['vote_cnt'].count()/votes_group_n['vote_cnt'].count()*100,2)"
   ]
  },
  {
   "cell_type": "markdown",
   "metadata": {},
   "source": [
    "Доля голосующих, которые оказываются в ТОП-150 по правках, составляет 59,8%. Получается, что из числа, кто активно делает правки статей, голосуют лишь чуть больше половины пользователей."
   ]
  },
  {
   "cell_type": "markdown",
   "metadata": {},
   "source": [
    "Посчитаем в какой группе (в зависимости от количества раз попадания в ТОП за период 2008-2023гг) люди чаще голосуют и в какой отдают больше всего голосов за одно голосование. Возьмем средние значения по группе."
   ]
  },
  {
   "cell_type": "code",
   "execution_count": null,
   "metadata": {},
   "outputs": [],
   "source": [
    "top_count_vote = round(votes_group_n.query('count_in_top != 0').groupby('group_in_top')\\\n",
    "                       .agg({'vote_cnt':['mean'],'vote_cnt_n':['mean'],'n_cnt':['mean']}),2)"
   ]
  },
  {
   "cell_type": "code",
   "execution_count": null,
   "metadata": {},
   "outputs": [],
   "source": [
    "top_count_vote.columns=['vote_cnt','vote_cnt_n','n_cnt']"
   ]
  },
  {
   "cell_type": "code",
   "execution_count": null,
   "metadata": {},
   "outputs": [],
   "source": [
    "top_count_vote['vote_cnt'].plot(figsize=(5,3),kind='bar')\n",
    "plt.title('Среднее количество голосов по группам попадания в ТОП-150')\n",
    "plt.xlabel('Группа попадания в ТОП-150')\n",
    "plt.ylabel('Количество голосов') \n",
    "plt.show()"
   ]
  },
  {
   "cell_type": "code",
   "execution_count": null,
   "metadata": {},
   "outputs": [],
   "source": [
    "top_count_vote['vote_cnt_n'].plot(figsize=(5,3),kind='bar')\n",
    "plt.title('Среднее количество голосов, отданных 1 пользователем за 1 голосование, по группам попадания в ТОП-150')\n",
    "plt.xlabel('Группа попадания в ТОП-150')\n",
    "plt.ylabel('Количество голосов') \n",
    "plt.show();"
   ]
  },
  {
   "cell_type": "code",
   "execution_count": null,
   "metadata": {},
   "outputs": [],
   "source": [
    "top_count_vote['n_cnt'].plot(figsize=(5,3),kind='bar')\n",
    "plt.title('Среднее количество голосований, в которых участвовал пользователь, по группам попадания в ТОП-150')\n",
    "plt.xlabel('Группа попадания в ТОП-150')\n",
    "plt.ylabel('Количество голосований') \n",
    "plt.show()"
   ]
  },
  {
   "cell_type": "markdown",
   "metadata": {},
   "source": [
    "Получается, что чем больше раз пользователь попадает в ТОП, тем в большем количестве голосований он участвует и отдает больше голосов, т.е. делает это системно. \n",
    "Больше всего голосов во время одного голосования отдают те, кто попадал в ТОП от 5 до 10 раз, а меньше всего те, кто попадал в ТОП более 75 раз. "
   ]
  },
  {
   "cell_type": "code",
   "execution_count": null,
   "metadata": {},
   "outputs": [],
   "source": [
    "votes"
   ]
  },
  {
   "cell_type": "code",
   "execution_count": null,
   "metadata": {},
   "outputs": [],
   "source": [
    "votes['n_str']=votes['n'].astype('str')"
   ]
  },
  {
   "cell_type": "code",
   "execution_count": null,
   "metadata": {},
   "outputs": [],
   "source": [
    "votes['candidate_n'] = votes['candidate'] + '_' + votes['n'].astype('str')"
   ]
  },
  {
   "cell_type": "code",
   "execution_count": null,
   "metadata": {},
   "outputs": [],
   "source": [
    "votes['candidate_n'] = votes['candidate_n'].str.replace('.','_',regex=False)"
   ]
  },
  {
   "cell_type": "markdown",
   "metadata": {},
   "source": [
    "Отберем только тех пользователей, которые имеют право голосовать."
   ]
  },
  {
   "cell_type": "code",
   "execution_count": null,
   "metadata": {},
   "outputs": [],
   "source": [
    "votes = votes.query('can_vote == True')"
   ]
  },
  {
   "cell_type": "code",
   "execution_count": null,
   "metadata": {},
   "outputs": [],
   "source": [
    "votes"
   ]
  },
  {
   "cell_type": "markdown",
   "metadata": {},
   "source": [
    "Сгруппируем данные по кандитатам, номеру голосования и дню голосования. После этого посчитаем количество полученных голосов и долю голосов \"за\". "
   ]
  },
  {
   "cell_type": "code",
   "execution_count": null,
   "metadata": {},
   "outputs": [],
   "source": [
    "votes_candidate = votes.groupby(['candidate','n','lt_day'],as_index = False).agg({'vote':['count','mean']})"
   ]
  },
  {
   "cell_type": "code",
   "execution_count": null,
   "metadata": {},
   "outputs": [],
   "source": [
    "votes_candidate.columns = ['candidate','n','lt_day','count_vote','mean_vote']"
   ]
  },
  {
   "cell_type": "code",
   "execution_count": null,
   "metadata": {},
   "outputs": [],
   "source": [
    "votes_candidate"
   ]
  },
  {
   "cell_type": "markdown",
   "metadata": {},
   "source": [
    "Определим кандидатов, которые достигли необходимого порога в 2/3 голосов 'за' при общем количестве голосов более 20. "
   ]
  },
  {
   "cell_type": "code",
   "execution_count": null,
   "metadata": {},
   "outputs": [],
   "source": [
    "votes_candidate_1 = votes.groupby(['candidate','n'],as_index = False).agg({'vote':['count','mean']})"
   ]
  },
  {
   "cell_type": "code",
   "execution_count": null,
   "metadata": {},
   "outputs": [],
   "source": [
    "votes_candidate_1.columns = ['candidate','n','count_vote','mean_vote']"
   ]
  },
  {
   "cell_type": "code",
   "execution_count": null,
   "metadata": {},
   "outputs": [],
   "source": [
    "votes_candidate_1['true'] = votes_candidate_1['mean_vote'] > 1/3"
   ]
  },
  {
   "cell_type": "code",
   "execution_count": null,
   "metadata": {},
   "outputs": [],
   "source": [
    "votes_candidate_1"
   ]
  },
  {
   "cell_type": "code",
   "execution_count": null,
   "metadata": {},
   "outputs": [],
   "source": [
    "votes_candidate_2 = votes_candidate_1.query('true == True and count_vote >= 20').groupby(['candidate'],as_index = False).agg({'n':['count']})"
   ]
  },
  {
   "cell_type": "code",
   "execution_count": null,
   "metadata": {},
   "outputs": [],
   "source": [
    "votes_candidate_2.columns = ['candidate','n_count']"
   ]
  },
  {
   "cell_type": "code",
   "execution_count": null,
   "metadata": {},
   "outputs": [],
   "source": [
    "votes_candidate_2.groupby('n_count').agg({'candidate':['count']})"
   ]
  },
  {
   "cell_type": "markdown",
   "metadata": {},
   "source": [
    "37 кандидатов достигли 1 раз необходимого порога 2/3 голосов \"за\" за время участия в выборах, 24 - 2 раза, 9 - 3раза, 3 - 4 раза 1 - 6 раз."
   ]
  },
  {
   "cell_type": "code",
   "execution_count": null,
   "metadata": {},
   "outputs": [],
   "source": [
    "votes_candidate.query('mean_vote > 1/3').groupby(['n']).agg({'candidate':['nunique']}).plot(figsize=(10,3),kind='bar',legend=False)\n",
    "plt.title('Количество претендентов, которые достигали необходимо порога 2/3 голосов \"за\", по каждому голосованию')\n",
    "plt.xlabel('Номер голосования')\n",
    "plt.ylabel('Количество претендентов') \n",
    "plt.show()"
   ]
  },
  {
   "cell_type": "markdown",
   "metadata": {},
   "source": [
    "Построен график, отображающий количество претендентов, которые достигали необходимо порога 2/3 голосов \"за\", по каждому голосованию (больше всего их было на 9, 12 , 32 голосовании).\n"
   ]
  },
  {
   "cell_type": "markdown",
   "metadata": {},
   "source": [
    "# ВЫВОДЫ"
   ]
  },
  {
   "cell_type": "markdown",
   "metadata": {},
   "source": [
    "Целью проекта было: \n",
    "- изучить имеющиеся данные, привести их в пригодный для анализа формат,  \n",
    "- обнаружить в них значимые закономерности,  \n",
    "- выбрать параметры для сегментации, разделить пользователей на сегменты и изучить данные подробнее в разрезе сегментов,  \n",
    "- исследовать голосующую аудиторию проекта, динамику голосований,  \n",
    "На основе данных за 2008-2023гг. о пользователях сайта Википедия.  \n",
    "В файле stats содержались данные о ТОП-150 пользователей, который определяется по количеству правок, сделанных пользователем. В файле votes — информация о голосованиях.  \n",
    "Была проведена предобработка данных. Названия столбцов приведены к нижнему и змеиному регистру. Столбец с датой переведем в формат datetime.\n",
    "Данные, которые должны содержать числовые значения переведены в числовой формат.  \n",
    "Заполнена пропуски в столбцах.  \n",
    "Данные проверены на явные дубликаты. Удалены 5 строк, в которых отсутствуют большинство необходимых значений.  \n",
    "Количество уникальных пользователей в таблице stats после предобработки – составило 2 541.  \n",
    "Проанализировано общее изменение показателей по годам по средним показателям и по общим.  \n",
    "Из построенных графиков видно, что все показатели имеют достаточно стабильный уровень, начиная с 2009года. Отмечается пик роста количества правок в 2015-2016гг.(особенно в середине 2015г.-более 1 750 в среднем и более 1 750 - в общем), а снижение в 2008,2009,2014,2018,2020гг. Общий объем написанного(и общий объем за вычетом удаленного-diff) имеет пик в конце 2017г(около 900 000(700 000) в среднем и более 140 000 000(110 000) в общем). А активность иных действий максимальная в середине 2011г.  \n",
    "Пики роста по общему объему и количеству правок наблюдаются в 2012,2015,2021,2023гг.  \n",
    "Средняя скорость внесения правок имеет тенденцию к росту с 2019, что может быть связано с использованием ботов при написании статей.  \n",
    "Далее данные сгруппированы по пользователям, к 'volume','diff','edits','tot_size','log','reverts' применена функция среднего, посчитано количество раз попадания пользователя в ТОП, а также найдена периодичность в месяцах, с какой каждый пользователь попадал в ТОП-150.  \n",
    "По гистограмме (в которой исключены пользователи, которые попали в Топ только 1 раз, т.к. их можно отнести к группе самых редко попадающих в Топ пользователей) видно, что большинство пользователей попадало в ТОП только 1-2 раза. Достаточно много от 3 до 10, затем показатель сильно снижается. Напишем функцию для разбивки пользователей на группы по количеству раз попадания в ТОП-150 и применим ее для создания нового столбца с указанием номера группы каждого пользователя.  \n",
    "Далее проведена сегментация пользователей на 7 групп по частоте попадания в ТОП-150:  \n",
    "1-\t1 раз ,   \n",
    "2-\t от 1 до 5 раз,   \n",
    "3-\t от 6 до 10 раз,   \n",
    "4-\tот 11 до 25 раз,   \n",
    "5-\t от 26 до 50 раз,   \n",
    "6-\tот 51 до 75 раз,   \n",
    "7-\tболее 76 раз.  \n",
    "К столбцам 'volume','diff','edits','log' применена функцию, посчитано количество пользователей в каждой группе.   \n",
    "Пользователей 1 и 2 группы больше всего, потом этот показатель резко снижается и падает с возрастанием количества раз попадания в ТОП. По средним показателям 'volume','diff','edits','log' наблюдается динамика роста с ростом количества раз попадания пользователя в ТОП. В 5 группе наблюдается повышение количества правок и иных действий при одновременном сокращении объема написанного и написанного за вычетом удаленного.  \n",
    "Посчитана доля пользователей каждой группы относительно общего объема.  \n",
    "Примерно одинаковое количество представителей 1 группы -30,1% и 2 группы - 31,3%; более, чем в 2 раза меньше представителей 3 и 4 группы - 14,1% и 11,8%, соответственно. Те, кто оказался в ТОПе более 50 раз - 5,6%  \n",
    "Также обнаружена динамика, что пользователи, которые чаще попадают в ТОП, делают больше отмен чужих правок. Возможно это связано с большим объемом и количеством написанного, соответственно в большее количество текстом могли внести правки другие пользователи, с которыми автор мог не согласиться. Действительно график изменения общего, объема накопленного по группам очень похож на график отмены чужих правок, что подтверждает предположение. \n",
    "Общий объем накопленного растет в зависимости от количества раз попадания пользователя в ТОП. Также стоит отметить, что в последней группе находятся самые \"старые\" авторы проекта.  \n",
    "Далее пользователи были сегментированы по частоте попадания в ТОП в месяцах (т.е. раз во сколько месяцев в среднем пользователь попадает в ТОП):  \n",
    "1-\tраз в 1 месяц,   \n",
    "2-\tраз в 1 - 2 мес.,   \n",
    "3-\tраз в 2 - 3 мес.,   \n",
    "4-\tраз в 3 – 6 мес.,   \n",
    "5-\tраз в 6 - 12 мес.,  \n",
    "6-\tреже 1 года либо попавшие 1 раз в ТОП.  \n",
    "\n",
    "Эта классификация была применена внутри предыдущей классификации (по количеству раз попадания в ТОП). \n",
    "Было выявлено, что в ТОПе в основном присутствуют пользователи, которые попадают в ТОП не реже 1 раза в 1-3 месяца.  \n",
    "В группе, кто попал в ТОП 2-5 раз почти половина пользователей попадала в него с периодичностью раз в месяц, т.е. им удавалось 2-5 месяцев подряд поддерживать высокий уровень правок и оставаться в ТОПе. Остальная часть примерно одинаково распределена по группам.  \n",
    "В группе, кто попал в ТОП 6-10 раз примерно 1/3 пользователей попадала в него с периодичностью 1-2 раза в месяц.  \n",
    "В группе, кто попал в ТОП 11-25 раз, у большей части периодичностью попадания либо 1-2 раза в месяц или раз в 3.1-6 месяцев.  \n",
    "В группе, кто попал в ТОП 26-50 раз, периодичностью попадания в основном либо раз в 1-2 месяца, либо раз в 3.1-6 месяцев, либо раз в 6.1-12 месяцев.\n",
    "Кто попадал в ТОП 51-75 раз, почти половина пользователей попадала туда раз в 1-2 месяца.  \n",
    "А подавляющее большинство тех, кто попал в ТОП более 75 раз, оказывался там с периодичностью раз в 1-2 месяца.  \n",
    "Т.о., большинство пользователей, которые оказались в ТОПе более 50 раз, имеют стабильно высокий уровень правок, который позволяет им попадать в ТОП раз в 1-2 месяца. Так же, как и у новичков ТОПа, которые побывали в ТОПе 2-5 раз.  \n",
    "\n",
    "Далее анализ велся по таблице votes. Были исключены из выборки те пользователи, которые не имеют право голоса.  \n",
    "В значениях суток от начала голосования были обнаружены нулевые значения, скорее всего связанные с тем, что люди проголосовали до начала голосований раньше времени. Данные по данным пользователям были исключены.  \n",
    "Данные были сгруппированы по дню голосования и найдено количество голосов, отданных в этот день и определено, на сколько % количество голосов \"за\" превышает количество голосов \"против\". Построены графики изменения этих показателей в зависимости от дня голосования.  \n",
    "Максимальное количество голосов отдается в 1 день голосования, потом количество резко падает и продолжает снижаться до 5 дня. После 5 дня начинается небольшой рост. Возможно это связано с тем, что определяются основные претенденты и начинают отдавать голоса, чтобы поддержать их. Это предположение можно подтвердить и тем, что с 5 дня начинают больше голосовать \"за\", чем \"против\".  \n",
    "\n",
    "Посчитано, сколько голосов отдал каждый пользователь и в каком количестве голосований он участвовал. Затем данные были объединены с талицей stats и посчитана доля голосующих, которые попадают в ТОП-150 по количеству правок.  \n",
    "Доля голосующих, которые оказываются в ТОП-150 по правках, составляет 59,8%. Получается, что из числа, кто активно делает правки статей, голосуют лишь чуть больше половины пользователей.  \n",
    "Посчитано в какой группе (в зависимости от количества раз попадания в ТОП за период 2008-2023гг) люди чаще голосуют и в какой отдают больше всего голосов за одно голосование. Возьмем средние значения по группе.  \n",
    "Выяснилось, что чем больше раз пользователь попадает в ТОП, тем в большем количестве голосований он участвует и отдает больше голосов, т.е. делает это системно. Больше всего голосов во время одного голосования отдают те, кто попадал в ТОП от 5 до 10 раз, а меньше всего те, кто попадал в ТОП более 75 раз.  \n",
    "При анализе кандидатов было выявлено, то 37 из них достигали 1 раз необходимого порога 2/3 голосов \"за\" за время участия в выборах, 24 - 2 раза, 9 - 3раза, 3 - 4 раза, 1 - 6 раз.  \n",
    "Также построен график, отображающий количество претендентов, которые достигали необходимо порога 2/3 голосов \"за\" по каждому голосованию (больше всего их было на 9, 12 , 32 голосовании).  \n",
    "\n"
   ]
  }
 ],
 "metadata": {
  "kernelspec": {
   "display_name": "Python 3 (ipykernel)",
   "language": "python",
   "name": "python3"
  },
  "language_info": {
   "codemirror_mode": {
    "name": "ipython",
    "version": 3
   },
   "file_extension": ".py",
   "mimetype": "text/x-python",
   "name": "python",
   "nbconvert_exporter": "python",
   "pygments_lexer": "ipython3",
   "version": "3.11.6"
  }
 },
 "nbformat": 4,
 "nbformat_minor": 4
}
