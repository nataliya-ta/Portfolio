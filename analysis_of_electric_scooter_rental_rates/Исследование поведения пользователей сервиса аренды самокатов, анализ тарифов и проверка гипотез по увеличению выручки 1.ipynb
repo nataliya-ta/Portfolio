{
 "cells": [
  {
   "cell_type": "markdown",
   "id": "401b0490",
   "metadata": {},
   "source": [
    "<b>Проект:</b> Исследование поведения пользователей сервиса аренды самокатов, анализ тарифов и проверка гипотез по увеличению выручки.\n",
    "\n",
    "<b>Цель проекта:</b> проанализировать данные и проверить некоторые гипотезы, которые могут помочь бизнесу вырасти.  "
   ]
  },
  {
   "cell_type": "markdown",
   "id": "b68eb4bc-6ea9-43d2-9014-b9d3bbca7be9",
   "metadata": {},
   "source": [
    "<b>Описание данных:</b>  \n",
    "Для проекта предоставлены данные популярного сервиса аренды самокатов о некоторых пользователях из нескольких городов, а также об их поездках.   \n",
    "Чтобы совершать поездки по городу, пользователи сервиса пользуются мобильным приложением. Сервисом можно пользоваться:  \n",
    "•\tбез подписки   \n",
    "•\tс подпиской Ultra   й Ultra"
   ]
  },
  {
   "cell_type": "code",
   "execution_count": 1,
   "id": "72576667",
   "metadata": {},
   "outputs": [],
   "source": [
    "import pandas as pd\n",
    "import matplotlib.pyplot as plt\n",
    "import numpy as np\n",
    "from scipy import stats as st\n",
    "from math import sqrt\n",
    "from scipy.stats import binom\n",
    "from math import factorial\n"
   ]
  },
  {
   "cell_type": "markdown",
   "id": "c42cbe00",
   "metadata": {},
   "source": [
    "# Загрузка данных"
   ]
  },
  {
   "cell_type": "markdown",
   "id": "e95ebca7",
   "metadata": {},
   "source": [
    "# Предобработка данных"
   ]
  },
  {
   "cell_type": "markdown",
   "id": "0bf57754",
   "metadata": {},
   "source": [
    "Загрузим данные и проанализируем их."
   ]
  },
  {
   "cell_type": "code",
   "execution_count": 3,
   "id": "af6d202c",
   "metadata": {},
   "outputs": [
    {
     "data": {
      "text/html": [
       "<div>\n",
       "<style scoped>\n",
       "    .dataframe tbody tr th:only-of-type {\n",
       "        vertical-align: middle;\n",
       "    }\n",
       "\n",
       "    .dataframe tbody tr th {\n",
       "        vertical-align: top;\n",
       "    }\n",
       "\n",
       "    .dataframe thead th {\n",
       "        text-align: right;\n",
       "    }\n",
       "</style>\n",
       "<table border=\"1\" class=\"dataframe\">\n",
       "  <thead>\n",
       "    <tr style=\"text-align: right;\">\n",
       "      <th></th>\n",
       "      <th>user_id</th>\n",
       "      <th>name</th>\n",
       "      <th>age</th>\n",
       "      <th>city</th>\n",
       "      <th>subscription_type</th>\n",
       "    </tr>\n",
       "  </thead>\n",
       "  <tbody>\n",
       "    <tr>\n",
       "      <th>0</th>\n",
       "      <td>1</td>\n",
       "      <td>Кира</td>\n",
       "      <td>22</td>\n",
       "      <td>Тюмень</td>\n",
       "      <td>ultra</td>\n",
       "    </tr>\n",
       "    <tr>\n",
       "      <th>1</th>\n",
       "      <td>2</td>\n",
       "      <td>Станислав</td>\n",
       "      <td>31</td>\n",
       "      <td>Омск</td>\n",
       "      <td>ultra</td>\n",
       "    </tr>\n",
       "    <tr>\n",
       "      <th>2</th>\n",
       "      <td>3</td>\n",
       "      <td>Алексей</td>\n",
       "      <td>20</td>\n",
       "      <td>Москва</td>\n",
       "      <td>ultra</td>\n",
       "    </tr>\n",
       "    <tr>\n",
       "      <th>3</th>\n",
       "      <td>4</td>\n",
       "      <td>Константин</td>\n",
       "      <td>26</td>\n",
       "      <td>Ростов-на-Дону</td>\n",
       "      <td>ultra</td>\n",
       "    </tr>\n",
       "    <tr>\n",
       "      <th>4</th>\n",
       "      <td>5</td>\n",
       "      <td>Адель</td>\n",
       "      <td>28</td>\n",
       "      <td>Омск</td>\n",
       "      <td>ultra</td>\n",
       "    </tr>\n",
       "    <tr>\n",
       "      <th>...</th>\n",
       "      <td>...</td>\n",
       "      <td>...</td>\n",
       "      <td>...</td>\n",
       "      <td>...</td>\n",
       "      <td>...</td>\n",
       "    </tr>\n",
       "    <tr>\n",
       "      <th>1560</th>\n",
       "      <td>829</td>\n",
       "      <td>Федор</td>\n",
       "      <td>29</td>\n",
       "      <td>Пятигорск</td>\n",
       "      <td>free</td>\n",
       "    </tr>\n",
       "    <tr>\n",
       "      <th>1561</th>\n",
       "      <td>809</td>\n",
       "      <td>Юрий</td>\n",
       "      <td>26</td>\n",
       "      <td>Сочи</td>\n",
       "      <td>free</td>\n",
       "    </tr>\n",
       "    <tr>\n",
       "      <th>1562</th>\n",
       "      <td>307</td>\n",
       "      <td>Ясмина</td>\n",
       "      <td>19</td>\n",
       "      <td>Краснодар</td>\n",
       "      <td>ultra</td>\n",
       "    </tr>\n",
       "    <tr>\n",
       "      <th>1563</th>\n",
       "      <td>47</td>\n",
       "      <td>Юрий</td>\n",
       "      <td>28</td>\n",
       "      <td>Тюмень</td>\n",
       "      <td>ultra</td>\n",
       "    </tr>\n",
       "    <tr>\n",
       "      <th>1564</th>\n",
       "      <td>1045</td>\n",
       "      <td>Артемий</td>\n",
       "      <td>28</td>\n",
       "      <td>Ростов-на-Дону</td>\n",
       "      <td>free</td>\n",
       "    </tr>\n",
       "  </tbody>\n",
       "</table>\n",
       "<p>1565 rows × 5 columns</p>\n",
       "</div>"
      ],
      "text/plain": [
       "      user_id        name  age            city subscription_type\n",
       "0           1        Кира   22          Тюмень             ultra\n",
       "1           2   Станислав   31            Омск             ultra\n",
       "2           3     Алексей   20          Москва             ultra\n",
       "3           4  Константин   26  Ростов-на-Дону             ultra\n",
       "4           5       Адель   28            Омск             ultra\n",
       "...       ...         ...  ...             ...               ...\n",
       "1560      829       Федор   29       Пятигорск              free\n",
       "1561      809        Юрий   26            Сочи              free\n",
       "1562      307      Ясмина   19       Краснодар             ultra\n",
       "1563       47        Юрий   28          Тюмень             ultra\n",
       "1564     1045     Артемий   28  Ростов-на-Дону              free\n",
       "\n",
       "[1565 rows x 5 columns]"
      ]
     },
     "execution_count": 3,
     "metadata": {},
     "output_type": "execute_result"
    }
   ],
   "source": [
    "users_go"
   ]
  },
  {
   "cell_type": "code",
   "execution_count": 4,
   "id": "c2911c69",
   "metadata": {},
   "outputs": [
    {
     "name": "stdout",
     "output_type": "stream",
     "text": [
      "<class 'pandas.core.frame.DataFrame'>\n",
      "RangeIndex: 1565 entries, 0 to 1564\n",
      "Data columns (total 5 columns):\n",
      " #   Column             Non-Null Count  Dtype \n",
      "---  ------             --------------  ----- \n",
      " 0   user_id            1565 non-null   int64 \n",
      " 1   name               1565 non-null   object\n",
      " 2   age                1565 non-null   int64 \n",
      " 3   city               1565 non-null   object\n",
      " 4   subscription_type  1565 non-null   object\n",
      "dtypes: int64(2), object(3)\n",
      "memory usage: 61.3+ KB\n"
     ]
    }
   ],
   "source": [
    "users_go.info()"
   ]
  },
  {
   "cell_type": "code",
   "execution_count": 5,
   "id": "208d8789",
   "metadata": {},
   "outputs": [
    {
     "data": {
      "text/plain": [
       "31"
      ]
     },
     "execution_count": 5,
     "metadata": {},
     "output_type": "execute_result"
    }
   ],
   "source": [
    "users_go.duplicated().sum()"
   ]
  },
  {
   "cell_type": "code",
   "execution_count": 6,
   "id": "8bfae47d",
   "metadata": {},
   "outputs": [],
   "source": [
    "users_go = users_go.drop_duplicates().reset_index(drop=True)"
   ]
  },
  {
   "cell_type": "markdown",
   "id": "8f1e93f9",
   "metadata": {},
   "source": [
    "В users_go пропущенные значения отсутствуют, но были обнаружены дубликаты и удалены. Типы данных соответствуют данным."
   ]
  },
  {
   "cell_type": "code",
   "execution_count": 7,
   "id": "63926be2",
   "metadata": {},
   "outputs": [
    {
     "data": {
      "text/html": [
       "<div>\n",
       "<style scoped>\n",
       "    .dataframe tbody tr th:only-of-type {\n",
       "        vertical-align: middle;\n",
       "    }\n",
       "\n",
       "    .dataframe tbody tr th {\n",
       "        vertical-align: top;\n",
       "    }\n",
       "\n",
       "    .dataframe thead th {\n",
       "        text-align: right;\n",
       "    }\n",
       "</style>\n",
       "<table border=\"1\" class=\"dataframe\">\n",
       "  <thead>\n",
       "    <tr style=\"text-align: right;\">\n",
       "      <th></th>\n",
       "      <th>user_id</th>\n",
       "      <th>distance</th>\n",
       "      <th>duration</th>\n",
       "      <th>date</th>\n",
       "    </tr>\n",
       "  </thead>\n",
       "  <tbody>\n",
       "    <tr>\n",
       "      <th>0</th>\n",
       "      <td>1</td>\n",
       "      <td>4409.919140</td>\n",
       "      <td>25.599769</td>\n",
       "      <td>2021-01-01</td>\n",
       "    </tr>\n",
       "    <tr>\n",
       "      <th>1</th>\n",
       "      <td>1</td>\n",
       "      <td>2617.592153</td>\n",
       "      <td>15.816871</td>\n",
       "      <td>2021-01-18</td>\n",
       "    </tr>\n",
       "    <tr>\n",
       "      <th>2</th>\n",
       "      <td>1</td>\n",
       "      <td>754.159807</td>\n",
       "      <td>6.232113</td>\n",
       "      <td>2021-04-20</td>\n",
       "    </tr>\n",
       "    <tr>\n",
       "      <th>3</th>\n",
       "      <td>1</td>\n",
       "      <td>2694.783254</td>\n",
       "      <td>18.511000</td>\n",
       "      <td>2021-08-11</td>\n",
       "    </tr>\n",
       "    <tr>\n",
       "      <th>4</th>\n",
       "      <td>1</td>\n",
       "      <td>4028.687306</td>\n",
       "      <td>26.265803</td>\n",
       "      <td>2021-08-28</td>\n",
       "    </tr>\n",
       "    <tr>\n",
       "      <th>...</th>\n",
       "      <td>...</td>\n",
       "      <td>...</td>\n",
       "      <td>...</td>\n",
       "      <td>...</td>\n",
       "    </tr>\n",
       "    <tr>\n",
       "      <th>18063</th>\n",
       "      <td>1534</td>\n",
       "      <td>3781.098080</td>\n",
       "      <td>19.822962</td>\n",
       "      <td>2021-11-04</td>\n",
       "    </tr>\n",
       "    <tr>\n",
       "      <th>18064</th>\n",
       "      <td>1534</td>\n",
       "      <td>2840.423057</td>\n",
       "      <td>21.409799</td>\n",
       "      <td>2021-11-16</td>\n",
       "    </tr>\n",
       "    <tr>\n",
       "      <th>18065</th>\n",
       "      <td>1534</td>\n",
       "      <td>3826.185507</td>\n",
       "      <td>18.435051</td>\n",
       "      <td>2021-11-18</td>\n",
       "    </tr>\n",
       "    <tr>\n",
       "      <th>18066</th>\n",
       "      <td>1534</td>\n",
       "      <td>2902.308661</td>\n",
       "      <td>16.674362</td>\n",
       "      <td>2021-11-27</td>\n",
       "    </tr>\n",
       "    <tr>\n",
       "      <th>18067</th>\n",
       "      <td>1534</td>\n",
       "      <td>2371.711192</td>\n",
       "      <td>15.893917</td>\n",
       "      <td>2021-12-29</td>\n",
       "    </tr>\n",
       "  </tbody>\n",
       "</table>\n",
       "<p>18068 rows × 4 columns</p>\n",
       "</div>"
      ],
      "text/plain": [
       "       user_id     distance   duration        date\n",
       "0            1  4409.919140  25.599769  2021-01-01\n",
       "1            1  2617.592153  15.816871  2021-01-18\n",
       "2            1   754.159807   6.232113  2021-04-20\n",
       "3            1  2694.783254  18.511000  2021-08-11\n",
       "4            1  4028.687306  26.265803  2021-08-28\n",
       "...        ...          ...        ...         ...\n",
       "18063     1534  3781.098080  19.822962  2021-11-04\n",
       "18064     1534  2840.423057  21.409799  2021-11-16\n",
       "18065     1534  3826.185507  18.435051  2021-11-18\n",
       "18066     1534  2902.308661  16.674362  2021-11-27\n",
       "18067     1534  2371.711192  15.893917  2021-12-29\n",
       "\n",
       "[18068 rows x 4 columns]"
      ]
     },
     "execution_count": 7,
     "metadata": {},
     "output_type": "execute_result"
    }
   ],
   "source": [
    "rides_go"
   ]
  },
  {
   "cell_type": "code",
   "execution_count": 8,
   "id": "0984d0ac",
   "metadata": {},
   "outputs": [
    {
     "name": "stdout",
     "output_type": "stream",
     "text": [
      "<class 'pandas.core.frame.DataFrame'>\n",
      "RangeIndex: 18068 entries, 0 to 18067\n",
      "Data columns (total 4 columns):\n",
      " #   Column    Non-Null Count  Dtype  \n",
      "---  ------    --------------  -----  \n",
      " 0   user_id   18068 non-null  int64  \n",
      " 1   distance  18068 non-null  float64\n",
      " 2   duration  18068 non-null  float64\n",
      " 3   date      18068 non-null  object \n",
      "dtypes: float64(2), int64(1), object(1)\n",
      "memory usage: 564.8+ KB\n"
     ]
    }
   ],
   "source": [
    "rides_go.info()"
   ]
  },
  {
   "cell_type": "code",
   "execution_count": 9,
   "id": "4a4b65e4",
   "metadata": {},
   "outputs": [],
   "source": [
    "rides_go['date'] = pd.to_datetime(rides_go['date'])"
   ]
  },
  {
   "cell_type": "code",
   "execution_count": 10,
   "id": "0130015a",
   "metadata": {},
   "outputs": [
    {
     "data": {
      "text/plain": [
       "0"
      ]
     },
     "execution_count": 10,
     "metadata": {},
     "output_type": "execute_result"
    }
   ],
   "source": [
    "rides_go.duplicated().sum()"
   ]
  },
  {
   "cell_type": "code",
   "execution_count": 11,
   "id": "2ca4478d",
   "metadata": {},
   "outputs": [],
   "source": [
    "rides_go['month'] = pd.DatetimeIndex(rides_go['date']).month"
   ]
  },
  {
   "cell_type": "markdown",
   "id": "d2a7ab3f",
   "metadata": {},
   "source": [
    "В rides_go пропущенные значения и дубликаты отсутствуют. Столбец 'date' приведен к необходимому типу datetime, другие типы данных соответствуют значениям.\n",
    "создан новый столбец с номером месяца."
   ]
  },
  {
   "cell_type": "code",
   "execution_count": 12,
   "id": "1a497e8d",
   "metadata": {},
   "outputs": [
    {
     "data": {
      "text/html": [
       "<div>\n",
       "<style scoped>\n",
       "    .dataframe tbody tr th:only-of-type {\n",
       "        vertical-align: middle;\n",
       "    }\n",
       "\n",
       "    .dataframe tbody tr th {\n",
       "        vertical-align: top;\n",
       "    }\n",
       "\n",
       "    .dataframe thead th {\n",
       "        text-align: right;\n",
       "    }\n",
       "</style>\n",
       "<table border=\"1\" class=\"dataframe\">\n",
       "  <thead>\n",
       "    <tr style=\"text-align: right;\">\n",
       "      <th></th>\n",
       "      <th>subscription_type</th>\n",
       "      <th>minute_price</th>\n",
       "      <th>start_ride_price</th>\n",
       "      <th>subscription_fee</th>\n",
       "    </tr>\n",
       "  </thead>\n",
       "  <tbody>\n",
       "    <tr>\n",
       "      <th>0</th>\n",
       "      <td>free</td>\n",
       "      <td>8</td>\n",
       "      <td>50</td>\n",
       "      <td>0</td>\n",
       "    </tr>\n",
       "    <tr>\n",
       "      <th>1</th>\n",
       "      <td>ultra</td>\n",
       "      <td>6</td>\n",
       "      <td>0</td>\n",
       "      <td>199</td>\n",
       "    </tr>\n",
       "  </tbody>\n",
       "</table>\n",
       "</div>"
      ],
      "text/plain": [
       "  subscription_type  minute_price  start_ride_price  subscription_fee\n",
       "0              free             8                50                 0\n",
       "1             ultra             6                 0               199"
      ]
     },
     "execution_count": 12,
     "metadata": {},
     "output_type": "execute_result"
    }
   ],
   "source": [
    "subscriptions_go"
   ]
  },
  {
   "cell_type": "code",
   "execution_count": 13,
   "id": "34fc8a3e",
   "metadata": {},
   "outputs": [
    {
     "name": "stdout",
     "output_type": "stream",
     "text": [
      "<class 'pandas.core.frame.DataFrame'>\n",
      "RangeIndex: 2 entries, 0 to 1\n",
      "Data columns (total 4 columns):\n",
      " #   Column             Non-Null Count  Dtype \n",
      "---  ------             --------------  ----- \n",
      " 0   subscription_type  2 non-null      object\n",
      " 1   minute_price       2 non-null      int64 \n",
      " 2   start_ride_price   2 non-null      int64 \n",
      " 3   subscription_fee   2 non-null      int64 \n",
      "dtypes: int64(3), object(1)\n",
      "memory usage: 196.0+ bytes\n"
     ]
    }
   ],
   "source": [
    "subscriptions_go.info()"
   ]
  },
  {
   "cell_type": "markdown",
   "id": "05a70b32",
   "metadata": {},
   "source": [
    "В subscriptions_go некорректных данных не обнаружено."
   ]
  },
  {
   "cell_type": "markdown",
   "id": "212593c7",
   "metadata": {},
   "source": [
    "# Исследовательский анализ данных"
   ]
  },
  {
   "cell_type": "markdown",
   "id": "36ba6bbd",
   "metadata": {},
   "source": [
    "Опишем и визуализируем общую информацию о пользователях и поездках:\n",
    "\n"
   ]
  },
  {
   "cell_type": "markdown",
   "id": "0a7a0d59",
   "metadata": {},
   "source": [
    "## Частота встречаемости городов."
   ]
  },
  {
   "cell_type": "code",
   "execution_count": 14,
   "id": "0d32904c",
   "metadata": {},
   "outputs": [
    {
     "data": {
      "text/plain": [
       "city\n",
       "Пятигорск         219\n",
       "Екатеринбург      204\n",
       "Ростов-на-Дону    198\n",
       "Краснодар         193\n",
       "Сочи              189\n",
       "Омск              183\n",
       "Тюмень            180\n",
       "Москва            168\n",
       "Name: user_id, dtype: int64"
      ]
     },
     "execution_count": 14,
     "metadata": {},
     "output_type": "execute_result"
    }
   ],
   "source": [
    "users_go.groupby('city')['user_id'].count().sort_values(ascending=False)"
   ]
  },
  {
   "cell_type": "code",
   "execution_count": 15,
   "id": "e3a4274c",
   "metadata": {},
   "outputs": [
    {
     "data": {
      "image/png": "[encoded data removed]",
      "text/plain": [
       "<Figure size 640x480 with 1 Axes>"
      ]
     },
     "metadata": {},
     "output_type": "display_data"
    }
   ],
   "source": [
    "users_go.groupby('city')['user_id'].count().sort_values(ascending=False)\\\n",
    "        .plot(kind='bar',grid='True',title='Распределение пользователей по городам')\n",
    "plt.xlabel('Город')\n",
    "plt.ylabel('Количество пользователей');"
   ]
  },
  {
   "cell_type": "markdown",
   "id": "7f44c175",
   "metadata": {},
   "source": [
    "Количество пользователей во всех предаствленных 8 городах лежит в диапазоне от 168 до 219. Больше всего пользователей в Пятигорске и Екатеринбурге, меньше всего в Москве и Тюмени."
   ]
  },
  {
   "cell_type": "markdown",
   "id": "2cbbe9ee",
   "metadata": {},
   "source": [
    "## Соотношение пользователей с подпиской и без подписки."
   ]
  },
  {
   "cell_type": "code",
   "execution_count": 16,
   "id": "415b0867",
   "metadata": {},
   "outputs": [
    {
     "data": {
      "text/plain": [
       "subscription_type\n",
       "free     835\n",
       "ultra    699\n",
       "Name: user_id, dtype: int64"
      ]
     },
     "execution_count": 16,
     "metadata": {},
     "output_type": "execute_result"
    }
   ],
   "source": [
    "users_go.groupby(['subscription_type'])['user_id'].count()"
   ]
  },
  {
   "cell_type": "code",
   "execution_count": 17,
   "id": "5f03782b",
   "metadata": {},
   "outputs": [
    {
     "data": {
      "image/png": "[encoded data removed]",
      "text/plain": [
       "<Figure size 640x480 with 1 Axes>"
      ]
     },
     "metadata": {},
     "output_type": "display_data"
    }
   ],
   "source": [
    "users_go.groupby(['subscription_type']).count()\\\n",
    ".plot(kind='pie', autopct='%.1f%%',y='user_id',title='Распределение количества пользователей по типу подписки');\n"
   ]
  },
  {
   "cell_type": "markdown",
   "id": "9da097cf",
   "metadata": {},
   "source": [
    "54,4% составляют пользователи с подпиской  45,6% - без подписки."
   ]
  },
  {
   "cell_type": "markdown",
   "id": "32a8b3e7",
   "metadata": {},
   "source": [
    "## Соотношение по возрасту пользователей."
   ]
  },
  {
   "cell_type": "code",
   "execution_count": 18,
   "id": "0590b948",
   "metadata": {},
   "outputs": [
    {
     "data": {
      "image/png": "[encoded data removed]",
      "text/plain": [
       "<Figure size 640x480 with 1 Axes>"
      ]
     },
     "metadata": {},
     "output_type": "display_data"
    }
   ],
   "source": [
    "users_go.groupby('age')['user_id'].count().plot(kind='bar',grid='True',title='Распределение пользователей по возрасту')\n",
    "plt.xlabel('Возраст')\n",
    "plt.ylabel('Количество пользователей');"
   ]
  },
  {
   "cell_type": "markdown",
   "id": "5bc7b7d2",
   "metadata": {},
   "source": [
    "Как мы видим по графику, среди пользователей есть несовершеннолетние пользователи, посчитаем долю поездок, совершенных этими пользователями."
   ]
  },
  {
   "cell_type": "code",
   "execution_count": 19,
   "id": "214640f1",
   "metadata": {},
   "outputs": [
    {
     "data": {
      "text/plain": [
       "0.051499348109517604"
      ]
     },
     "execution_count": 19,
     "metadata": {},
     "output_type": "execute_result"
    }
   ],
   "source": [
    "users_go.query('age >= 12 and age <=17')['user_id'].count()/users_go['user_id'].count()"
   ]
  },
  {
   "cell_type": "markdown",
   "id": "37c16bea",
   "metadata": {},
   "source": [
    "Распределение количества пользователей по возрасту близко к нормальному. Максимальное количество пользователей попадает в интервал от 21 до 28 лет с пиком - 25 лет, и планомерно уменьшается в большую и меньшую сторону до 43 и 12 лет, соответственно.\n",
    "Также нужно отметить, что среди пользователей присутствует категория несовершеннолетних пользователей в возрасте от 12 до 17 лет. Их доля составляет 5.15% от общего числа поездок, совершенных всеми пользователями."
   ]
  },
  {
   "cell_type": "markdown",
   "id": "3287a611",
   "metadata": {},
   "source": [
    "## Расстояние, которое пользователь преодолел за одну поездку."
   ]
  },
  {
   "cell_type": "code",
   "execution_count": 20,
   "id": "6e039f21",
   "metadata": {},
   "outputs": [
    {
     "data": {
      "image/png": "[encoded data removed]",
      "text/plain": [
       "<Figure size 1200x600 with 1 Axes>"
      ]
     },
     "metadata": {},
     "output_type": "display_data"
    }
   ],
   "source": [
    "plt.figure(figsize=(12,6))\n",
    "rides_go['distance'].plot(kind='hist',bins=50,title='Распределение пользователей по расстоянию 1 поездки')\n",
    "plt.xlabel('Расстояние,м')\n",
    "plt.ylabel('Количество пользователей');"
   ]
  },
  {
   "cell_type": "markdown",
   "id": "311af78a",
   "metadata": {},
   "source": [
    "Большинство пользователей преодолевает за 1 поездку от 2 до 4,5 км. Из них максимальное количество людей - от 2,5 до 3,5 км. Также стоит отметить, что выделяется категория, которая преодолевает небольшое расстояние - до 1,5 км. Скорее всего это люди, которые берут самокаты просто попробовать использование, прокатиться без определенной цели или возможно не разобрались, как пользоваться самокатом, или не понравилось использование. "
   ]
  },
  {
   "cell_type": "markdown",
   "id": "5b019dd9",
   "metadata": {},
   "source": [
    "## Продолжительность поездок."
   ]
  },
  {
   "cell_type": "code",
   "execution_count": 21,
   "id": "42763732",
   "metadata": {},
   "outputs": [
    {
     "data": {
      "image/png": "[encoded data removed]",
      "text/plain": [
       "<Figure size 1200x600 with 1 Axes>"
      ]
     },
     "metadata": {},
     "output_type": "display_data"
    }
   ],
   "source": [
    "plt.figure(figsize=(12,6))\n",
    "rides_go['duration'].plot(kind='hist',bins=50,title='Распределение по длительности поездки')\n",
    "plt.xlabel('Длительность поездки,мин')\n",
    "plt.ylabel('Количество пользователей');"
   ]
  },
  {
   "cell_type": "markdown",
   "id": "f75bebb7",
   "metadata": {},
   "source": [
    "Проверим также столбец длительности поездок на аномалии и расчитаем их доли в общем объеме."
   ]
  },
  {
   "cell_type": "code",
   "execution_count": 22,
   "id": "a88ec00b",
   "metadata": {},
   "outputs": [
    {
     "data": {
      "image/png": "[encoded data removed]",
      "text/plain": [
       "<Figure size 640x480 with 1 Axes>"
      ]
     },
     "metadata": {},
     "output_type": "display_data"
    }
   ],
   "source": [
    "rides_go.boxplot(column='duration')\n",
    "plt.title('Даграмма размаха длительности поездок')\n",
    "plt.ylabel('Длительность поездки,мин')\n",
    "plt.show()"
   ]
  },
  {
   "cell_type": "code",
   "execution_count": 23,
   "id": "a7ee3c7e",
   "metadata": {},
   "outputs": [
    {
     "data": {
      "text/plain": [
       "0.06192959582790091"
      ]
     },
     "execution_count": 23,
     "metadata": {},
     "output_type": "execute_result"
    }
   ],
   "source": [
    "rides_go.query('duration <= 2')['user_id'].count()/users_go['user_id'].count()"
   ]
  },
  {
   "cell_type": "code",
   "execution_count": 24,
   "id": "1bb3b4e7",
   "metadata": {},
   "outputs": [
    {
     "data": {
      "text/plain": [
       "0.04889178617992177"
      ]
     },
     "execution_count": 24,
     "metadata": {},
     "output_type": "execute_result"
    }
   ],
   "source": [
    "rides_go.query('duration > 34')['user_id'].count()/users_go['user_id'].count()"
   ]
  },
  {
   "cell_type": "markdown",
   "id": "2ac96a6c",
   "metadata": {},
   "source": [
    "Продолжительность поездок примерно повторяет график распределения расстояния поездок. Основная часть пользователей пользуется самокатами от 9 до 27 минут (с пиком в интервале от 13 до 22 минут).\n",
    "\n",
    "Также при проверке на аномально большие и маленькие значение обнаружилось, что среди пользователей есть такие, чье время использования самоката составляет примерно 1-2 минуты(доля таких поездок 6.19% от общего количества). Скорее всего это те, кто не смог разобраться, как пользоваться самокатом и отказался от поездки. Также вижно, что изредка пользователи совершают длительные поездки (в интервале 34-43 минуты), что превышает нормальные значения продолжительности поездки(доля таких поездок 4.89% от общего количества)."
   ]
  },
  {
   "cell_type": "markdown",
   "id": "4ef51331",
   "metadata": {},
   "source": [
    "# Объединение данных и визуализация информации о расстоянии и времени поездок для пользователей с подпиской и без."
   ]
  },
  {
   "cell_type": "markdown",
   "id": "cc33ed89",
   "metadata": {},
   "source": [
    "Объединим данные о пользователях, поездках и подписках в один датафрейм. Для этого воспользуемся методом merge()."
   ]
  },
  {
   "cell_type": "code",
   "execution_count": 25,
   "id": "6bf288b5",
   "metadata": {},
   "outputs": [],
   "source": [
    "all_data = rides_go.merge(users_go, on='user_id',how='left').merge(subscriptions_go, on='subscription_type',how='left')"
   ]
  },
  {
   "cell_type": "code",
   "execution_count": 26,
   "id": "af0e6aa8",
   "metadata": {},
   "outputs": [
    {
     "data": {
      "text/html": [
       "<div>\n",
       "<style scoped>\n",
       "    .dataframe tbody tr th:only-of-type {\n",
       "        vertical-align: middle;\n",
       "    }\n",
       "\n",
       "    .dataframe tbody tr th {\n",
       "        vertical-align: top;\n",
       "    }\n",
       "\n",
       "    .dataframe thead th {\n",
       "        text-align: right;\n",
       "    }\n",
       "</style>\n",
       "<table border=\"1\" class=\"dataframe\">\n",
       "  <thead>\n",
       "    <tr style=\"text-align: right;\">\n",
       "      <th></th>\n",
       "      <th>user_id</th>\n",
       "      <th>distance</th>\n",
       "      <th>duration</th>\n",
       "      <th>date</th>\n",
       "      <th>month</th>\n",
       "      <th>name</th>\n",
       "      <th>age</th>\n",
       "      <th>city</th>\n",
       "      <th>subscription_type</th>\n",
       "      <th>minute_price</th>\n",
       "      <th>start_ride_price</th>\n",
       "      <th>subscription_fee</th>\n",
       "    </tr>\n",
       "  </thead>\n",
       "  <tbody>\n",
       "    <tr>\n",
       "      <th>0</th>\n",
       "      <td>1</td>\n",
       "      <td>4409.919140</td>\n",
       "      <td>25.599769</td>\n",
       "      <td>2021-01-01</td>\n",
       "      <td>1</td>\n",
       "      <td>Кира</td>\n",
       "      <td>22</td>\n",
       "      <td>Тюмень</td>\n",
       "      <td>ultra</td>\n",
       "      <td>6</td>\n",
       "      <td>0</td>\n",
       "      <td>199</td>\n",
       "    </tr>\n",
       "    <tr>\n",
       "      <th>1</th>\n",
       "      <td>1</td>\n",
       "      <td>2617.592153</td>\n",
       "      <td>15.816871</td>\n",
       "      <td>2021-01-18</td>\n",
       "      <td>1</td>\n",
       "      <td>Кира</td>\n",
       "      <td>22</td>\n",
       "      <td>Тюмень</td>\n",
       "      <td>ultra</td>\n",
       "      <td>6</td>\n",
       "      <td>0</td>\n",
       "      <td>199</td>\n",
       "    </tr>\n",
       "    <tr>\n",
       "      <th>2</th>\n",
       "      <td>1</td>\n",
       "      <td>754.159807</td>\n",
       "      <td>6.232113</td>\n",
       "      <td>2021-04-20</td>\n",
       "      <td>4</td>\n",
       "      <td>Кира</td>\n",
       "      <td>22</td>\n",
       "      <td>Тюмень</td>\n",
       "      <td>ultra</td>\n",
       "      <td>6</td>\n",
       "      <td>0</td>\n",
       "      <td>199</td>\n",
       "    </tr>\n",
       "    <tr>\n",
       "      <th>3</th>\n",
       "      <td>1</td>\n",
       "      <td>2694.783254</td>\n",
       "      <td>18.511000</td>\n",
       "      <td>2021-08-11</td>\n",
       "      <td>8</td>\n",
       "      <td>Кира</td>\n",
       "      <td>22</td>\n",
       "      <td>Тюмень</td>\n",
       "      <td>ultra</td>\n",
       "      <td>6</td>\n",
       "      <td>0</td>\n",
       "      <td>199</td>\n",
       "    </tr>\n",
       "    <tr>\n",
       "      <th>4</th>\n",
       "      <td>1</td>\n",
       "      <td>4028.687306</td>\n",
       "      <td>26.265803</td>\n",
       "      <td>2021-08-28</td>\n",
       "      <td>8</td>\n",
       "      <td>Кира</td>\n",
       "      <td>22</td>\n",
       "      <td>Тюмень</td>\n",
       "      <td>ultra</td>\n",
       "      <td>6</td>\n",
       "      <td>0</td>\n",
       "      <td>199</td>\n",
       "    </tr>\n",
       "    <tr>\n",
       "      <th>...</th>\n",
       "      <td>...</td>\n",
       "      <td>...</td>\n",
       "      <td>...</td>\n",
       "      <td>...</td>\n",
       "      <td>...</td>\n",
       "      <td>...</td>\n",
       "      <td>...</td>\n",
       "      <td>...</td>\n",
       "      <td>...</td>\n",
       "      <td>...</td>\n",
       "      <td>...</td>\n",
       "      <td>...</td>\n",
       "    </tr>\n",
       "    <tr>\n",
       "      <th>18063</th>\n",
       "      <td>1534</td>\n",
       "      <td>3781.098080</td>\n",
       "      <td>19.822962</td>\n",
       "      <td>2021-11-04</td>\n",
       "      <td>11</td>\n",
       "      <td>Альберт</td>\n",
       "      <td>25</td>\n",
       "      <td>Краснодар</td>\n",
       "      <td>free</td>\n",
       "      <td>8</td>\n",
       "      <td>50</td>\n",
       "      <td>0</td>\n",
       "    </tr>\n",
       "    <tr>\n",
       "      <th>18064</th>\n",
       "      <td>1534</td>\n",
       "      <td>2840.423057</td>\n",
       "      <td>21.409799</td>\n",
       "      <td>2021-11-16</td>\n",
       "      <td>11</td>\n",
       "      <td>Альберт</td>\n",
       "      <td>25</td>\n",
       "      <td>Краснодар</td>\n",
       "      <td>free</td>\n",
       "      <td>8</td>\n",
       "      <td>50</td>\n",
       "      <td>0</td>\n",
       "    </tr>\n",
       "    <tr>\n",
       "      <th>18065</th>\n",
       "      <td>1534</td>\n",
       "      <td>3826.185507</td>\n",
       "      <td>18.435051</td>\n",
       "      <td>2021-11-18</td>\n",
       "      <td>11</td>\n",
       "      <td>Альберт</td>\n",
       "      <td>25</td>\n",
       "      <td>Краснодар</td>\n",
       "      <td>free</td>\n",
       "      <td>8</td>\n",
       "      <td>50</td>\n",
       "      <td>0</td>\n",
       "    </tr>\n",
       "    <tr>\n",
       "      <th>18066</th>\n",
       "      <td>1534</td>\n",
       "      <td>2902.308661</td>\n",
       "      <td>16.674362</td>\n",
       "      <td>2021-11-27</td>\n",
       "      <td>11</td>\n",
       "      <td>Альберт</td>\n",
       "      <td>25</td>\n",
       "      <td>Краснодар</td>\n",
       "      <td>free</td>\n",
       "      <td>8</td>\n",
       "      <td>50</td>\n",
       "      <td>0</td>\n",
       "    </tr>\n",
       "    <tr>\n",
       "      <th>18067</th>\n",
       "      <td>1534</td>\n",
       "      <td>2371.711192</td>\n",
       "      <td>15.893917</td>\n",
       "      <td>2021-12-29</td>\n",
       "      <td>12</td>\n",
       "      <td>Альберт</td>\n",
       "      <td>25</td>\n",
       "      <td>Краснодар</td>\n",
       "      <td>free</td>\n",
       "      <td>8</td>\n",
       "      <td>50</td>\n",
       "      <td>0</td>\n",
       "    </tr>\n",
       "  </tbody>\n",
       "</table>\n",
       "<p>18068 rows × 12 columns</p>\n",
       "</div>"
      ],
      "text/plain": [
       "       user_id     distance   duration       date  month     name  age  \\\n",
       "0            1  4409.919140  25.599769 2021-01-01      1     Кира   22   \n",
       "1            1  2617.592153  15.816871 2021-01-18      1     Кира   22   \n",
       "2            1   754.159807   6.232113 2021-04-20      4     Кира   22   \n",
       "3            1  2694.783254  18.511000 2021-08-11      8     Кира   22   \n",
       "4            1  4028.687306  26.265803 2021-08-28      8     Кира   22   \n",
       "...        ...          ...        ...        ...    ...      ...  ...   \n",
       "18063     1534  3781.098080  19.822962 2021-11-04     11  Альберт   25   \n",
       "18064     1534  2840.423057  21.409799 2021-11-16     11  Альберт   25   \n",
       "18065     1534  3826.185507  18.435051 2021-11-18     11  Альберт   25   \n",
       "18066     1534  2902.308661  16.674362 2021-11-27     11  Альберт   25   \n",
       "18067     1534  2371.711192  15.893917 2021-12-29     12  Альберт   25   \n",
       "\n",
       "            city subscription_type  minute_price  start_ride_price  \\\n",
       "0         Тюмень             ultra             6                 0   \n",
       "1         Тюмень             ultra             6                 0   \n",
       "2         Тюмень             ultra             6                 0   \n",
       "3         Тюмень             ultra             6                 0   \n",
       "4         Тюмень             ultra             6                 0   \n",
       "...          ...               ...           ...               ...   \n",
       "18063  Краснодар              free             8                50   \n",
       "18064  Краснодар              free             8                50   \n",
       "18065  Краснодар              free             8                50   \n",
       "18066  Краснодар              free             8                50   \n",
       "18067  Краснодар              free             8                50   \n",
       "\n",
       "       subscription_fee  \n",
       "0                   199  \n",
       "1                   199  \n",
       "2                   199  \n",
       "3                   199  \n",
       "4                   199  \n",
       "...                 ...  \n",
       "18063                 0  \n",
       "18064                 0  \n",
       "18065                 0  \n",
       "18066                 0  \n",
       "18067                 0  \n",
       "\n",
       "[18068 rows x 12 columns]"
      ]
     },
     "execution_count": 26,
     "metadata": {},
     "output_type": "execute_result"
    }
   ],
   "source": [
    "all_data"
   ]
  },
  {
   "cell_type": "code",
   "execution_count": 27,
   "id": "4d5c5eec",
   "metadata": {},
   "outputs": [
    {
     "name": "stdout",
     "output_type": "stream",
     "text": [
      "<class 'pandas.core.frame.DataFrame'>\n",
      "RangeIndex: 18068 entries, 0 to 18067\n",
      "Data columns (total 12 columns):\n",
      " #   Column             Non-Null Count  Dtype         \n",
      "---  ------             --------------  -----         \n",
      " 0   user_id            18068 non-null  int64         \n",
      " 1   distance           18068 non-null  float64       \n",
      " 2   duration           18068 non-null  float64       \n",
      " 3   date               18068 non-null  datetime64[ns]\n",
      " 4   month              18068 non-null  int32         \n",
      " 5   name               18068 non-null  object        \n",
      " 6   age                18068 non-null  int64         \n",
      " 7   city               18068 non-null  object        \n",
      " 8   subscription_type  18068 non-null  object        \n",
      " 9   minute_price       18068 non-null  int64         \n",
      " 10  start_ride_price   18068 non-null  int64         \n",
      " 11  subscription_fee   18068 non-null  int64         \n",
      "dtypes: datetime64[ns](1), float64(2), int32(1), int64(5), object(3)\n",
      "memory usage: 1.6+ MB\n"
     ]
    }
   ],
   "source": [
    "all_data.info()"
   ]
  },
  {
   "cell_type": "markdown",
   "id": "5158309f",
   "metadata": {},
   "source": [
    "В созданном датафрейме отсутствуют пропуски. Количество строк в нем равено количеству строк в rides_go, т.к. слияние производилось именно по активным пользователям, которые совершали поездки.   "
   ]
  },
  {
   "cell_type": "markdown",
   "id": "49893f6b",
   "metadata": {},
   "source": [
    "Создадим ещё два датафрейма из датафрейма, созданного выше:\n",
    "•\tc данными о пользователях без подписки;\n",
    "•\tс данными о пользователях с подпиской\n"
   ]
  },
  {
   "cell_type": "code",
   "execution_count": 28,
   "id": "130a14f4",
   "metadata": {},
   "outputs": [],
   "source": [
    "all_data_free = all_data.query('subscription_type == \"free\"')"
   ]
  },
  {
   "cell_type": "code",
   "execution_count": 29,
   "id": "f2cbca35",
   "metadata": {},
   "outputs": [],
   "source": [
    "all_data_ultra = all_data.query('subscription_type == \"ultra\"')"
   ]
  },
  {
   "cell_type": "markdown",
   "id": "75a8594f",
   "metadata": {},
   "source": [
    "Визуализируем информацию о расстоянии и времени поездок для пользователей обеих категорий."
   ]
  },
  {
   "cell_type": "code",
   "execution_count": 30,
   "id": "653b0ccd",
   "metadata": {},
   "outputs": [
    {
     "data": {
      "image/png": "[encoded data removed]",
      "text/plain": [
       "<Figure size 1200x600 with 1 Axes>"
      ]
     },
     "metadata": {},
     "output_type": "display_data"
    }
   ],
   "source": [
    "plt.figure(figsize=(12,6))\n",
    "plt.hist(all_data_free['distance'],bins=50,label='free')\n",
    "plt.hist(all_data_ultra['distance'],bins=50,label='ultra')\n",
    "plt.axvline (x=np.nanmedian(all_data_free['distance']), color='red', linestyle='--', label='median_free') \n",
    "plt.axvline (x=np.nanmedian(all_data_ultra['distance']), color='green', linestyle='--', label='median_ultra') \n",
    "plt.legend()\n",
    "plt.title('Распределение по расстоянию 1 поездки для клиентов с подпиской и без подписки')\n",
    "plt.xlabel('Расстояние,м')\n",
    "plt.ylabel('Количество пользователей');"
   ]
  },
  {
   "cell_type": "code",
   "execution_count": 31,
   "id": "598df7e2-ace7-4e84-95ce-318def30aec2",
   "metadata": {},
   "outputs": [
    {
     "data": {
      "text/plain": [
       "3114.648464847295"
      ]
     },
     "execution_count": 31,
     "metadata": {},
     "output_type": "execute_result"
    }
   ],
   "source": [
    "all_data_free['distance'].median()"
   ]
  },
  {
   "cell_type": "code",
   "execution_count": 32,
   "id": "301a74e6-4f4a-4901-aece-05406649e18f",
   "metadata": {},
   "outputs": [
    {
     "data": {
      "text/plain": [
       "3148.6372291760854"
      ]
     },
     "execution_count": 32,
     "metadata": {},
     "output_type": "execute_result"
    }
   ],
   "source": [
    "all_data_ultra['distance'].median()"
   ]
  },
  {
   "cell_type": "markdown",
   "id": "7878bc6f",
   "metadata": {},
   "source": [
    "По графикам видно, что клиенты с подпиской имеют более узкие диапазоны по расстоянию поездок. Короткие поездки до 2 км. И более длительные от 2 до 5-5,5км. с пиком в интервале 2,7-3,3 км (медианное значение - 3148.6 м.) \n",
    "\n",
    "Без подписки: короткие поездки составляют расстояние до 1.3 км., а длительные распределены от 1,3км. до 7км., с пиком в интервале примерно 2,2-4,4 км.(медианное значение - 3114.6 м.) "
   ]
  },
  {
   "cell_type": "code",
   "execution_count": 33,
   "id": "c324ecc7",
   "metadata": {},
   "outputs": [
    {
     "data": {
      "image/png": "[encoded data removed]",
      "text/plain": [
       "<Figure size 1200x600 with 1 Axes>"
      ]
     },
     "metadata": {},
     "output_type": "display_data"
    }
   ],
   "source": [
    "plt.figure(figsize=(12,6))\n",
    "plt.hist(all_data_free['duration'],bins=50,label='free')\n",
    "plt.hist(all_data_ultra['duration'],bins=50,label='ultra')\n",
    "plt.axvline (x=np.nanmedian(all_data_free['duration']), color='red', linestyle='--', label='median_free') \n",
    "plt.axvline (x=np.nanmedian(all_data_ultra['duration']), color='green', linestyle='--', label='median_ultra') \n",
    "plt.legend()\n",
    "plt.title('Распределение по длительности 1 поездки для клиентов с подпиской и без подписки')\n",
    "plt.xlabel('Длительность поездки,мин')\n",
    "plt.ylabel('Количество пользователей');"
   ]
  },
  {
   "cell_type": "code",
   "execution_count": 34,
   "id": "93405a9c-088d-43d8-9d22-dc23039594d4",
   "metadata": {},
   "outputs": [
    {
     "data": {
      "text/plain": [
       "17.326890226082043"
      ]
     },
     "execution_count": 34,
     "metadata": {},
     "output_type": "execute_result"
    }
   ],
   "source": [
    "all_data_free['duration'].median()"
   ]
  },
  {
   "cell_type": "code",
   "execution_count": 35,
   "id": "d291e9ee-2125-4505-8497-52b8ae4fe2e7",
   "metadata": {},
   "outputs": [
    {
     "data": {
      "text/plain": [
       "18.17815320055055"
      ]
     },
     "execution_count": 35,
     "metadata": {},
     "output_type": "execute_result"
    }
   ],
   "source": [
    "all_data_ultra['duration'].median()"
   ]
  },
  {
   "cell_type": "markdown",
   "id": "8036d0fb",
   "metadata": {},
   "source": [
    "Длительность поездок напрямую связана с расстоянием поездок. \n",
    "У пользователей с подпиской: длительность поездок распределяется от 4 до 40 мин. Большинство поездок составляет от 11 до 25 минут (пик - 11 до 23 минут, медиана - 18,18 мин).  \n",
    "У пользователей без подписки: как раз выделяется категория, которая использовала самокат в пределах 1 минуты, т.е. новички, которые либо не разобрались, как пользоваться самокатом или отказались от использования после активации. Длительность остальных пользователей этой категории от 2 до 35 минут. Большинство используют самокат 11-27 минуты(максимальное количество - 13-23 минут, также, как и пользователи с подпиской, медианное значение - 17,33 мин.)."
   ]
  },
  {
   "cell_type": "markdown",
   "id": "402d620f",
   "metadata": {},
   "source": [
    "# Подсчёт выручки"
   ]
  },
  {
   "cell_type": "markdown",
   "id": "60d020b4",
   "metadata": {},
   "source": [
    "Создадим датафрейм с агрегированными данными о поездках на основе датафрейма с объединёнными данными all_data: найдем суммарное расстояние, количество поездок и суммарное время для каждого пользователя за каждый месяц. Продолжительность каждой поездки в каждой строке исходного датафрейма для подсчёта стоимости округлим до следующего целого числа."
   ]
  },
  {
   "cell_type": "code",
   "execution_count": 36,
   "id": "4a360601",
   "metadata": {},
   "outputs": [],
   "source": [
    "all_data['duration'] = np.ceil(all_data['duration']) "
   ]
  },
  {
   "cell_type": "code",
   "execution_count": 37,
   "id": "6f1ad31f",
   "metadata": {},
   "outputs": [
    {
     "data": {
      "text/html": [
       "<div>\n",
       "<style scoped>\n",
       "    .dataframe tbody tr th:only-of-type {\n",
       "        vertical-align: middle;\n",
       "    }\n",
       "\n",
       "    .dataframe tbody tr th {\n",
       "        vertical-align: top;\n",
       "    }\n",
       "\n",
       "    .dataframe thead th {\n",
       "        text-align: right;\n",
       "    }\n",
       "</style>\n",
       "<table border=\"1\" class=\"dataframe\">\n",
       "  <thead>\n",
       "    <tr style=\"text-align: right;\">\n",
       "      <th></th>\n",
       "      <th>user_id</th>\n",
       "      <th>distance</th>\n",
       "      <th>duration</th>\n",
       "      <th>date</th>\n",
       "      <th>month</th>\n",
       "      <th>name</th>\n",
       "      <th>age</th>\n",
       "      <th>city</th>\n",
       "      <th>subscription_type</th>\n",
       "      <th>minute_price</th>\n",
       "      <th>start_ride_price</th>\n",
       "      <th>subscription_fee</th>\n",
       "    </tr>\n",
       "  </thead>\n",
       "  <tbody>\n",
       "    <tr>\n",
       "      <th>0</th>\n",
       "      <td>1</td>\n",
       "      <td>4409.919140</td>\n",
       "      <td>26.0</td>\n",
       "      <td>2021-01-01</td>\n",
       "      <td>1</td>\n",
       "      <td>Кира</td>\n",
       "      <td>22</td>\n",
       "      <td>Тюмень</td>\n",
       "      <td>ultra</td>\n",
       "      <td>6</td>\n",
       "      <td>0</td>\n",
       "      <td>199</td>\n",
       "    </tr>\n",
       "    <tr>\n",
       "      <th>1</th>\n",
       "      <td>1</td>\n",
       "      <td>2617.592153</td>\n",
       "      <td>16.0</td>\n",
       "      <td>2021-01-18</td>\n",
       "      <td>1</td>\n",
       "      <td>Кира</td>\n",
       "      <td>22</td>\n",
       "      <td>Тюмень</td>\n",
       "      <td>ultra</td>\n",
       "      <td>6</td>\n",
       "      <td>0</td>\n",
       "      <td>199</td>\n",
       "    </tr>\n",
       "    <tr>\n",
       "      <th>2</th>\n",
       "      <td>1</td>\n",
       "      <td>754.159807</td>\n",
       "      <td>7.0</td>\n",
       "      <td>2021-04-20</td>\n",
       "      <td>4</td>\n",
       "      <td>Кира</td>\n",
       "      <td>22</td>\n",
       "      <td>Тюмень</td>\n",
       "      <td>ultra</td>\n",
       "      <td>6</td>\n",
       "      <td>0</td>\n",
       "      <td>199</td>\n",
       "    </tr>\n",
       "    <tr>\n",
       "      <th>3</th>\n",
       "      <td>1</td>\n",
       "      <td>2694.783254</td>\n",
       "      <td>19.0</td>\n",
       "      <td>2021-08-11</td>\n",
       "      <td>8</td>\n",
       "      <td>Кира</td>\n",
       "      <td>22</td>\n",
       "      <td>Тюмень</td>\n",
       "      <td>ultra</td>\n",
       "      <td>6</td>\n",
       "      <td>0</td>\n",
       "      <td>199</td>\n",
       "    </tr>\n",
       "    <tr>\n",
       "      <th>4</th>\n",
       "      <td>1</td>\n",
       "      <td>4028.687306</td>\n",
       "      <td>27.0</td>\n",
       "      <td>2021-08-28</td>\n",
       "      <td>8</td>\n",
       "      <td>Кира</td>\n",
       "      <td>22</td>\n",
       "      <td>Тюмень</td>\n",
       "      <td>ultra</td>\n",
       "      <td>6</td>\n",
       "      <td>0</td>\n",
       "      <td>199</td>\n",
       "    </tr>\n",
       "    <tr>\n",
       "      <th>...</th>\n",
       "      <td>...</td>\n",
       "      <td>...</td>\n",
       "      <td>...</td>\n",
       "      <td>...</td>\n",
       "      <td>...</td>\n",
       "      <td>...</td>\n",
       "      <td>...</td>\n",
       "      <td>...</td>\n",
       "      <td>...</td>\n",
       "      <td>...</td>\n",
       "      <td>...</td>\n",
       "      <td>...</td>\n",
       "    </tr>\n",
       "    <tr>\n",
       "      <th>18063</th>\n",
       "      <td>1534</td>\n",
       "      <td>3781.098080</td>\n",
       "      <td>20.0</td>\n",
       "      <td>2021-11-04</td>\n",
       "      <td>11</td>\n",
       "      <td>Альберт</td>\n",
       "      <td>25</td>\n",
       "      <td>Краснодар</td>\n",
       "      <td>free</td>\n",
       "      <td>8</td>\n",
       "      <td>50</td>\n",
       "      <td>0</td>\n",
       "    </tr>\n",
       "    <tr>\n",
       "      <th>18064</th>\n",
       "      <td>1534</td>\n",
       "      <td>2840.423057</td>\n",
       "      <td>22.0</td>\n",
       "      <td>2021-11-16</td>\n",
       "      <td>11</td>\n",
       "      <td>Альберт</td>\n",
       "      <td>25</td>\n",
       "      <td>Краснодар</td>\n",
       "      <td>free</td>\n",
       "      <td>8</td>\n",
       "      <td>50</td>\n",
       "      <td>0</td>\n",
       "    </tr>\n",
       "    <tr>\n",
       "      <th>18065</th>\n",
       "      <td>1534</td>\n",
       "      <td>3826.185507</td>\n",
       "      <td>19.0</td>\n",
       "      <td>2021-11-18</td>\n",
       "      <td>11</td>\n",
       "      <td>Альберт</td>\n",
       "      <td>25</td>\n",
       "      <td>Краснодар</td>\n",
       "      <td>free</td>\n",
       "      <td>8</td>\n",
       "      <td>50</td>\n",
       "      <td>0</td>\n",
       "    </tr>\n",
       "    <tr>\n",
       "      <th>18066</th>\n",
       "      <td>1534</td>\n",
       "      <td>2902.308661</td>\n",
       "      <td>17.0</td>\n",
       "      <td>2021-11-27</td>\n",
       "      <td>11</td>\n",
       "      <td>Альберт</td>\n",
       "      <td>25</td>\n",
       "      <td>Краснодар</td>\n",
       "      <td>free</td>\n",
       "      <td>8</td>\n",
       "      <td>50</td>\n",
       "      <td>0</td>\n",
       "    </tr>\n",
       "    <tr>\n",
       "      <th>18067</th>\n",
       "      <td>1534</td>\n",
       "      <td>2371.711192</td>\n",
       "      <td>16.0</td>\n",
       "      <td>2021-12-29</td>\n",
       "      <td>12</td>\n",
       "      <td>Альберт</td>\n",
       "      <td>25</td>\n",
       "      <td>Краснодар</td>\n",
       "      <td>free</td>\n",
       "      <td>8</td>\n",
       "      <td>50</td>\n",
       "      <td>0</td>\n",
       "    </tr>\n",
       "  </tbody>\n",
       "</table>\n",
       "<p>18068 rows × 12 columns</p>\n",
       "</div>"
      ],
      "text/plain": [
       "       user_id     distance  duration       date  month     name  age  \\\n",
       "0            1  4409.919140      26.0 2021-01-01      1     Кира   22   \n",
       "1            1  2617.592153      16.0 2021-01-18      1     Кира   22   \n",
       "2            1   754.159807       7.0 2021-04-20      4     Кира   22   \n",
       "3            1  2694.783254      19.0 2021-08-11      8     Кира   22   \n",
       "4            1  4028.687306      27.0 2021-08-28      8     Кира   22   \n",
       "...        ...          ...       ...        ...    ...      ...  ...   \n",
       "18063     1534  3781.098080      20.0 2021-11-04     11  Альберт   25   \n",
       "18064     1534  2840.423057      22.0 2021-11-16     11  Альберт   25   \n",
       "18065     1534  3826.185507      19.0 2021-11-18     11  Альберт   25   \n",
       "18066     1534  2902.308661      17.0 2021-11-27     11  Альберт   25   \n",
       "18067     1534  2371.711192      16.0 2021-12-29     12  Альберт   25   \n",
       "\n",
       "            city subscription_type  minute_price  start_ride_price  \\\n",
       "0         Тюмень             ultra             6                 0   \n",
       "1         Тюмень             ultra             6                 0   \n",
       "2         Тюмень             ultra             6                 0   \n",
       "3         Тюмень             ultra             6                 0   \n",
       "4         Тюмень             ultra             6                 0   \n",
       "...          ...               ...           ...               ...   \n",
       "18063  Краснодар              free             8                50   \n",
       "18064  Краснодар              free             8                50   \n",
       "18065  Краснодар              free             8                50   \n",
       "18066  Краснодар              free             8                50   \n",
       "18067  Краснодар              free             8                50   \n",
       "\n",
       "       subscription_fee  \n",
       "0                   199  \n",
       "1                   199  \n",
       "2                   199  \n",
       "3                   199  \n",
       "4                   199  \n",
       "...                 ...  \n",
       "18063                 0  \n",
       "18064                 0  \n",
       "18065                 0  \n",
       "18066                 0  \n",
       "18067                 0  \n",
       "\n",
       "[18068 rows x 12 columns]"
      ]
     },
     "execution_count": 37,
     "metadata": {},
     "output_type": "execute_result"
    }
   ],
   "source": [
    "all_data"
   ]
  },
  {
   "cell_type": "code",
   "execution_count": 38,
   "id": "7edaff82",
   "metadata": {},
   "outputs": [],
   "source": [
    "all_data_agg = all_data.groupby(['user_id','month'],as_index = False)\\\n",
    ".agg({'distance':['sum','count'],'duration':'sum','subscription_fee':'first','start_ride_price':'first','minute_price':'first'})"
   ]
  },
  {
   "cell_type": "code",
   "execution_count": 39,
   "id": "72c656b0",
   "metadata": {},
   "outputs": [],
   "source": [
    "all_data_agg.columns = ['user_id','month','sum_distance','cnt_rides','sum_duration','subscription_fee','start_ride_price',\\\n",
    "                        'minute_price'] "
   ]
  },
  {
   "cell_type": "code",
   "execution_count": 40,
   "id": "3c3a4492",
   "metadata": {},
   "outputs": [
    {
     "data": {
      "text/html": [
       "<div>\n",
       "<style scoped>\n",
       "    .dataframe tbody tr th:only-of-type {\n",
       "        vertical-align: middle;\n",
       "    }\n",
       "\n",
       "    .dataframe tbody tr th {\n",
       "        vertical-align: top;\n",
       "    }\n",
       "\n",
       "    .dataframe thead th {\n",
       "        text-align: right;\n",
       "    }\n",
       "</style>\n",
       "<table border=\"1\" class=\"dataframe\">\n",
       "  <thead>\n",
       "    <tr style=\"text-align: right;\">\n",
       "      <th></th>\n",
       "      <th>user_id</th>\n",
       "      <th>month</th>\n",
       "      <th>sum_distance</th>\n",
       "      <th>cnt_rides</th>\n",
       "      <th>sum_duration</th>\n",
       "      <th>subscription_fee</th>\n",
       "      <th>start_ride_price</th>\n",
       "      <th>minute_price</th>\n",
       "    </tr>\n",
       "  </thead>\n",
       "  <tbody>\n",
       "    <tr>\n",
       "      <th>0</th>\n",
       "      <td>1</td>\n",
       "      <td>1</td>\n",
       "      <td>7027.511294</td>\n",
       "      <td>2</td>\n",
       "      <td>42.0</td>\n",
       "      <td>199</td>\n",
       "      <td>0</td>\n",
       "      <td>6</td>\n",
       "    </tr>\n",
       "    <tr>\n",
       "      <th>1</th>\n",
       "      <td>1</td>\n",
       "      <td>4</td>\n",
       "      <td>754.159807</td>\n",
       "      <td>1</td>\n",
       "      <td>7.0</td>\n",
       "      <td>199</td>\n",
       "      <td>0</td>\n",
       "      <td>6</td>\n",
       "    </tr>\n",
       "    <tr>\n",
       "      <th>2</th>\n",
       "      <td>1</td>\n",
       "      <td>8</td>\n",
       "      <td>6723.470560</td>\n",
       "      <td>2</td>\n",
       "      <td>46.0</td>\n",
       "      <td>199</td>\n",
       "      <td>0</td>\n",
       "      <td>6</td>\n",
       "    </tr>\n",
       "    <tr>\n",
       "      <th>3</th>\n",
       "      <td>1</td>\n",
       "      <td>10</td>\n",
       "      <td>5809.911100</td>\n",
       "      <td>2</td>\n",
       "      <td>32.0</td>\n",
       "      <td>199</td>\n",
       "      <td>0</td>\n",
       "      <td>6</td>\n",
       "    </tr>\n",
       "    <tr>\n",
       "      <th>4</th>\n",
       "      <td>1</td>\n",
       "      <td>11</td>\n",
       "      <td>7003.499363</td>\n",
       "      <td>3</td>\n",
       "      <td>56.0</td>\n",
       "      <td>199</td>\n",
       "      <td>0</td>\n",
       "      <td>6</td>\n",
       "    </tr>\n",
       "    <tr>\n",
       "      <th>...</th>\n",
       "      <td>...</td>\n",
       "      <td>...</td>\n",
       "      <td>...</td>\n",
       "      <td>...</td>\n",
       "      <td>...</td>\n",
       "      <td>...</td>\n",
       "      <td>...</td>\n",
       "      <td>...</td>\n",
       "    </tr>\n",
       "    <tr>\n",
       "      <th>11326</th>\n",
       "      <td>1534</td>\n",
       "      <td>6</td>\n",
       "      <td>3409.468534</td>\n",
       "      <td>2</td>\n",
       "      <td>26.0</td>\n",
       "      <td>0</td>\n",
       "      <td>50</td>\n",
       "      <td>8</td>\n",
       "    </tr>\n",
       "    <tr>\n",
       "      <th>11327</th>\n",
       "      <td>1534</td>\n",
       "      <td>8</td>\n",
       "      <td>7622.453034</td>\n",
       "      <td>2</td>\n",
       "      <td>48.0</td>\n",
       "      <td>0</td>\n",
       "      <td>50</td>\n",
       "      <td>8</td>\n",
       "    </tr>\n",
       "    <tr>\n",
       "      <th>11328</th>\n",
       "      <td>1534</td>\n",
       "      <td>9</td>\n",
       "      <td>4928.173852</td>\n",
       "      <td>1</td>\n",
       "      <td>23.0</td>\n",
       "      <td>0</td>\n",
       "      <td>50</td>\n",
       "      <td>8</td>\n",
       "    </tr>\n",
       "    <tr>\n",
       "      <th>11329</th>\n",
       "      <td>1534</td>\n",
       "      <td>11</td>\n",
       "      <td>13350.015305</td>\n",
       "      <td>4</td>\n",
       "      <td>78.0</td>\n",
       "      <td>0</td>\n",
       "      <td>50</td>\n",
       "      <td>8</td>\n",
       "    </tr>\n",
       "    <tr>\n",
       "      <th>11330</th>\n",
       "      <td>1534</td>\n",
       "      <td>12</td>\n",
       "      <td>2371.711192</td>\n",
       "      <td>1</td>\n",
       "      <td>16.0</td>\n",
       "      <td>0</td>\n",
       "      <td>50</td>\n",
       "      <td>8</td>\n",
       "    </tr>\n",
       "  </tbody>\n",
       "</table>\n",
       "<p>11331 rows × 8 columns</p>\n",
       "</div>"
      ],
      "text/plain": [
       "       user_id  month  sum_distance  cnt_rides  sum_duration  \\\n",
       "0            1      1   7027.511294          2          42.0   \n",
       "1            1      4    754.159807          1           7.0   \n",
       "2            1      8   6723.470560          2          46.0   \n",
       "3            1     10   5809.911100          2          32.0   \n",
       "4            1     11   7003.499363          3          56.0   \n",
       "...        ...    ...           ...        ...           ...   \n",
       "11326     1534      6   3409.468534          2          26.0   \n",
       "11327     1534      8   7622.453034          2          48.0   \n",
       "11328     1534      9   4928.173852          1          23.0   \n",
       "11329     1534     11  13350.015305          4          78.0   \n",
       "11330     1534     12   2371.711192          1          16.0   \n",
       "\n",
       "       subscription_fee  start_ride_price  minute_price  \n",
       "0                   199                 0             6  \n",
       "1                   199                 0             6  \n",
       "2                   199                 0             6  \n",
       "3                   199                 0             6  \n",
       "4                   199                 0             6  \n",
       "...                 ...               ...           ...  \n",
       "11326                 0                50             8  \n",
       "11327                 0                50             8  \n",
       "11328                 0                50             8  \n",
       "11329                 0                50             8  \n",
       "11330                 0                50             8  \n",
       "\n",
       "[11331 rows x 8 columns]"
      ]
     },
     "execution_count": 40,
     "metadata": {},
     "output_type": "execute_result"
    }
   ],
   "source": [
    "all_data_agg\n"
   ]
  },
  {
   "cell_type": "markdown",
   "id": "9ec68065",
   "metadata": {},
   "source": [
    "Добавим столбец с помесячной выручкой, которую принёс каждый пользователь. "
   ]
  },
  {
   "cell_type": "code",
   "execution_count": 41,
   "id": "910a0146",
   "metadata": {},
   "outputs": [],
   "source": [
    "all_data_agg['revenue'] = all_data_agg['cnt_rides']*all_data_agg['start_ride_price']+all_data_agg['subscription_fee']\\\n",
    "+all_data_agg['sum_duration']*all_data_agg['minute_price']"
   ]
  },
  {
   "cell_type": "code",
   "execution_count": 42,
   "id": "b1a27766",
   "metadata": {},
   "outputs": [
    {
     "data": {
      "text/html": [
       "<div>\n",
       "<style scoped>\n",
       "    .dataframe tbody tr th:only-of-type {\n",
       "        vertical-align: middle;\n",
       "    }\n",
       "\n",
       "    .dataframe tbody tr th {\n",
       "        vertical-align: top;\n",
       "    }\n",
       "\n",
       "    .dataframe thead th {\n",
       "        text-align: right;\n",
       "    }\n",
       "</style>\n",
       "<table border=\"1\" class=\"dataframe\">\n",
       "  <thead>\n",
       "    <tr style=\"text-align: right;\">\n",
       "      <th></th>\n",
       "      <th>user_id</th>\n",
       "      <th>month</th>\n",
       "      <th>sum_distance</th>\n",
       "      <th>cnt_rides</th>\n",
       "      <th>sum_duration</th>\n",
       "      <th>subscription_fee</th>\n",
       "      <th>start_ride_price</th>\n",
       "      <th>minute_price</th>\n",
       "      <th>revenue</th>\n",
       "    </tr>\n",
       "  </thead>\n",
       "  <tbody>\n",
       "    <tr>\n",
       "      <th>0</th>\n",
       "      <td>1</td>\n",
       "      <td>1</td>\n",
       "      <td>7027.511294</td>\n",
       "      <td>2</td>\n",
       "      <td>42.0</td>\n",
       "      <td>199</td>\n",
       "      <td>0</td>\n",
       "      <td>6</td>\n",
       "      <td>451.0</td>\n",
       "    </tr>\n",
       "    <tr>\n",
       "      <th>1</th>\n",
       "      <td>1</td>\n",
       "      <td>4</td>\n",
       "      <td>754.159807</td>\n",
       "      <td>1</td>\n",
       "      <td>7.0</td>\n",
       "      <td>199</td>\n",
       "      <td>0</td>\n",
       "      <td>6</td>\n",
       "      <td>241.0</td>\n",
       "    </tr>\n",
       "    <tr>\n",
       "      <th>2</th>\n",
       "      <td>1</td>\n",
       "      <td>8</td>\n",
       "      <td>6723.470560</td>\n",
       "      <td>2</td>\n",
       "      <td>46.0</td>\n",
       "      <td>199</td>\n",
       "      <td>0</td>\n",
       "      <td>6</td>\n",
       "      <td>475.0</td>\n",
       "    </tr>\n",
       "    <tr>\n",
       "      <th>3</th>\n",
       "      <td>1</td>\n",
       "      <td>10</td>\n",
       "      <td>5809.911100</td>\n",
       "      <td>2</td>\n",
       "      <td>32.0</td>\n",
       "      <td>199</td>\n",
       "      <td>0</td>\n",
       "      <td>6</td>\n",
       "      <td>391.0</td>\n",
       "    </tr>\n",
       "    <tr>\n",
       "      <th>4</th>\n",
       "      <td>1</td>\n",
       "      <td>11</td>\n",
       "      <td>7003.499363</td>\n",
       "      <td>3</td>\n",
       "      <td>56.0</td>\n",
       "      <td>199</td>\n",
       "      <td>0</td>\n",
       "      <td>6</td>\n",
       "      <td>535.0</td>\n",
       "    </tr>\n",
       "    <tr>\n",
       "      <th>...</th>\n",
       "      <td>...</td>\n",
       "      <td>...</td>\n",
       "      <td>...</td>\n",
       "      <td>...</td>\n",
       "      <td>...</td>\n",
       "      <td>...</td>\n",
       "      <td>...</td>\n",
       "      <td>...</td>\n",
       "      <td>...</td>\n",
       "    </tr>\n",
       "    <tr>\n",
       "      <th>11326</th>\n",
       "      <td>1534</td>\n",
       "      <td>6</td>\n",
       "      <td>3409.468534</td>\n",
       "      <td>2</td>\n",
       "      <td>26.0</td>\n",
       "      <td>0</td>\n",
       "      <td>50</td>\n",
       "      <td>8</td>\n",
       "      <td>308.0</td>\n",
       "    </tr>\n",
       "    <tr>\n",
       "      <th>11327</th>\n",
       "      <td>1534</td>\n",
       "      <td>8</td>\n",
       "      <td>7622.453034</td>\n",
       "      <td>2</td>\n",
       "      <td>48.0</td>\n",
       "      <td>0</td>\n",
       "      <td>50</td>\n",
       "      <td>8</td>\n",
       "      <td>484.0</td>\n",
       "    </tr>\n",
       "    <tr>\n",
       "      <th>11328</th>\n",
       "      <td>1534</td>\n",
       "      <td>9</td>\n",
       "      <td>4928.173852</td>\n",
       "      <td>1</td>\n",
       "      <td>23.0</td>\n",
       "      <td>0</td>\n",
       "      <td>50</td>\n",
       "      <td>8</td>\n",
       "      <td>234.0</td>\n",
       "    </tr>\n",
       "    <tr>\n",
       "      <th>11329</th>\n",
       "      <td>1534</td>\n",
       "      <td>11</td>\n",
       "      <td>13350.015305</td>\n",
       "      <td>4</td>\n",
       "      <td>78.0</td>\n",
       "      <td>0</td>\n",
       "      <td>50</td>\n",
       "      <td>8</td>\n",
       "      <td>824.0</td>\n",
       "    </tr>\n",
       "    <tr>\n",
       "      <th>11330</th>\n",
       "      <td>1534</td>\n",
       "      <td>12</td>\n",
       "      <td>2371.711192</td>\n",
       "      <td>1</td>\n",
       "      <td>16.0</td>\n",
       "      <td>0</td>\n",
       "      <td>50</td>\n",
       "      <td>8</td>\n",
       "      <td>178.0</td>\n",
       "    </tr>\n",
       "  </tbody>\n",
       "</table>\n",
       "<p>11331 rows × 9 columns</p>\n",
       "</div>"
      ],
      "text/plain": [
       "       user_id  month  sum_distance  cnt_rides  sum_duration  \\\n",
       "0            1      1   7027.511294          2          42.0   \n",
       "1            1      4    754.159807          1           7.0   \n",
       "2            1      8   6723.470560          2          46.0   \n",
       "3            1     10   5809.911100          2          32.0   \n",
       "4            1     11   7003.499363          3          56.0   \n",
       "...        ...    ...           ...        ...           ...   \n",
       "11326     1534      6   3409.468534          2          26.0   \n",
       "11327     1534      8   7622.453034          2          48.0   \n",
       "11328     1534      9   4928.173852          1          23.0   \n",
       "11329     1534     11  13350.015305          4          78.0   \n",
       "11330     1534     12   2371.711192          1          16.0   \n",
       "\n",
       "       subscription_fee  start_ride_price  minute_price  revenue  \n",
       "0                   199                 0             6    451.0  \n",
       "1                   199                 0             6    241.0  \n",
       "2                   199                 0             6    475.0  \n",
       "3                   199                 0             6    391.0  \n",
       "4                   199                 0             6    535.0  \n",
       "...                 ...               ...           ...      ...  \n",
       "11326                 0                50             8    308.0  \n",
       "11327                 0                50             8    484.0  \n",
       "11328                 0                50             8    234.0  \n",
       "11329                 0                50             8    824.0  \n",
       "11330                 0                50             8    178.0  \n",
       "\n",
       "[11331 rows x 9 columns]"
      ]
     },
     "execution_count": 42,
     "metadata": {},
     "output_type": "execute_result"
    }
   ],
   "source": [
    "all_data_agg"
   ]
  },
  {
   "cell_type": "markdown",
   "id": "41545ac0",
   "metadata": {},
   "source": [
    "# Проверка гипотез"
   ]
  },
  {
   "cell_type": "markdown",
   "id": "80cdd866",
   "metadata": {},
   "source": [
    "Проверим несколько гипотез, которые помогут принять решение о проведении акций для увеличения количества пользователей с подпиской.\n"
   ]
  },
  {
   "cell_type": "markdown",
   "id": "61199698-b6dd-40c8-a5e8-dbaa7b2b43c6",
   "metadata": {},
   "source": [
    "## Первая гипотеза"
   ]
  },
  {
   "cell_type": "markdown",
   "id": "31a769ed",
   "metadata": {},
   "source": [
    "Проверим, тратят ли пользователи с подпиской больше времени на поездки. Если да, то пользователи с подпиской могут быть «выгоднее» для компании. \n",
    "Для это рассчитаем количество пользователей, среднее, медианное значение продолжительности поездок и проведем статистический тест для каждой категории: без подписки и с подпиской.\n"
   ]
  },
  {
   "cell_type": "code",
   "execution_count": 43,
   "id": "23ea867b",
   "metadata": {},
   "outputs": [
    {
     "data": {
      "text/plain": [
       "11568"
      ]
     },
     "execution_count": 43,
     "metadata": {},
     "output_type": "execute_result"
    }
   ],
   "source": [
    "all_data_free['user_id'].count()"
   ]
  },
  {
   "cell_type": "code",
   "execution_count": 44,
   "id": "aa4b0979",
   "metadata": {},
   "outputs": [
    {
     "data": {
      "text/plain": [
       "17.39090929866399"
      ]
     },
     "execution_count": 44,
     "metadata": {},
     "output_type": "execute_result"
    }
   ],
   "source": [
    "all_data_free['duration'].mean()"
   ]
  },
  {
   "cell_type": "code",
   "execution_count": 45,
   "id": "e0ee401a",
   "metadata": {},
   "outputs": [
    {
     "data": {
      "text/plain": [
       "17.326890226082043"
      ]
     },
     "execution_count": 45,
     "metadata": {},
     "output_type": "execute_result"
    }
   ],
   "source": [
    "all_data_free['duration'].median()"
   ]
  },
  {
   "cell_type": "code",
   "execution_count": 46,
   "id": "4540804b",
   "metadata": {},
   "outputs": [
    {
     "data": {
      "text/plain": [
       "6500"
      ]
     },
     "execution_count": 46,
     "metadata": {},
     "output_type": "execute_result"
    }
   ],
   "source": [
    "all_data_ultra['user_id'].count()"
   ]
  },
  {
   "cell_type": "code",
   "execution_count": 47,
   "id": "328488a8",
   "metadata": {},
   "outputs": [
    {
     "data": {
      "text/plain": [
       "18.54198516280583"
      ]
     },
     "execution_count": 47,
     "metadata": {},
     "output_type": "execute_result"
    }
   ],
   "source": [
    "all_data_ultra['duration'].mean()"
   ]
  },
  {
   "cell_type": "code",
   "execution_count": 48,
   "id": "26b19e42",
   "metadata": {},
   "outputs": [
    {
     "data": {
      "text/plain": [
       "18.17815320055055"
      ]
     },
     "execution_count": 48,
     "metadata": {},
     "output_type": "execute_result"
    }
   ],
   "source": [
    "all_data_ultra['duration'].median()"
   ]
  },
  {
   "cell_type": "markdown",
   "id": "88d7854a",
   "metadata": {},
   "source": [
    "Средние и медианные значения в обоих категориях примерно одинаковые, что говорит о том, что в данных нет больших выбросов (это нам подтверждали и ранее построенные графики)."
   ]
  },
  {
   "cell_type": "markdown",
   "id": "e501f745",
   "metadata": {},
   "source": [
    "Проверим одностороннюю гипотезу, что среднее значение длительности поездок выборки пользователей без подписки меньше среднего пользователей с подпиской. \n",
    "Нулевая гипотеза: средние значения длительности поездок пользователей с подпиской и без подписки равны.\n",
    "Альтернативная гипотеза: среднее значение длительности поездок выборки пользователей без подписки меньше среднего пользователей с подпиской.\n",
    "Т.к.размеры выборок у нас не равны, параметр equal_var принимает значение False."
   ]
  },
  {
   "cell_type": "code",
   "execution_count": 49,
   "id": "4f81cff6",
   "metadata": {},
   "outputs": [
    {
     "name": "stdout",
     "output_type": "stream",
     "text": [
      "p-значение: 5.675781377128977e-37\n",
      "Отвергаем нулевую гипотезу\n"
     ]
    }
   ],
   "source": [
    "alpha = 0.05\n",
    "results = st.ttest_ind(all_data_free['duration'], all_data_ultra['duration'],equal_var=False,alternative='less')\n",
    "print('p-значение:', results.pvalue)\n",
    "if results.pvalue < alpha:\n",
    "    print('Отвергаем нулевую гипотезу')\n",
    "else:\n",
    "    print('Не получилось отвергнуть нулевую гипотезу') \n"
   ]
  },
  {
   "cell_type": "markdown",
   "id": "2143f3d9",
   "metadata": {},
   "source": [
    "Изменим альтернативную гипотезу: среднее значение длительности поездок выборки пользователей с подпиской меньше среднего пользователей без подписки"
   ]
  },
  {
   "cell_type": "code",
   "execution_count": 50,
   "id": "57e7483c",
   "metadata": {},
   "outputs": [
    {
     "name": "stdout",
     "output_type": "stream",
     "text": [
      "p-значение: 1.0\n",
      "Не получилось отвергнуть нулевую гипотезу\n"
     ]
    }
   ],
   "source": [
    "alpha = 0.05\n",
    "results = st.ttest_ind(all_data_free['duration'], all_data_ultra['duration'],equal_var=False,alternative='greater')\n",
    "print('p-значение:', results.pvalue)\n",
    "if results.pvalue < alpha:\n",
    "    print('Отвергаем нулевую гипотезу')\n",
    "else:\n",
    "    print('Не получилось отвергнуть нулевую гипотезу') "
   ]
  },
  {
   "cell_type": "markdown",
   "id": "4fc71f02",
   "metadata": {},
   "source": [
    "В первом слечае полученное значение p-value значительно меньше заданного уровня значимости, поэтому можно отвергнуть нулевую гипотезу. Данный тест подтверждает сделанный выше расчет: пользователи с подпиской тратят на поездки больше времени.\n",
    "\n",
    "При второй проверке p-value равен 1, т.е. получается, что траты пользователей без подписки всегда не превышают траты пользователей с подпиской."
   ]
  },
  {
   "cell_type": "markdown",
   "id": "f27573f7-d7fb-4411-999a-c2e3e7e7961a",
   "metadata": {},
   "source": [
    "## Вторая гипотеза. "
   ]
  },
  {
   "cell_type": "markdown",
   "id": "76f547ac",
   "metadata": {},
   "source": [
    "\n",
    "\n",
    "Расстояние одной поездки в 3130 метров — оптимальное с точки зрения износа самоката. Проверим, превышает ли среднее расстояние, которое проезжают пользователи с подпиской за одну поездку,это значение. \n",
    "Нулевая гипотеза: расстояние, которое проезжают пользователи с подпиской равно 3130 метрам.\n",
    "Альтернативная гипотеза: расстояние, которое проезжают пользователи с подпиской больше 3130 метров."
   ]
  },
  {
   "cell_type": "code",
   "execution_count": 51,
   "id": "0fba1551",
   "metadata": {},
   "outputs": [
    {
     "data": {
      "text/plain": [
       "3115.4453880370247"
      ]
     },
     "execution_count": 51,
     "metadata": {},
     "output_type": "execute_result"
    }
   ],
   "source": [
    "all_data_ultra['distance'].mean()"
   ]
  },
  {
   "cell_type": "code",
   "execution_count": 52,
   "id": "8314b69f",
   "metadata": {},
   "outputs": [
    {
     "name": "stdout",
     "output_type": "stream",
     "text": [
      "p-значение: 0.9195368847849785\n",
      "Не отвергаем нулевую гипотезу\n"
     ]
    }
   ],
   "source": [
    "optimal_distance = 3130\n",
    "\n",
    "alpha = 0.05 # уровень статистической значимости\n",
    "\n",
    "results = st.ttest_1samp(\n",
    "    all_data_ultra['distance'], \n",
    "    optimal_distance,\n",
    "      alternative='greater')\n",
    "\n",
    "print('p-значение:', results.pvalue)\n",
    "\n",
    "if (results.pvalue < alpha):\n",
    "    print('Отвергаем нулевую гипотезу')\n",
    "else:\n",
    "    print('Не отвергаем нулевую гипотезу') \n"
   ]
  },
  {
   "cell_type": "markdown",
   "id": "340c0a01",
   "metadata": {},
   "source": [
    "Альтернативная гипотеза: расстояние, которое проезжают пользователи с подпиской меньше 3130 метров."
   ]
  },
  {
   "cell_type": "code",
   "execution_count": 53,
   "id": "32d950ad",
   "metadata": {},
   "outputs": [
    {
     "name": "stdout",
     "output_type": "stream",
     "text": [
      "p-значение: 0.08046311521502145\n",
      "Не отвергаем нулевую гипотезу\n"
     ]
    }
   ],
   "source": [
    "optimal_distance = 3130\n",
    "\n",
    "alpha = 0.05 # уровень статистической значимости\n",
    "\n",
    "results = st.ttest_1samp(\n",
    "    all_data_ultra['distance'], \n",
    "    optimal_distance,\n",
    "      alternative='less')\n",
    "\n",
    "print('p-значение:', results.pvalue)\n",
    "\n",
    "if (results.pvalue < alpha):\n",
    "    print('Отвергаем нулевую гипотезу')\n",
    "else:\n",
    "    print('Не отвергаем нулевую гипотезу') \n"
   ]
  },
  {
   "cell_type": "markdown",
   "id": "97cd625b",
   "metadata": {},
   "source": [
    "Получается, что среднее значение расстояния, которое проезжают пользователи с подпиской очень с большой вероятностью оказывается близким к оптимальному значению. Это доказывает и простой расчет среднего, произведенный выше. Т.о., использование самокатов пользователей с подпиской можно считать достаточно оптимальным."
   ]
  },
  {
   "cell_type": "markdown",
   "id": "6b3243e8-8f66-4060-b982-286c06638924",
   "metadata": {},
   "source": [
    "## Третья гипотеза."
   ]
  },
  {
   "cell_type": "markdown",
   "id": "2a093350",
   "metadata": {},
   "source": [
    "Проверим гипотезу о том, будет ли помесячная выручка от пользователей с подпиской по месяцам выше, чем выручка от пользователей без подписки. "
   ]
  },
  {
   "cell_type": "markdown",
   "id": "e43cbcbc",
   "metadata": {},
   "source": [
    "Для этого найдем среднее значение выручки за месяц по пользователям с подпиской и без. А также проведем двусторонний статистический тест. Размеры выборок у нас равны, т.к. оценивается одинаковое количество месяцев,но размер их мал, поэтому equal_var примем False."
   ]
  },
  {
   "cell_type": "code",
   "execution_count": 54,
   "id": "55d3a69b",
   "metadata": {},
   "outputs": [],
   "source": [
    "free = all_data_agg.query('subscription_fee == 0').groupby('month').agg({'revenue':'mean'})"
   ]
  },
  {
   "cell_type": "code",
   "execution_count": 55,
   "id": "c849561f",
   "metadata": {},
   "outputs": [
    {
     "data": {
      "text/plain": [
       "revenue    328.598067\n",
       "dtype: float64"
      ]
     },
     "execution_count": 55,
     "metadata": {},
     "output_type": "execute_result"
    }
   ],
   "source": [
    "free.mean()"
   ]
  },
  {
   "cell_type": "code",
   "execution_count": 56,
   "id": "86ae434d",
   "metadata": {},
   "outputs": [],
   "source": [
    "ultra = all_data_agg.query('subscription_fee == 199').groupby('month').agg({'revenue':'mean'})"
   ]
  },
  {
   "cell_type": "code",
   "execution_count": 57,
   "id": "96e11a9b",
   "metadata": {},
   "outputs": [
    {
     "data": {
      "text/plain": [
       "revenue    362.669645\n",
       "dtype: float64"
      ]
     },
     "execution_count": 57,
     "metadata": {},
     "output_type": "execute_result"
    }
   ],
   "source": [
    "ultra.mean()"
   ]
  },
  {
   "cell_type": "code",
   "execution_count": 58,
   "id": "7412fa5b",
   "metadata": {},
   "outputs": [
    {
     "data": {
      "text/html": [
       "<div>\n",
       "<style scoped>\n",
       "    .dataframe tbody tr th:only-of-type {\n",
       "        vertical-align: middle;\n",
       "    }\n",
       "\n",
       "    .dataframe tbody tr th {\n",
       "        vertical-align: top;\n",
       "    }\n",
       "\n",
       "    .dataframe thead th {\n",
       "        text-align: right;\n",
       "    }\n",
       "</style>\n",
       "<table border=\"1\" class=\"dataframe\">\n",
       "  <thead>\n",
       "    <tr style=\"text-align: right;\">\n",
       "      <th></th>\n",
       "      <th>revenue_x</th>\n",
       "      <th>revenue_y</th>\n",
       "    </tr>\n",
       "    <tr>\n",
       "      <th>month</th>\n",
       "      <th></th>\n",
       "      <th></th>\n",
       "    </tr>\n",
       "  </thead>\n",
       "  <tbody>\n",
       "    <tr>\n",
       "      <th>1</th>\n",
       "      <td>323.083333</td>\n",
       "      <td>369.507692</td>\n",
       "    </tr>\n",
       "    <tr>\n",
       "      <th>2</th>\n",
       "      <td>313.527410</td>\n",
       "      <td>351.898305</td>\n",
       "    </tr>\n",
       "    <tr>\n",
       "      <th>3</th>\n",
       "      <td>336.715827</td>\n",
       "      <td>360.121212</td>\n",
       "    </tr>\n",
       "    <tr>\n",
       "      <th>4</th>\n",
       "      <td>335.620253</td>\n",
       "      <td>367.160428</td>\n",
       "    </tr>\n",
       "    <tr>\n",
       "      <th>5</th>\n",
       "      <td>328.150087</td>\n",
       "      <td>368.481481</td>\n",
       "    </tr>\n",
       "    <tr>\n",
       "      <th>6</th>\n",
       "      <td>326.220713</td>\n",
       "      <td>361.391960</td>\n",
       "    </tr>\n",
       "    <tr>\n",
       "      <th>7</th>\n",
       "      <td>329.249110</td>\n",
       "      <td>367.861538</td>\n",
       "    </tr>\n",
       "    <tr>\n",
       "      <th>8</th>\n",
       "      <td>331.178761</td>\n",
       "      <td>360.765625</td>\n",
       "    </tr>\n",
       "    <tr>\n",
       "      <th>9</th>\n",
       "      <td>335.701906</td>\n",
       "      <td>364.329577</td>\n",
       "    </tr>\n",
       "    <tr>\n",
       "      <th>10</th>\n",
       "      <td>330.469945</td>\n",
       "      <td>360.032258</td>\n",
       "    </tr>\n",
       "    <tr>\n",
       "      <th>11</th>\n",
       "      <td>322.659459</td>\n",
       "      <td>357.474576</td>\n",
       "    </tr>\n",
       "    <tr>\n",
       "      <th>12</th>\n",
       "      <td>330.600000</td>\n",
       "      <td>363.011080</td>\n",
       "    </tr>\n",
       "  </tbody>\n",
       "</table>\n",
       "</div>"
      ],
      "text/plain": [
       "        revenue_x   revenue_y\n",
       "month                        \n",
       "1      323.083333  369.507692\n",
       "2      313.527410  351.898305\n",
       "3      336.715827  360.121212\n",
       "4      335.620253  367.160428\n",
       "5      328.150087  368.481481\n",
       "6      326.220713  361.391960\n",
       "7      329.249110  367.861538\n",
       "8      331.178761  360.765625\n",
       "9      335.701906  364.329577\n",
       "10     330.469945  360.032258\n",
       "11     322.659459  357.474576\n",
       "12     330.600000  363.011080"
      ]
     },
     "execution_count": 58,
     "metadata": {},
     "output_type": "execute_result"
    }
   ],
   "source": [
    "free.merge(ultra, on='month')"
   ]
  },
  {
   "cell_type": "markdown",
   "id": "41d7cc29",
   "metadata": {},
   "source": [
    "Нулевая гипотеза: помесячная выручка от пользователей с подпиской по месяцам равна выручке от пользователей без подписки.\n",
    "Альтернативная гипотеза: помесячная выручка от пользователей с подпиской по месяцам выше, чем выручка от пользователей без подписки"
   ]
  },
  {
   "cell_type": "code",
   "execution_count": 59,
   "id": "2b334d81",
   "metadata": {},
   "outputs": [
    {
     "name": "stdout",
     "output_type": "stream",
     "text": [
      "p-значение: 2.0841921253203195e-12\n",
      "Отвергаем нулевую гипотезу\n"
     ]
    }
   ],
   "source": [
    "alpha = 0.05\n",
    "results = st.ttest_ind(ultra['revenue'], free['revenue'],equal_var=False, alternative='greater')\n",
    "print('p-значение:', results.pvalue)\n",
    "if results.pvalue < alpha:\n",
    "    print('Отвергаем нулевую гипотезу')\n",
    "else:\n",
    "    print('Не получилось отвергнуть нулевую гипотезу') "
   ]
  },
  {
   "cell_type": "markdown",
   "id": "c342d93a",
   "metadata": {},
   "source": [
    "По результатам теста видно, вероятность, что траты пользователей с подпиской и без подписки одинаковы практически нулевая. Т.о., можно сделать вывод, что пользователи с  подпиской тратят больше, чем без нее. Это подтверждает и обычный расчет средних: 363 и 330 рублей, соответственно, т.е. на 10 % больше у пользователей с подпиской."
   ]
  },
  {
   "cell_type": "markdown",
   "id": "fcbf00df",
   "metadata": {},
   "source": [
    "Если техническая команда сервиса обновит сервера, с которыми взаимодействует мобильное приложение, для того, чтобы количество обращений в техподдержку значимо снизилось и предоставит некоторый файл, содержащий для каждого пользователя данные о количестве обращений до обновления и после него, для проверки гипотезы нам понадобится: \n",
    "тест для проверки гипотезы о равенстве среднего генеральной совокупности для зависимых (парных) выборок в Python методом scipy.stats.ttest_rel(), аргументы: данные о количестве обращений от каждого пользователя до обновления и после, alternative='greater' (т.е.обращений до обновления больше, чем после)."
   ]
  },
  {
   "cell_type": "markdown",
   "id": "61213c5e",
   "metadata": {},
   "source": [
    "# Распределения"
   ]
  },
  {
   "cell_type": "markdown",
   "id": "033d6c7d",
   "metadata": {},
   "source": [
    "Построим график биноминального распределения для 1000 листовок (100 необходимых новых пользователей разделим на вероятность получения 1 нового пользователя -0.1) с помощью binom.pmf() из модуля scipy.stats, который помогает получить вероятности биномиального распределения. "
   ]
  },
  {
   "cell_type": "code",
   "execution_count": 60,
   "id": "839ef80d",
   "metadata": {},
   "outputs": [
    {
     "data": {
      "image/png": "[encoded data removed]",
      "text/plain": [
       "<Figure size 1200x600 with 1 Axes>"
      ]
     },
     "metadata": {},
     "output_type": "display_data"
    }
   ],
   "source": [
    "plt.figure(figsize=(12,6))\n",
    "n = 1000 # количество попыток\n",
    "p = 0.1 # вероятность успеха\n",
    "distr = []\n",
    "for k in range(0, n + 1):\n",
    "    current_value = binom.pmf(k, n, p)\n",
    "    distr.append(current_value)\n",
    "plt.bar(range(0, n + 1), distr)\n",
    "plt.axvline(x=100,color = 'red');"
   ]
  },
  {
   "cell_type": "markdown",
   "id": "bf910e76",
   "metadata": {},
   "source": [
    "При таком количестве листовок вероятность получить количество пользователей меньше 100 очень велика.\n",
    "Подберем такое количество листовок, при котором левый хвост графика должен оказаться близким к значению 100 по оси х, чтобы вероятность получения 100 новых пользователей была близка к 95% при проведении акции."
   ]
  },
  {
   "cell_type": "code",
   "execution_count": 61,
   "id": "a6d1e1b7",
   "metadata": {},
   "outputs": [
    {
     "name": "stdout",
     "output_type": "stream",
     "text": [
      "0.9502851068730583\n"
     ]
    }
   ],
   "source": [
    "n = 1169\n",
    "p = 0.1\n",
    "mu = n*p\n",
    "sigma = sqrt(n*p*(1-p))\n",
    "distr = st.norm(mu,sigma)\n",
    "result = 1-distr.cdf(100)\n",
    "print(result)\n"
   ]
  },
  {
   "cell_type": "code",
   "execution_count": 62,
   "id": "a09fb0e9",
   "metadata": {},
   "outputs": [
    {
     "data": {
      "image/png": "[encoded data removed]",
      "text/plain": [
       "<Figure size 2000x600 with 1 Axes>"
      ]
     },
     "metadata": {},
     "output_type": "display_data"
    }
   ],
   "source": [
    "plt.figure(figsize=(20,6))\n",
    "n = 1169 # количество попыток\n",
    "p = 0.1 # вероятность успеха\n",
    "distr = []\n",
    "for k in range(0, n + 1):\n",
    "    current_value = binom.pmf(k, n, p)\n",
    "    distr.append(current_value)\n",
    "plt.bar(range(0, n + 1), distr)\n",
    "plt.axvline(x=100,color = 'red');"
   ]
  },
  {
   "cell_type": "markdown",
   "id": "544447de",
   "metadata": {},
   "source": [
    "Т.о., чтобы с вероятность 95%,  получить 100 новых подписчиков, нужно раздать примерно 1169 промокодов.\n",
    "\n"
   ]
  },
  {
   "cell_type": "markdown",
   "id": "e238ec9e",
   "metadata": {},
   "source": [
    "Смоделируем ситуацию: отдел маркетинга рассылает клиентам push-уведомления в мобильном приложении. Клиенты могут открыть его или не открывать. Известно, что уведомления открывают около 40 % получивших клиентов. Отдел планирует разослать 1 млн уведомлений. Оценим вероятность того, что уведомление откроют не более 399,5 тыс. пользователей."
   ]
  },
  {
   "cell_type": "code",
   "execution_count": 63,
   "id": "6e3a9ced",
   "metadata": {},
   "outputs": [
    {
     "name": "stdout",
     "output_type": "stream",
     "text": [
      "0.15371708296369768\n"
     ]
    }
   ],
   "source": [
    "\n",
    "n = 1000000\n",
    "p = 0.4\n",
    "mu = n*p\n",
    "sigma = sqrt(n*p*(1-p))\n",
    "distr = st.norm(mu,sigma)\n",
    "result = distr.cdf(399500)\n",
    "print(result)\n"
   ]
  },
  {
   "cell_type": "markdown",
   "id": "befe74f6",
   "metadata": {},
   "source": [
    "Вероятность, что уведомление откроют не более 399,5 ты. пользователей составляет 15,37%, т.е. получается, что при таком количестве рассылок вероятность открытия писем большим количеством  пользователей составляет 84,63%."
   ]
  },
  {
   "cell_type": "markdown",
   "id": "0ba0ba47",
   "metadata": {},
   "source": [
    "# ВЫВОДЫ\n"
   ]
  },
  {
   "cell_type": "markdown",
   "id": "a069da17",
   "metadata": {},
   "source": [
    "Для проекта были использованы данные популярного сервиса аренды самокатов о некоторых пользователях из нескольких городов, а также об их поездках. Чтобы совершать поездки по городу, пользователи сервиса пользуются мобильным приложением. Сервисом можно пользоваться без подписки и с подпиской.\n",
    "\n",
    "Целью проекта было: проанализировать данные и проверить некоторые гипотезы, которые могут помочь бизнесу вырасти. \n",
    "\n",
    "1.\tДля начала данные были загружены.\n",
    "\n",
    "2.\tБыла проведена предобработка данных: проверены на наличие пропущенных значений, удалены дубликаты, а также данные приведены к нужному формату.\n",
    "\n",
    "3.\tПроведен исследовательский анализ данных. Была описана и визуализирована общая информация о пользователях и поездках по разным параметрам. В результате этого получена следующая информация:\n",
    "- Количество пользователей во всех представленных 8 городах лежит в диапазоне от 168 до 219 человек. Больше всего пользователей в Пятигорске и Екатеринбурге, меньше всего в Москве и Тюмени.\n",
    "- 54,4% от общего количества пользователей составляют пользователи с подпиской, 45,6% - без подписки.\n",
    "-  Распределение количества пользователей по возрасту близко к нормальному. Максимальное количество пользователей попадает в интервал от 21 до 28 лет с пиком - 25 лет, и планомерно уменьшается в большую и меньшую сторону до 43 и 12 лет, соответственно.\n",
    "Также нужно отметить, что среди пользователей присутствует категория несовершеннолетних пользователей в возрасте от 12 до 17 лет. Их доля составляет 5.15% от общего числа поездок, совершенных всеми пользователями.\n",
    "- Большинство пользователей преодолевает за 1 поездку от 2 до 4,5 км. Из них максимальное количество людей преодолевает расстояние от 2,5 до 3,5 км. Также стоит отметить, что выделяется категория, которая преодолевает небольшое расстояние - до 1,5 км. Скорее всего это люди, которые берут самокаты, чтобы попробовать их использование, прокатиться без определенной цели или возможно не смогли разобраться, как пользоваться самокатом, или не понравилось использование.\n",
    "- Продолжительность поездок примерно повторяет график расстояния поездок. Основная часть пользователей пользуется самокатами от 9 до 27 минут (с пиком количества пользователей в интервале от 13 до 22 минут).\n",
    "Также при проверке на аномально большие и маленькие значение обнаружилось, что среди пользователей есть такие, чье время использования самоката составляет примерно 1-2 минуты(доля таких поездок 6.19% от общего количества). Скорее всего это те, кто не смог разобраться, как пользоваться самокатом и отказался от поездки. Также вижно, что изредка пользователи совершают длительные поездки (в интервале 34-43 минуты), что превышает нормальные значения продолжительности поездки(доля таких поездок 4.89% от общего количества).\n",
    "\n",
    "4. Далее были объединены данные о пользователях, поездках и подписках в один датафрейм. А также созданы ещё два датафрейма c данными о пользователях без подписки и с подпиской. После этого была визуализирована и проанализирована информация о расстоянии и времени поездок для пользователей обеих категорий и сделаны выводы:\n",
    "- По графикам видно, что клиенты с подпиской имеют более узкие диапазоны по расстоянию поездок. Короткие поездки до 2 км. И более длительные от 2 до 5-5,5км., с пиком по количеству пользователей в интервале 2,7-3,3 км. \n",
    "Без подписки: короткие поездки составляют расстояние до 1,3 км., а длительные распределены от 1,3км. до 7км., с пиком в интервале примерно 2,2-4,4 км.\n",
    "- Длительность поездок напрямую связана с расстоянием поездок. У пользователей с подпиской: длительность поездок распределяется от 4 до 40 мин. Большинство поездок составляет от 11 до 25 минут (пик по количеству пользователей в интервале от 11 до 23 минут). \n",
    "У пользователей без подписки как раз выделяется категория, которая использовала самокат в пределах 1 минуты, т.е. новички, которые либо не разобрались, как пользоваться самокатом, или отказались от использования после активации. Длительность остальных пользователей этой категории от 2 до 35 минут. Большинство используют самокат 11-27 минуты (максимальное количество - 13-23, также, как и пользователи с подпиской).\n",
    "\n",
    "5. Далее был создан датафрейм с агрегированными данными о поездках и найдено суммарное расстояние, количество поездок и суммарное время для каждого пользователя за каждый месяц. Продолжительность каждой поездки округлено до следующего целого числа. Добавлен столбец с помесячной выручкой, которую принёс каждый пользователь.\n",
    "\n",
    "6. После этого было проверено несколько гипотез, для принятия решения о проведении акций для увеличения количества пользователей с подпиской.\n",
    "\n",
    "Первая гипотеза: пользователи с подпиской тратят больше времени на поездки. Если да, то пользователи с подпиской могут быть «выгоднее» для компании. \n",
    "Для это было рассчитано количество пользователей, среднее, медианное значение продолжительности поездок и проведен статистический тест для каждой категории: без подписки и с подпиской.\n",
    "Средние и медианные значения в обоих категориях оказались примерно одинаковыми, что говорит о том, что в данных нет больших выбросов (это нам подтверждали и ранее построенные графики). Расчетное среднее время на поездки в месяц пользователей с подпиской – 18,54, без подписки – 17,39.\n",
    "Проверена односторонняя гипотеза, что среднее значение длительности поездок выборки пользователей без подписки меньше среднего пользователей с подпиской. Полученное значение p-value получилось значительно меньше заданного уровня значимости. Данный тест подтверждает сделанный выше расчет: пользователи с подпиской тратят на поездки больше времени.\n",
    "\n",
    "Вторая гипотеза. Расстояние одной поездки в 3130 метров — оптимальное с точки зрения износа самоката. Нужно было проверить, превышает ли среднее расстояние, которое проезжают пользователи с подпиской за одну поездку, это значение.\n",
    "Расчет показал, что среднее значение расстояния, которое проезжают пользователи с подпиской очень с большой вероятностью оказывается близким к оптимальному значению. Это доказывает и простой расчет среднего: расчетное среднее расстояние поездки в месяц пользователей с подпиской – 362.67, без подписки – 328.60. Т.о., использование самокатов пользователей с подпиской можно считать достаточно оптимальным.\n",
    "\n",
    "Третья гипотеза. Помесячная выручка от пользователей с подпиской по месяцам выше, чем выручка от пользователей без подписки.\n",
    "Для этого было найдено среднее значение выручки за месяц по пользователям с подпиской и без, а также проведен двусторонний статистический тест. \n",
    "По результатам теста видно: вероятность, что траты пользователей с подпиской и без одинаковы практически нулевая. Т.о., можно сделать вывод, что пользователи с подпиской тратят больше, чем без нее. Это подтверждает и обычный расчет средних: 363 и 330 рублей, соответственно, т.е. траты у пользователей с подпиской на 10 % больше.\n",
    "Т.о., на основе сделанного исследования и проверки гипотез, можно сделать вывод о том, что пользователи с подпиской являются более доходными для бизнеса.\n",
    "\n",
    "Если техническая команда сервиса обновит сервера, с которыми взаимодействует мобильное приложение, для того, чтобы количество обращений в техподдержку значимо снизилось и предоставит некоторый файл, содержащий для каждого пользователя данные о количестве обращений до обновления и после него, для проверки гипотезы нам понадобится: тест для проверки гипотезы о равенстве среднего генеральной совокупности для зависимых (парных) выборок в Python методом scipy.stats.ttest_rel(), аргументы: данные о количестве обращений от каждого пользователя до обновления и после, alternative='greater' (т.е.обращений до обновления больше, чем после).\n",
    "\n",
    "\n",
    "7.      Также была рассчитана эффективность рекламной акции для привлечения 100 новых пользователей с подпиской путем раздачи промокодов. При условии, что при аналогичных акциях подписку продлевали 10 % пользователей. Вероятность не выполнить план должна быть не более 5%.  \n",
    "Был построен график биноминального распределения для 1000 листовок. При таком количестве листовок вероятность получить количество пользователей меньше 100 очень велика. Путем подбора количества листовок был построен график, отражающий, что для того, чтобы с вероятность 95%, получить 100 новых подписчиков, нужно раздать примерно 1400 промокодов.\n",
    "Была смоделирована ситуация: отдел маркетинга рассылает клиентам push-уведомления в мобильном приложении. Клиенты могут открыть его или не открывать. Известно, что уведомления открывают около 40 %% получивших клиентов. Отдел планирует разослать 1 млн уведомлений. Задача: оценить вероятность того, что уведомление откроют не более 399,5 тыс. пользователей. \n",
    "Расчеты показали, что вероятность, что уведомление откроют не более 399,5 ты. пользователей составляет 15,37%, т.е. получается, что при таком количестве рассылок вероятность открытия писем большим количеством по\n"
   ]
  }
 ],
 "metadata": {
  "ExecuteTimeLog": [
   {
    "duration": 430,
    "start_time": "2023-10-09T10:00:48.935Z"
   },
   {
    "duration": 138,
    "start_time": "2023-10-09T10:00:51.252Z"
   },
   {
    "duration": 155,
    "start_time": "2023-10-09T10:01:02.676Z"
   },
   {
    "duration": 18,
    "start_time": "2023-10-09T10:01:04.404Z"
   },
   {
    "duration": 9,
    "start_time": "2023-10-09T10:01:36.773Z"
   },
   {
    "duration": 8,
    "start_time": "2023-10-09T10:01:42.780Z"
   },
   {
    "duration": 10,
    "start_time": "2023-10-09T10:01:49.884Z"
   },
   {
    "duration": 9,
    "start_time": "2023-10-09T10:01:54.851Z"
   },
   {
    "duration": 12,
    "start_time": "2023-10-09T10:02:15.628Z"
   },
   {
    "duration": 8,
    "start_time": "2023-10-09T10:02:16.107Z"
   },
   {
    "duration": 11,
    "start_time": "2023-10-09T10:02:37.004Z"
   },
   {
    "duration": 11,
    "start_time": "2023-10-09T10:03:08.396Z"
   },
   {
    "duration": 18,
    "start_time": "2023-10-09T10:04:13.340Z"
   },
   {
    "duration": 14,
    "start_time": "2023-10-09T10:04:14.468Z"
   },
   {
    "duration": 12,
    "start_time": "2023-10-09T10:04:29.372Z"
   },
   {
    "duration": 11,
    "start_time": "2023-10-09T10:08:46.566Z"
   },
   {
    "duration": 20,
    "start_time": "2023-10-09T10:08:54.869Z"
   },
   {
    "duration": 14,
    "start_time": "2023-10-09T10:09:07.502Z"
   },
   {
    "duration": 15,
    "start_time": "2023-10-09T10:10:46.111Z"
   },
   {
    "duration": 6,
    "start_time": "2023-10-09T10:11:58.054Z"
   },
   {
    "duration": 15,
    "start_time": "2023-10-09T10:12:10.390Z"
   },
   {
    "duration": 12,
    "start_time": "2023-10-09T10:12:20.838Z"
   },
   {
    "duration": 2025,
    "start_time": "2023-10-09T10:13:16.311Z"
   },
   {
    "duration": 5,
    "start_time": "2023-10-09T10:13:27.590Z"
   },
   {
    "duration": 5,
    "start_time": "2023-10-09T10:13:27.950Z"
   },
   {
    "duration": 51,
    "start_time": "2023-10-09T10:13:27.974Z"
   },
   {
    "duration": 5,
    "start_time": "2023-10-09T10:14:21.761Z"
   },
   {
    "duration": 5,
    "start_time": "2023-10-09T10:14:24.207Z"
   },
   {
    "duration": 4,
    "start_time": "2023-10-09T10:14:24.679Z"
   },
   {
    "duration": 5,
    "start_time": "2023-10-09T10:14:25.311Z"
   },
   {
    "duration": 5,
    "start_time": "2023-10-09T10:14:40.015Z"
   },
   {
    "duration": 7,
    "start_time": "2023-10-09T10:15:11.439Z"
   },
   {
    "duration": 7,
    "start_time": "2023-10-09T10:16:54.543Z"
   },
   {
    "duration": 6,
    "start_time": "2023-10-09T10:17:10.216Z"
   },
   {
    "duration": 7,
    "start_time": "2023-10-09T10:17:17.959Z"
   },
   {
    "duration": 7,
    "start_time": "2023-10-09T10:21:29.856Z"
   },
   {
    "duration": 21,
    "start_time": "2023-10-09T10:22:42.921Z"
   },
   {
    "duration": 9,
    "start_time": "2023-10-09T10:24:15.433Z"
   },
   {
    "duration": 9,
    "start_time": "2023-10-09T10:24:27.881Z"
   },
   {
    "duration": 5,
    "start_time": "2023-10-09T10:26:31.298Z"
   },
   {
    "duration": 13,
    "start_time": "2023-10-09T10:26:31.802Z"
   },
   {
    "duration": 11,
    "start_time": "2023-10-09T10:26:32.234Z"
   },
   {
    "duration": 49,
    "start_time": "2023-10-09T10:26:32.937Z"
   },
   {
    "duration": 8,
    "start_time": "2023-10-09T10:26:33.490Z"
   },
   {
    "duration": 3,
    "start_time": "2023-10-09T10:26:35.809Z"
   },
   {
    "duration": 305,
    "start_time": "2023-10-09T10:26:36.082Z"
   },
   {
    "duration": 187,
    "start_time": "2023-10-09T10:26:36.392Z"
   },
   {
    "duration": 7,
    "start_time": "2023-10-09T10:26:37.514Z"
   },
   {
    "duration": 5,
    "start_time": "2023-10-09T10:27:12.914Z"
   },
   {
    "duration": 5,
    "start_time": "2023-10-09T10:27:50.666Z"
   },
   {
    "duration": 7,
    "start_time": "2023-10-09T10:28:15.324Z"
   },
   {
    "duration": 11,
    "start_time": "2023-10-09T10:28:37.138Z"
   },
   {
    "duration": 523,
    "start_time": "2023-10-09T10:29:21.657Z"
   },
   {
    "duration": 129,
    "start_time": "2023-10-09T10:30:13.298Z"
   },
   {
    "duration": 132,
    "start_time": "2023-10-09T10:30:31.234Z"
   },
   {
    "duration": 205,
    "start_time": "2023-10-09T10:30:59.427Z"
   },
   {
    "duration": 140,
    "start_time": "2023-10-09T10:32:37.827Z"
   },
   {
    "duration": 114,
    "start_time": "2023-10-09T10:32:58.707Z"
   },
   {
    "duration": 113,
    "start_time": "2023-10-09T10:33:11.211Z"
   },
   {
    "duration": 68,
    "start_time": "2023-10-09T10:33:26.411Z"
   },
   {
    "duration": 71,
    "start_time": "2023-10-09T10:36:37.894Z"
   },
   {
    "duration": 82,
    "start_time": "2023-10-09T10:37:11.878Z"
   },
   {
    "duration": 150,
    "start_time": "2023-10-09T10:37:20.703Z"
   },
   {
    "duration": 72,
    "start_time": "2023-10-09T10:37:26.168Z"
   },
   {
    "duration": 99,
    "start_time": "2023-10-09T10:38:07.376Z"
   },
   {
    "duration": 89,
    "start_time": "2023-10-09T10:38:15.601Z"
   },
   {
    "duration": 75,
    "start_time": "2023-10-09T10:38:57.145Z"
   },
   {
    "duration": 70,
    "start_time": "2023-10-09T10:39:02.546Z"
   },
   {
    "duration": 131,
    "start_time": "2023-10-09T10:39:20.474Z"
   },
   {
    "duration": 71,
    "start_time": "2023-10-09T10:39:27.828Z"
   },
   {
    "duration": 3118,
    "start_time": "2023-10-09T10:40:31.475Z"
   },
   {
    "duration": 1952,
    "start_time": "2023-10-09T10:41:13.933Z"
   },
   {
    "duration": 1861,
    "start_time": "2023-10-09T10:41:40.797Z"
   },
   {
    "duration": 2105,
    "start_time": "2023-10-09T10:41:58.837Z"
   },
   {
    "duration": 1705,
    "start_time": "2023-10-09T10:42:27.389Z"
   },
   {
    "duration": 2505,
    "start_time": "2023-10-09T10:42:39.774Z"
   },
   {
    "duration": 2171,
    "start_time": "2023-10-09T10:44:02.440Z"
   },
   {
    "duration": 2430,
    "start_time": "2023-10-09T10:44:14.359Z"
   },
   {
    "duration": 77,
    "start_time": "2023-10-09T10:44:33.327Z"
   },
   {
    "duration": 5593,
    "start_time": "2023-10-09T10:45:07.263Z"
   },
   {
    "duration": 2379,
    "start_time": "2023-10-09T10:45:46.657Z"
   },
   {
    "duration": 2139,
    "start_time": "2023-10-09T10:46:56.314Z"
   },
   {
    "duration": 1620,
    "start_time": "2023-10-09T10:48:04.450Z"
   },
   {
    "duration": 2387,
    "start_time": "2023-10-09T10:48:27.322Z"
   },
   {
    "duration": 11,
    "start_time": "2023-10-09T10:48:34.850Z"
   },
   {
    "duration": 233,
    "start_time": "2023-10-09T10:48:59.418Z"
   },
   {
    "duration": 12,
    "start_time": "2023-10-09T10:49:39.235Z"
   },
   {
    "duration": 2565,
    "start_time": "2023-10-09T10:50:15.099Z"
   },
   {
    "duration": 2890,
    "start_time": "2023-10-09T10:51:36.740Z"
   },
   {
    "duration": 141,
    "start_time": "2023-10-09T10:51:59.565Z"
   },
   {
    "duration": 155,
    "start_time": "2023-10-09T10:53:17.742Z"
   },
   {
    "duration": 4,
    "start_time": "2023-10-09T10:53:58.693Z"
   },
   {
    "duration": 145,
    "start_time": "2023-10-09T10:54:05.525Z"
   },
   {
    "duration": 254,
    "start_time": "2023-10-09T10:55:12.494Z"
   },
   {
    "duration": 265,
    "start_time": "2023-10-09T10:55:58.150Z"
   },
   {
    "duration": 9,
    "start_time": "2023-10-09T10:58:13.432Z"
   },
   {
    "duration": 8,
    "start_time": "2023-10-09T10:59:19.425Z"
   },
   {
    "duration": 98,
    "start_time": "2023-10-09T10:59:58.832Z"
   },
   {
    "duration": 686,
    "start_time": "2023-10-09T11:03:39.847Z"
   },
   {
    "duration": 73,
    "start_time": "2023-10-09T11:03:40.535Z"
   },
   {
    "duration": 16,
    "start_time": "2023-10-09T11:03:40.609Z"
   },
   {
    "duration": 17,
    "start_time": "2023-10-09T11:03:40.627Z"
   },
   {
    "duration": 10,
    "start_time": "2023-10-09T11:03:40.646Z"
   },
   {
    "duration": 7,
    "start_time": "2023-10-09T11:03:40.658Z"
   },
   {
    "duration": 21,
    "start_time": "2023-10-09T11:03:40.666Z"
   },
   {
    "duration": 13,
    "start_time": "2023-10-09T11:03:40.688Z"
   },
   {
    "duration": 22,
    "start_time": "2023-10-09T11:03:40.703Z"
   },
   {
    "duration": 10,
    "start_time": "2023-10-09T11:03:40.728Z"
   },
   {
    "duration": 4,
    "start_time": "2023-10-09T11:03:40.740Z"
   },
   {
    "duration": 12,
    "start_time": "2023-10-09T11:03:40.745Z"
   },
   {
    "duration": 13,
    "start_time": "2023-10-09T11:03:40.758Z"
   },
   {
    "duration": 12,
    "start_time": "2023-10-09T11:03:40.773Z"
   },
   {
    "duration": 175,
    "start_time": "2023-10-09T11:03:40.787Z"
   },
   {
    "duration": 162,
    "start_time": "2023-10-09T11:03:40.964Z"
   },
   {
    "duration": 258,
    "start_time": "2023-10-09T11:03:41.128Z"
   },
   {
    "duration": 191,
    "start_time": "2023-10-09T11:03:41.388Z"
   },
   {
    "duration": 193,
    "start_time": "2023-10-09T11:04:08.923Z"
   },
   {
    "duration": 68,
    "start_time": "2023-10-09T11:06:26.572Z"
   },
   {
    "duration": 9,
    "start_time": "2023-10-09T11:06:51.717Z"
   },
   {
    "duration": 181,
    "start_time": "2023-10-09T11:07:10.988Z"
   },
   {
    "duration": 191,
    "start_time": "2023-10-09T11:08:01.494Z"
   },
   {
    "duration": 181,
    "start_time": "2023-10-09T11:09:11.230Z"
   },
   {
    "duration": 193,
    "start_time": "2023-10-09T11:10:21.973Z"
   },
   {
    "duration": 8,
    "start_time": "2023-10-09T11:46:56.170Z"
   },
   {
    "duration": 822,
    "start_time": "2023-10-09T11:48:05.592Z"
   },
   {
    "duration": 80,
    "start_time": "2023-10-09T11:48:06.417Z"
   },
   {
    "duration": 21,
    "start_time": "2023-10-09T11:48:06.499Z"
   },
   {
    "duration": 37,
    "start_time": "2023-10-09T11:48:06.522Z"
   },
   {
    "duration": 29,
    "start_time": "2023-10-09T11:48:06.561Z"
   },
   {
    "duration": 22,
    "start_time": "2023-10-09T11:48:06.592Z"
   },
   {
    "duration": 26,
    "start_time": "2023-10-09T11:48:06.616Z"
   },
   {
    "duration": 39,
    "start_time": "2023-10-09T11:48:06.644Z"
   },
   {
    "duration": 17,
    "start_time": "2023-10-09T11:48:06.685Z"
   },
   {
    "duration": 10,
    "start_time": "2023-10-09T11:48:06.706Z"
   },
   {
    "duration": 24,
    "start_time": "2023-10-09T11:48:06.718Z"
   },
   {
    "duration": 7,
    "start_time": "2023-10-09T11:48:06.744Z"
   },
   {
    "duration": 19,
    "start_time": "2023-10-09T11:48:06.752Z"
   },
   {
    "duration": 15,
    "start_time": "2023-10-09T11:48:06.774Z"
   },
   {
    "duration": 232,
    "start_time": "2023-10-09T11:48:06.791Z"
   },
   {
    "duration": 164,
    "start_time": "2023-10-09T11:48:07.025Z"
   },
   {
    "duration": 265,
    "start_time": "2023-10-09T11:48:07.191Z"
   },
   {
    "duration": 258,
    "start_time": "2023-10-09T11:48:07.458Z"
   },
   {
    "duration": 219,
    "start_time": "2023-10-09T11:48:07.724Z"
   },
   {
    "duration": 89,
    "start_time": "2023-10-09T11:48:07.945Z"
   },
   {
    "duration": 18,
    "start_time": "2023-10-09T11:48:33.872Z"
   },
   {
    "duration": 31,
    "start_time": "2023-10-09T11:49:03.833Z"
   },
   {
    "duration": 16,
    "start_time": "2023-10-09T11:49:32.649Z"
   },
   {
    "duration": 20,
    "start_time": "2023-10-09T11:49:44.745Z"
   },
   {
    "duration": 10,
    "start_time": "2023-10-09T11:51:42.592Z"
   },
   {
    "duration": 7,
    "start_time": "2023-10-09T11:52:24.953Z"
   },
   {
    "duration": 18,
    "start_time": "2023-10-09T11:52:25.360Z"
   },
   {
    "duration": 6,
    "start_time": "2023-10-09T11:52:26.832Z"
   },
   {
    "duration": 8,
    "start_time": "2023-10-09T11:52:27.400Z"
   },
   {
    "duration": 7,
    "start_time": "2023-10-09T11:53:09.632Z"
   },
   {
    "duration": 20,
    "start_time": "2023-10-09T11:53:10.705Z"
   },
   {
    "duration": 199,
    "start_time": "2023-10-09T11:55:42.785Z"
   },
   {
    "duration": 186,
    "start_time": "2023-10-09T11:55:43.265Z"
   },
   {
    "duration": 155,
    "start_time": "2023-10-09T12:01:59.386Z"
   },
   {
    "duration": 239,
    "start_time": "2023-10-09T12:02:29.697Z"
   },
   {
    "duration": 236,
    "start_time": "2023-10-09T12:02:43.810Z"
   },
   {
    "duration": 98,
    "start_time": "2023-10-09T12:04:33.834Z"
   },
   {
    "duration": 113,
    "start_time": "2023-10-09T12:05:48.737Z"
   },
   {
    "duration": 205,
    "start_time": "2023-10-09T12:06:02.754Z"
   },
   {
    "duration": 328,
    "start_time": "2023-10-09T12:06:53.290Z"
   },
   {
    "duration": 289,
    "start_time": "2023-10-09T12:08:35.699Z"
   },
   {
    "duration": 248,
    "start_time": "2023-10-09T12:10:22.243Z"
   },
   {
    "duration": 244,
    "start_time": "2023-10-09T12:10:36.923Z"
   },
   {
    "duration": 242,
    "start_time": "2023-10-09T12:13:50.901Z"
   },
   {
    "duration": 335,
    "start_time": "2023-10-09T12:17:26.909Z"
   },
   {
    "duration": 666,
    "start_time": "2023-10-09T12:18:14.393Z"
   },
   {
    "duration": 72,
    "start_time": "2023-10-09T12:18:15.061Z"
   },
   {
    "duration": 124,
    "start_time": "2023-10-09T12:18:15.134Z"
   },
   {
    "duration": 229,
    "start_time": "2023-10-09T12:18:15.261Z"
   },
   {
    "duration": 131,
    "start_time": "2023-10-09T12:18:15.492Z"
   },
   {
    "duration": 181,
    "start_time": "2023-10-09T12:18:15.625Z"
   },
   {
    "duration": 71,
    "start_time": "2023-10-09T12:18:15.808Z"
   },
   {
    "duration": 131,
    "start_time": "2023-10-09T12:18:15.881Z"
   },
   {
    "duration": 54,
    "start_time": "2023-10-09T12:18:16.014Z"
   },
   {
    "duration": 65,
    "start_time": "2023-10-09T12:18:16.072Z"
   },
   {
    "duration": 78,
    "start_time": "2023-10-09T12:18:16.139Z"
   },
   {
    "duration": 53,
    "start_time": "2023-10-09T12:18:16.219Z"
   },
   {
    "duration": 31,
    "start_time": "2023-10-09T12:18:16.274Z"
   },
   {
    "duration": 74,
    "start_time": "2023-10-09T12:18:16.307Z"
   },
   {
    "duration": 325,
    "start_time": "2023-10-09T12:18:16.383Z"
   },
   {
    "duration": 163,
    "start_time": "2023-10-09T12:18:16.711Z"
   },
   {
    "duration": 282,
    "start_time": "2023-10-09T12:18:16.876Z"
   },
   {
    "duration": 245,
    "start_time": "2023-10-09T12:18:17.160Z"
   },
   {
    "duration": 203,
    "start_time": "2023-10-09T12:18:17.407Z"
   },
   {
    "duration": 23,
    "start_time": "2023-10-09T12:18:17.611Z"
   },
   {
    "duration": 117,
    "start_time": "2023-10-09T12:18:17.635Z"
   },
   {
    "duration": 44,
    "start_time": "2023-10-09T12:18:17.754Z"
   },
   {
    "duration": 95,
    "start_time": "2023-10-09T12:18:17.800Z"
   },
   {
    "duration": 269,
    "start_time": "2023-10-09T12:18:17.897Z"
   },
   {
    "duration": 186,
    "start_time": "2023-10-09T12:18:18.168Z"
   },
   {
    "duration": 225,
    "start_time": "2023-10-09T12:18:18.356Z"
   },
   {
    "duration": 274,
    "start_time": "2023-10-09T12:19:26.222Z"
   },
   {
    "duration": 288,
    "start_time": "2023-10-09T12:52:22.559Z"
   },
   {
    "duration": 374,
    "start_time": "2023-10-09T12:53:01.694Z"
   },
   {
    "duration": 306,
    "start_time": "2023-10-09T12:56:52.982Z"
   },
   {
    "duration": 14,
    "start_time": "2023-10-09T12:58:02.567Z"
   },
   {
    "duration": 13,
    "start_time": "2023-10-09T12:58:33.172Z"
   },
   {
    "duration": 134,
    "start_time": "2023-10-09T12:58:50.406Z"
   },
   {
    "duration": 369,
    "start_time": "2023-10-09T13:04:10.006Z"
   },
   {
    "duration": 303,
    "start_time": "2023-10-09T13:05:08.366Z"
   },
   {
    "duration": 201,
    "start_time": "2023-10-09T13:07:01.583Z"
   },
   {
    "duration": 415,
    "start_time": "2023-10-09T13:57:04.191Z"
   },
   {
    "duration": 305,
    "start_time": "2023-10-09T14:03:39.849Z"
   },
   {
    "duration": 333,
    "start_time": "2023-10-09T14:03:56.857Z"
   },
   {
    "duration": 301,
    "start_time": "2023-10-09T14:04:05.105Z"
   },
   {
    "duration": 401,
    "start_time": "2023-10-09T14:04:58.017Z"
   },
   {
    "duration": 351,
    "start_time": "2023-10-09T14:05:07.641Z"
   },
   {
    "duration": 459,
    "start_time": "2023-10-09T14:05:18.002Z"
   },
   {
    "duration": 398,
    "start_time": "2023-10-09T14:05:25.881Z"
   },
   {
    "duration": 302,
    "start_time": "2023-10-09T14:05:33.777Z"
   },
   {
    "duration": 290,
    "start_time": "2023-10-09T14:05:41.385Z"
   },
   {
    "duration": 323,
    "start_time": "2023-10-09T14:05:54.942Z"
   },
   {
    "duration": 64,
    "start_time": "2023-10-09T14:22:23.396Z"
   },
   {
    "duration": 42,
    "start_time": "2023-10-09T14:23:07.844Z"
   },
   {
    "duration": 43,
    "start_time": "2023-10-09T14:25:06.069Z"
   },
   {
    "duration": 200,
    "start_time": "2023-10-09T14:27:55.246Z"
   },
   {
    "duration": 94,
    "start_time": "2023-10-09T14:28:32.971Z"
   },
   {
    "duration": 52,
    "start_time": "2023-10-09T14:29:21.972Z"
   },
   {
    "duration": 1071,
    "start_time": "2023-10-09T14:29:32.726Z"
   },
   {
    "duration": 247,
    "start_time": "2023-10-09T14:29:33.799Z"
   },
   {
    "duration": 21,
    "start_time": "2023-10-09T14:29:34.048Z"
   },
   {
    "duration": 30,
    "start_time": "2023-10-09T14:29:34.071Z"
   },
   {
    "duration": 45,
    "start_time": "2023-10-09T14:29:34.103Z"
   },
   {
    "duration": 37,
    "start_time": "2023-10-09T14:29:34.150Z"
   },
   {
    "duration": 43,
    "start_time": "2023-10-09T14:29:34.189Z"
   },
   {
    "duration": 54,
    "start_time": "2023-10-09T14:29:34.235Z"
   },
   {
    "duration": 35,
    "start_time": "2023-10-09T14:29:34.291Z"
   },
   {
    "duration": 77,
    "start_time": "2023-10-09T14:29:34.328Z"
   },
   {
    "duration": 64,
    "start_time": "2023-10-09T14:29:34.406Z"
   },
   {
    "duration": 23,
    "start_time": "2023-10-09T14:29:34.473Z"
   },
   {
    "duration": 64,
    "start_time": "2023-10-09T14:29:34.499Z"
   },
   {
    "duration": 45,
    "start_time": "2023-10-09T14:29:34.566Z"
   },
   {
    "duration": 287,
    "start_time": "2023-10-09T14:29:34.613Z"
   },
   {
    "duration": 11,
    "start_time": "2023-10-09T14:29:34.902Z"
   },
   {
    "duration": 367,
    "start_time": "2023-10-09T14:29:34.915Z"
   },
   {
    "duration": 272,
    "start_time": "2023-10-09T14:29:35.284Z"
   },
   {
    "duration": 283,
    "start_time": "2023-10-09T14:29:35.558Z"
   },
   {
    "duration": 260,
    "start_time": "2023-10-09T14:29:35.843Z"
   },
   {
    "duration": 34,
    "start_time": "2023-10-09T14:29:36.106Z"
   },
   {
    "duration": 40,
    "start_time": "2023-10-09T14:29:36.143Z"
   },
   {
    "duration": 37,
    "start_time": "2023-10-09T14:29:36.185Z"
   },
   {
    "duration": 23,
    "start_time": "2023-10-09T14:29:36.225Z"
   },
   {
    "duration": 358,
    "start_time": "2023-10-09T14:29:36.250Z"
   },
   {
    "duration": 368,
    "start_time": "2023-10-09T14:29:36.610Z"
   },
   {
    "duration": 1000,
    "start_time": "2023-10-09T14:30:12.669Z"
   },
   {
    "duration": 205,
    "start_time": "2023-10-09T14:30:13.673Z"
   },
   {
    "duration": 19,
    "start_time": "2023-10-09T14:30:13.880Z"
   },
   {
    "duration": 20,
    "start_time": "2023-10-09T14:30:13.902Z"
   },
   {
    "duration": 44,
    "start_time": "2023-10-09T14:30:13.923Z"
   },
   {
    "duration": 19,
    "start_time": "2023-10-09T14:30:13.969Z"
   },
   {
    "duration": 42,
    "start_time": "2023-10-09T14:30:13.990Z"
   },
   {
    "duration": 44,
    "start_time": "2023-10-09T14:30:14.034Z"
   },
   {
    "duration": 25,
    "start_time": "2023-10-09T14:30:14.079Z"
   },
   {
    "duration": 42,
    "start_time": "2023-10-09T14:30:14.107Z"
   },
   {
    "duration": 15,
    "start_time": "2023-10-09T14:30:14.151Z"
   },
   {
    "duration": 30,
    "start_time": "2023-10-09T14:30:14.168Z"
   },
   {
    "duration": 18,
    "start_time": "2023-10-09T14:30:14.200Z"
   },
   {
    "duration": 37,
    "start_time": "2023-10-09T14:30:14.220Z"
   },
   {
    "duration": 191,
    "start_time": "2023-10-09T14:30:14.259Z"
   },
   {
    "duration": 11,
    "start_time": "2023-10-09T14:30:14.452Z"
   },
   {
    "duration": 172,
    "start_time": "2023-10-09T14:30:14.465Z"
   },
   {
    "duration": 299,
    "start_time": "2023-10-09T14:30:14.639Z"
   },
   {
    "duration": 294,
    "start_time": "2023-10-09T14:30:14.940Z"
   },
   {
    "duration": 225,
    "start_time": "2023-10-09T14:30:15.236Z"
   },
   {
    "duration": 26,
    "start_time": "2023-10-09T14:30:15.463Z"
   },
   {
    "duration": 282,
    "start_time": "2023-10-09T14:30:15.492Z"
   },
   {
    "duration": 59,
    "start_time": "2023-10-09T14:30:15.776Z"
   },
   {
    "duration": 55,
    "start_time": "2023-10-09T14:30:15.838Z"
   },
   {
    "duration": 371,
    "start_time": "2023-10-09T14:30:15.895Z"
   },
   {
    "duration": 397,
    "start_time": "2023-10-09T14:30:16.272Z"
   },
   {
    "duration": 277,
    "start_time": "2023-10-09T17:43:01.538Z"
   },
   {
    "duration": 68,
    "start_time": "2023-10-09T17:43:10.005Z"
   },
   {
    "duration": 756,
    "start_time": "2023-10-09T17:43:38.753Z"
   },
   {
    "duration": 307,
    "start_time": "2023-10-09T17:43:39.512Z"
   },
   {
    "duration": 30,
    "start_time": "2023-10-09T17:43:39.821Z"
   },
   {
    "duration": 29,
    "start_time": "2023-10-09T17:43:39.857Z"
   },
   {
    "duration": 7,
    "start_time": "2023-10-09T17:43:39.889Z"
   },
   {
    "duration": 6,
    "start_time": "2023-10-09T17:43:39.898Z"
   },
   {
    "duration": 28,
    "start_time": "2023-10-09T17:43:39.906Z"
   },
   {
    "duration": 13,
    "start_time": "2023-10-09T17:43:39.936Z"
   },
   {
    "duration": 12,
    "start_time": "2023-10-09T17:43:39.951Z"
   },
   {
    "duration": 17,
    "start_time": "2023-10-09T17:43:39.966Z"
   },
   {
    "duration": 5,
    "start_time": "2023-10-09T17:43:39.985Z"
   },
   {
    "duration": 4,
    "start_time": "2023-10-09T17:43:39.992Z"
   },
   {
    "duration": 11,
    "start_time": "2023-10-09T17:43:39.997Z"
   },
   {
    "duration": 7,
    "start_time": "2023-10-09T17:43:40.012Z"
   },
   {
    "duration": 246,
    "start_time": "2023-10-09T17:43:40.027Z"
   },
   {
    "duration": 12,
    "start_time": "2023-10-09T17:43:40.275Z"
   },
   {
    "duration": 490,
    "start_time": "2023-10-09T17:43:40.289Z"
   },
   {
    "duration": 456,
    "start_time": "2023-10-09T17:43:40.782Z"
   },
   {
    "duration": 334,
    "start_time": "2023-10-09T17:43:41.240Z"
   },
   {
    "duration": 281,
    "start_time": "2023-10-09T17:43:41.576Z"
   },
   {
    "duration": 29,
    "start_time": "2023-10-09T17:43:41.861Z"
   },
   {
    "duration": 77,
    "start_time": "2023-10-09T17:43:41.893Z"
   },
   {
    "duration": 35,
    "start_time": "2023-10-09T17:43:41.972Z"
   },
   {
    "duration": 41,
    "start_time": "2023-10-09T17:43:42.010Z"
   },
   {
    "duration": 479,
    "start_time": "2023-10-09T17:43:42.054Z"
   },
   {
    "duration": 451,
    "start_time": "2023-10-09T17:43:42.536Z"
   },
   {
    "duration": 95,
    "start_time": "2023-10-09T17:45:18.452Z"
   },
   {
    "duration": 4,
    "start_time": "2023-10-09T17:45:39.917Z"
   },
   {
    "duration": 905,
    "start_time": "2023-10-09T17:45:47.915Z"
   },
   {
    "duration": 377,
    "start_time": "2023-10-09T17:45:48.822Z"
   },
   {
    "duration": 19,
    "start_time": "2023-10-09T17:45:49.201Z"
   },
   {
    "duration": 55,
    "start_time": "2023-10-09T17:45:49.223Z"
   },
   {
    "duration": 26,
    "start_time": "2023-10-09T17:45:49.282Z"
   },
   {
    "duration": 28,
    "start_time": "2023-10-09T17:45:49.311Z"
   },
   {
    "duration": 48,
    "start_time": "2023-10-09T17:45:49.341Z"
   },
   {
    "duration": 18,
    "start_time": "2023-10-09T17:45:49.396Z"
   },
   {
    "duration": 28,
    "start_time": "2023-10-09T17:45:49.417Z"
   },
   {
    "duration": 91,
    "start_time": "2023-10-09T17:45:49.449Z"
   },
   {
    "duration": 32,
    "start_time": "2023-10-09T17:45:49.542Z"
   },
   {
    "duration": 49,
    "start_time": "2023-10-09T17:45:49.576Z"
   },
   {
    "duration": 34,
    "start_time": "2023-10-09T17:45:49.627Z"
   },
   {
    "duration": 30,
    "start_time": "2023-10-09T17:45:49.663Z"
   },
   {
    "duration": 437,
    "start_time": "2023-10-09T17:45:49.695Z"
   },
   {
    "duration": 16,
    "start_time": "2023-10-09T17:45:50.134Z"
   },
   {
    "duration": 209,
    "start_time": "2023-10-09T17:45:50.156Z"
   },
   {
    "duration": 378,
    "start_time": "2023-10-09T17:45:50.371Z"
   },
   {
    "duration": 347,
    "start_time": "2023-10-09T17:45:50.757Z"
   },
   {
    "duration": 292,
    "start_time": "2023-10-09T17:45:51.106Z"
   },
   {
    "duration": 20,
    "start_time": "2023-10-09T17:45:51.400Z"
   },
   {
    "duration": 365,
    "start_time": "2023-10-09T17:45:51.422Z"
   },
   {
    "duration": 43,
    "start_time": "2023-10-09T17:45:51.789Z"
   },
   {
    "duration": 76,
    "start_time": "2023-10-09T17:45:51.834Z"
   },
   {
    "duration": 520,
    "start_time": "2023-10-09T17:45:51.912Z"
   },
   {
    "duration": 486,
    "start_time": "2023-10-09T17:45:52.434Z"
   },
   {
    "duration": 4,
    "start_time": "2023-10-09T17:45:52.922Z"
   },
   {
    "duration": 6737,
    "start_time": "2023-10-09T17:46:05.086Z"
   },
   {
    "duration": 160,
    "start_time": "2023-10-09T17:47:04.711Z"
   },
   {
    "duration": 406,
    "start_time": "2023-10-09T17:47:26.777Z"
   },
   {
    "duration": 8900,
    "start_time": "2023-10-09T17:47:32.598Z"
   },
   {
    "duration": 33,
    "start_time": "2023-10-09T17:48:47.137Z"
   },
   {
    "duration": 26,
    "start_time": "2023-10-09T17:49:11.576Z"
   },
   {
    "duration": 138,
    "start_time": "2023-10-09T17:49:42.390Z"
   },
   {
    "duration": 33,
    "start_time": "2023-10-09T17:49:51.776Z"
   },
   {
    "duration": 79,
    "start_time": "2023-10-11T14:02:47.161Z"
   },
   {
    "duration": 964,
    "start_time": "2023-10-11T14:02:57.835Z"
   },
   {
    "duration": 200,
    "start_time": "2023-10-11T14:02:58.801Z"
   },
   {
    "duration": 22,
    "start_time": "2023-10-11T14:02:59.003Z"
   },
   {
    "duration": 37,
    "start_time": "2023-10-11T14:02:59.028Z"
   },
   {
    "duration": 116,
    "start_time": "2023-10-11T14:02:59.066Z"
   },
   {
    "duration": 26,
    "start_time": "2023-10-11T14:02:59.183Z"
   },
   {
    "duration": 34,
    "start_time": "2023-10-11T14:02:59.211Z"
   },
   {
    "duration": 38,
    "start_time": "2023-10-11T14:02:59.247Z"
   },
   {
    "duration": 13,
    "start_time": "2023-10-11T14:02:59.287Z"
   },
   {
    "duration": 12,
    "start_time": "2023-10-11T14:02:59.303Z"
   },
   {
    "duration": 15,
    "start_time": "2023-10-11T14:02:59.317Z"
   },
   {
    "duration": 19,
    "start_time": "2023-10-11T14:02:59.335Z"
   },
   {
    "duration": 35,
    "start_time": "2023-10-11T14:02:59.356Z"
   },
   {
    "duration": 24,
    "start_time": "2023-10-11T14:02:59.393Z"
   },
   {
    "duration": 229,
    "start_time": "2023-10-11T14:02:59.419Z"
   },
   {
    "duration": 13,
    "start_time": "2023-10-11T14:02:59.650Z"
   },
   {
    "duration": 223,
    "start_time": "2023-10-11T14:02:59.665Z"
   },
   {
    "duration": 283,
    "start_time": "2023-10-11T14:02:59.889Z"
   },
   {
    "duration": 261,
    "start_time": "2023-10-11T14:03:00.174Z"
   },
   {
    "duration": 208,
    "start_time": "2023-10-11T14:03:00.437Z"
   },
   {
    "duration": 18,
    "start_time": "2023-10-11T14:03:00.647Z"
   },
   {
    "duration": 142,
    "start_time": "2023-10-11T14:03:00.667Z"
   },
   {
    "duration": 279,
    "start_time": "2023-10-11T14:03:00.811Z"
   },
   {
    "duration": 296,
    "start_time": "2023-10-11T14:03:01.092Z"
   },
   {
    "duration": 376,
    "start_time": "2023-10-11T14:03:01.390Z"
   },
   {
    "duration": 326,
    "start_time": "2023-10-11T14:03:01.768Z"
   },
   {
    "duration": 34,
    "start_time": "2023-10-11T14:03:02.096Z"
   },
   {
    "duration": 5,
    "start_time": "2023-10-11T14:17:31.829Z"
   },
   {
    "duration": 4,
    "start_time": "2023-10-11T14:17:48.865Z"
   },
   {
    "duration": 111,
    "start_time": "2023-10-11T14:18:09.680Z"
   },
   {
    "duration": 75,
    "start_time": "2023-10-11T14:18:27.712Z"
   },
   {
    "duration": 210,
    "start_time": "2023-10-11T14:21:42.010Z"
   },
   {
    "duration": 141,
    "start_time": "2023-10-11T14:22:13.594Z"
   },
   {
    "duration": 86,
    "start_time": "2023-10-11T14:22:38.682Z"
   },
   {
    "duration": 210,
    "start_time": "2023-10-11T14:23:59.243Z"
   },
   {
    "duration": 148,
    "start_time": "2023-10-11T14:29:14.126Z"
   },
   {
    "duration": 12,
    "start_time": "2023-10-11T14:54:56.197Z"
   },
   {
    "duration": 640,
    "start_time": "2023-10-11T14:55:35.068Z"
   },
   {
    "duration": 68,
    "start_time": "2023-10-11T14:55:35.711Z"
   },
   {
    "duration": 15,
    "start_time": "2023-10-11T14:55:35.781Z"
   },
   {
    "duration": 20,
    "start_time": "2023-10-11T14:55:35.797Z"
   },
   {
    "duration": 27,
    "start_time": "2023-10-11T14:55:35.819Z"
   },
   {
    "duration": 37,
    "start_time": "2023-10-11T14:55:35.847Z"
   },
   {
    "duration": 36,
    "start_time": "2023-10-11T14:55:35.885Z"
   },
   {
    "duration": 42,
    "start_time": "2023-10-11T14:55:35.922Z"
   },
   {
    "duration": 40,
    "start_time": "2023-10-11T14:55:35.965Z"
   },
   {
    "duration": 25,
    "start_time": "2023-10-11T14:55:36.007Z"
   },
   {
    "duration": 57,
    "start_time": "2023-10-11T14:55:36.033Z"
   },
   {
    "duration": 60,
    "start_time": "2023-10-11T14:55:36.091Z"
   },
   {
    "duration": 33,
    "start_time": "2023-10-11T14:55:36.153Z"
   },
   {
    "duration": 18,
    "start_time": "2023-10-11T14:55:36.189Z"
   },
   {
    "duration": 173,
    "start_time": "2023-10-11T14:55:36.209Z"
   },
   {
    "duration": 9,
    "start_time": "2023-10-11T14:55:36.383Z"
   },
   {
    "duration": 164,
    "start_time": "2023-10-11T14:55:36.394Z"
   },
   {
    "duration": 288,
    "start_time": "2023-10-11T14:55:36.559Z"
   },
   {
    "duration": 255,
    "start_time": "2023-10-11T14:55:36.848Z"
   },
   {
    "duration": 204,
    "start_time": "2023-10-11T14:55:37.105Z"
   },
   {
    "duration": 15,
    "start_time": "2023-10-11T14:55:37.311Z"
   },
   {
    "duration": 32,
    "start_time": "2023-10-11T14:55:37.327Z"
   },
   {
    "duration": 18,
    "start_time": "2023-10-11T14:55:37.361Z"
   },
   {
    "duration": 14,
    "start_time": "2023-10-11T14:55:37.380Z"
   },
   {
    "duration": 378,
    "start_time": "2023-10-11T14:55:37.395Z"
   },
   {
    "duration": 309,
    "start_time": "2023-10-11T14:55:37.775Z"
   },
   {
    "duration": 4,
    "start_time": "2023-10-11T14:55:38.085Z"
   },
   {
    "duration": 90,
    "start_time": "2023-10-11T14:55:38.090Z"
   },
   {
    "duration": 8,
    "start_time": "2023-10-11T14:55:51.290Z"
   },
   {
    "duration": 107,
    "start_time": "2023-10-11T14:57:35.643Z"
   },
   {
    "duration": 126,
    "start_time": "2023-10-11T15:01:39.077Z"
   },
   {
    "duration": 108,
    "start_time": "2023-10-11T15:02:02.214Z"
   },
   {
    "duration": 23,
    "start_time": "2023-10-11T15:06:36.350Z"
   },
   {
    "duration": 130,
    "start_time": "2023-10-11T15:06:43.741Z"
   },
   {
    "duration": 672,
    "start_time": "2023-10-11T15:20:05.653Z"
   },
   {
    "duration": 69,
    "start_time": "2023-10-11T15:20:06.327Z"
   },
   {
    "duration": 15,
    "start_time": "2023-10-11T15:20:06.398Z"
   },
   {
    "duration": 20,
    "start_time": "2023-10-11T15:20:06.415Z"
   },
   {
    "duration": 20,
    "start_time": "2023-10-11T15:20:06.437Z"
   },
   {
    "duration": 15,
    "start_time": "2023-10-11T15:20:06.459Z"
   },
   {
    "duration": 18,
    "start_time": "2023-10-11T15:20:06.476Z"
   },
   {
    "duration": 22,
    "start_time": "2023-10-11T15:20:06.496Z"
   },
   {
    "duration": 26,
    "start_time": "2023-10-11T15:20:06.519Z"
   },
   {
    "duration": 23,
    "start_time": "2023-10-11T15:20:06.547Z"
   },
   {
    "duration": 2,
    "start_time": "2023-10-11T15:20:06.572Z"
   },
   {
    "duration": 37,
    "start_time": "2023-10-11T15:20:06.576Z"
   },
   {
    "duration": 23,
    "start_time": "2023-10-11T15:20:06.615Z"
   },
   {
    "duration": 21,
    "start_time": "2023-10-11T15:20:06.640Z"
   },
   {
    "duration": 163,
    "start_time": "2023-10-11T15:20:06.663Z"
   },
   {
    "duration": 10,
    "start_time": "2023-10-11T15:20:06.828Z"
   },
   {
    "duration": 154,
    "start_time": "2023-10-11T15:20:06.844Z"
   },
   {
    "duration": 255,
    "start_time": "2023-10-11T15:20:06.999Z"
   },
   {
    "duration": 249,
    "start_time": "2023-10-11T15:20:07.256Z"
   },
   {
    "duration": 202,
    "start_time": "2023-10-11T15:20:07.506Z"
   },
   {
    "duration": 17,
    "start_time": "2023-10-11T15:20:07.709Z"
   },
   {
    "duration": 63,
    "start_time": "2023-10-11T15:20:07.727Z"
   },
   {
    "duration": 32,
    "start_time": "2023-10-11T15:20:07.791Z"
   },
   {
    "duration": 35,
    "start_time": "2023-10-11T15:20:07.824Z"
   },
   {
    "duration": 335,
    "start_time": "2023-10-11T15:20:07.861Z"
   },
   {
    "duration": 308,
    "start_time": "2023-10-11T15:20:08.198Z"
   },
   {
    "duration": 4,
    "start_time": "2023-10-11T15:20:08.507Z"
   },
   {
    "duration": 24,
    "start_time": "2023-10-11T15:20:08.513Z"
   },
   {
    "duration": 89,
    "start_time": "2023-10-11T15:20:08.539Z"
   },
   {
    "duration": 0,
    "start_time": "2023-10-11T15:20:08.630Z"
   },
   {
    "duration": 0,
    "start_time": "2023-10-11T15:20:08.631Z"
   },
   {
    "duration": 89,
    "start_time": "2023-10-11T15:20:16.488Z"
   },
   {
    "duration": 19,
    "start_time": "2023-10-11T15:20:35.162Z"
   },
   {
    "duration": 3,
    "start_time": "2023-10-11T15:23:38.723Z"
   },
   {
    "duration": 15,
    "start_time": "2023-10-11T15:23:39.291Z"
   },
   {
    "duration": 21,
    "start_time": "2023-10-11T15:26:38.732Z"
   },
   {
    "duration": 86,
    "start_time": "2023-10-11T15:27:21.286Z"
   },
   {
    "duration": 3,
    "start_time": "2023-10-11T15:27:34.990Z"
   },
   {
    "duration": 1377,
    "start_time": "2023-10-11T15:27:35.716Z"
   },
   {
    "duration": 14,
    "start_time": "2023-10-11T15:27:56.604Z"
   },
   {
    "duration": 6,
    "start_time": "2023-10-11T15:38:49.863Z"
   },
   {
    "duration": 17,
    "start_time": "2023-10-11T15:39:05.926Z"
   },
   {
    "duration": 23,
    "start_time": "2023-10-11T15:40:46.367Z"
   },
   {
    "duration": 3,
    "start_time": "2023-10-11T15:40:48.432Z"
   },
   {
    "duration": 15,
    "start_time": "2023-10-11T15:40:49.088Z"
   },
   {
    "duration": 6,
    "start_time": "2023-10-11T15:40:50.998Z"
   },
   {
    "duration": 19,
    "start_time": "2023-10-11T15:40:52.711Z"
   },
   {
    "duration": 54,
    "start_time": "2023-10-12T04:27:18.886Z"
   },
   {
    "duration": 6,
    "start_time": "2023-10-12T04:27:42.747Z"
   },
   {
    "duration": 878,
    "start_time": "2023-10-12T04:27:57.860Z"
   },
   {
    "duration": 200,
    "start_time": "2023-10-12T04:27:58.740Z"
   },
   {
    "duration": 17,
    "start_time": "2023-10-12T04:27:58.941Z"
   },
   {
    "duration": 25,
    "start_time": "2023-10-12T04:27:58.960Z"
   },
   {
    "duration": 29,
    "start_time": "2023-10-12T04:27:58.987Z"
   },
   {
    "duration": 20,
    "start_time": "2023-10-12T04:27:59.018Z"
   },
   {
    "duration": 25,
    "start_time": "2023-10-12T04:27:59.040Z"
   },
   {
    "duration": 27,
    "start_time": "2023-10-12T04:27:59.067Z"
   },
   {
    "duration": 28,
    "start_time": "2023-10-12T04:27:59.096Z"
   },
   {
    "duration": 10,
    "start_time": "2023-10-12T04:27:59.127Z"
   },
   {
    "duration": 8,
    "start_time": "2023-10-12T04:27:59.139Z"
   },
   {
    "duration": 14,
    "start_time": "2023-10-12T04:27:59.148Z"
   },
   {
    "duration": 13,
    "start_time": "2023-10-12T04:27:59.164Z"
   },
   {
    "duration": 18,
    "start_time": "2023-10-12T04:27:59.179Z"
   },
   {
    "duration": 194,
    "start_time": "2023-10-12T04:27:59.199Z"
   },
   {
    "duration": 10,
    "start_time": "2023-10-12T04:27:59.394Z"
   },
   {
    "duration": 158,
    "start_time": "2023-10-12T04:27:59.405Z"
   },
   {
    "duration": 284,
    "start_time": "2023-10-12T04:27:59.565Z"
   },
   {
    "duration": 277,
    "start_time": "2023-10-12T04:27:59.851Z"
   },
   {
    "duration": 219,
    "start_time": "2023-10-12T04:28:00.130Z"
   },
   {
    "duration": 18,
    "start_time": "2023-10-12T04:28:00.352Z"
   },
   {
    "duration": 76,
    "start_time": "2023-10-12T04:28:00.372Z"
   },
   {
    "duration": 39,
    "start_time": "2023-10-12T04:28:00.450Z"
   },
   {
    "duration": 48,
    "start_time": "2023-10-12T04:28:00.491Z"
   },
   {
    "duration": 46,
    "start_time": "2023-10-12T04:28:00.541Z"
   },
   {
    "duration": 386,
    "start_time": "2023-10-12T04:28:00.589Z"
   },
   {
    "duration": 364,
    "start_time": "2023-10-12T04:28:00.977Z"
   },
   {
    "duration": 4,
    "start_time": "2023-10-12T04:28:01.347Z"
   },
   {
    "duration": 112,
    "start_time": "2023-10-12T04:28:01.352Z"
   },
   {
    "duration": 59,
    "start_time": "2023-10-12T04:28:01.466Z"
   },
   {
    "duration": 14,
    "start_time": "2023-10-12T04:28:01.527Z"
   },
   {
    "duration": 40,
    "start_time": "2023-10-12T04:28:01.543Z"
   },
   {
    "duration": 42,
    "start_time": "2023-10-12T04:28:01.585Z"
   },
   {
    "duration": 54,
    "start_time": "2023-10-12T04:28:01.629Z"
   },
   {
    "duration": 32,
    "start_time": "2023-10-12T04:28:01.685Z"
   },
   {
    "duration": 4,
    "start_time": "2023-10-12T04:28:28.690Z"
   },
   {
    "duration": 5,
    "start_time": "2023-10-12T04:28:44.442Z"
   },
   {
    "duration": 1157,
    "start_time": "2023-10-12T04:32:29.996Z"
   },
   {
    "duration": 71,
    "start_time": "2023-10-12T04:32:31.155Z"
   },
   {
    "duration": 96,
    "start_time": "2023-10-12T04:32:31.228Z"
   },
   {
    "duration": 58,
    "start_time": "2023-10-12T04:32:31.326Z"
   },
   {
    "duration": 48,
    "start_time": "2023-10-12T04:32:31.385Z"
   },
   {
    "duration": 75,
    "start_time": "2023-10-12T04:32:31.435Z"
   },
   {
    "duration": 221,
    "start_time": "2023-10-12T04:32:31.512Z"
   },
   {
    "duration": 116,
    "start_time": "2023-10-12T04:32:31.734Z"
   },
   {
    "duration": 17,
    "start_time": "2023-10-12T04:32:31.852Z"
   },
   {
    "duration": 12,
    "start_time": "2023-10-12T04:32:31.872Z"
   },
   {
    "duration": 7,
    "start_time": "2023-10-12T04:32:31.885Z"
   },
   {
    "duration": 26,
    "start_time": "2023-10-12T04:32:31.894Z"
   },
   {
    "duration": 20,
    "start_time": "2023-10-12T04:32:31.922Z"
   },
   {
    "duration": 17,
    "start_time": "2023-10-12T04:32:31.944Z"
   },
   {
    "duration": 194,
    "start_time": "2023-10-12T04:32:31.963Z"
   },
   {
    "duration": 10,
    "start_time": "2023-10-12T04:32:32.159Z"
   },
   {
    "duration": 158,
    "start_time": "2023-10-12T04:32:32.171Z"
   },
   {
    "duration": 303,
    "start_time": "2023-10-12T04:32:32.331Z"
   },
   {
    "duration": 223,
    "start_time": "2023-10-12T04:32:32.635Z"
   },
   {
    "duration": 223,
    "start_time": "2023-10-12T04:32:32.860Z"
   },
   {
    "duration": 17,
    "start_time": "2023-10-12T04:32:33.085Z"
   },
   {
    "duration": 45,
    "start_time": "2023-10-12T04:32:33.103Z"
   },
   {
    "duration": 29,
    "start_time": "2023-10-12T04:32:33.150Z"
   },
   {
    "duration": 21,
    "start_time": "2023-10-12T04:32:33.181Z"
   },
   {
    "duration": 406,
    "start_time": "2023-10-12T04:32:33.204Z"
   },
   {
    "duration": 420,
    "start_time": "2023-10-12T04:32:33.613Z"
   },
   {
    "duration": 4,
    "start_time": "2023-10-12T04:32:34.035Z"
   },
   {
    "duration": 47,
    "start_time": "2023-10-12T04:32:34.046Z"
   },
   {
    "duration": 32,
    "start_time": "2023-10-12T04:32:34.094Z"
   },
   {
    "duration": 4,
    "start_time": "2023-10-12T04:32:34.128Z"
   },
   {
    "duration": 19,
    "start_time": "2023-10-12T04:32:34.134Z"
   },
   {
    "duration": 12,
    "start_time": "2023-10-12T04:32:34.154Z"
   },
   {
    "duration": 46,
    "start_time": "2023-10-12T04:32:34.168Z"
   },
   {
    "duration": 70,
    "start_time": "2023-10-12T04:32:34.215Z"
   },
   {
    "duration": 30,
    "start_time": "2023-10-12T04:32:34.287Z"
   },
   {
    "duration": 17,
    "start_time": "2023-10-12T04:32:34.319Z"
   },
   {
    "duration": 184,
    "start_time": "2023-10-12T04:32:34.338Z"
   },
   {
    "duration": 11,
    "start_time": "2023-10-12T04:33:45.845Z"
   },
   {
    "duration": 5,
    "start_time": "2023-10-12T04:34:12.748Z"
   },
   {
    "duration": 5,
    "start_time": "2023-10-12T04:35:55.005Z"
   },
   {
    "duration": 5,
    "start_time": "2023-10-12T04:36:28.572Z"
   },
   {
    "duration": 8,
    "start_time": "2023-10-12T04:36:45.268Z"
   },
   {
    "duration": 5,
    "start_time": "2023-10-12T04:36:54.117Z"
   },
   {
    "duration": 8,
    "start_time": "2023-10-12T04:37:48.573Z"
   },
   {
    "duration": 5,
    "start_time": "2023-10-12T04:37:54.092Z"
   },
   {
    "duration": 5,
    "start_time": "2023-10-12T04:38:12.421Z"
   },
   {
    "duration": 5,
    "start_time": "2023-10-12T04:38:29.117Z"
   },
   {
    "duration": 6,
    "start_time": "2023-10-12T04:44:55.741Z"
   },
   {
    "duration": 5,
    "start_time": "2023-10-12T04:48:49.831Z"
   },
   {
    "duration": 5,
    "start_time": "2023-10-12T04:48:50.318Z"
   },
   {
    "duration": 6,
    "start_time": "2023-10-12T04:55:06.878Z"
   },
   {
    "duration": 6,
    "start_time": "2023-10-12T05:13:52.521Z"
   },
   {
    "duration": 6,
    "start_time": "2023-10-12T05:26:24.167Z"
   },
   {
    "duration": 87,
    "start_time": "2023-10-12T08:58:55.082Z"
   },
   {
    "duration": 8,
    "start_time": "2023-10-12T08:58:55.634Z"
   },
   {
    "duration": 73,
    "start_time": "2023-10-12T08:59:02.978Z"
   },
   {
    "duration": 16,
    "start_time": "2023-10-12T08:59:42.938Z"
   },
   {
    "duration": 11,
    "start_time": "2023-10-12T09:00:23.211Z"
   },
   {
    "duration": 8,
    "start_time": "2023-10-12T09:00:25.122Z"
   },
   {
    "duration": 8,
    "start_time": "2023-10-12T09:00:57.043Z"
   },
   {
    "duration": 6,
    "start_time": "2023-10-12T09:03:52.731Z"
   },
   {
    "duration": 6,
    "start_time": "2023-10-12T09:04:10.546Z"
   },
   {
    "duration": 6,
    "start_time": "2023-10-12T09:08:15.620Z"
   },
   {
    "duration": 7,
    "start_time": "2023-10-12T09:08:46.429Z"
   },
   {
    "duration": 1195,
    "start_time": "2023-10-12T09:12:07.834Z"
   },
   {
    "duration": 75,
    "start_time": "2023-10-12T09:12:09.032Z"
   },
   {
    "duration": 19,
    "start_time": "2023-10-12T09:12:09.109Z"
   },
   {
    "duration": 25,
    "start_time": "2023-10-12T09:12:09.131Z"
   },
   {
    "duration": 32,
    "start_time": "2023-10-12T09:12:09.158Z"
   },
   {
    "duration": 9,
    "start_time": "2023-10-12T09:12:09.192Z"
   },
   {
    "duration": 25,
    "start_time": "2023-10-12T09:12:09.202Z"
   },
   {
    "duration": 58,
    "start_time": "2023-10-12T09:12:09.229Z"
   },
   {
    "duration": 44,
    "start_time": "2023-10-12T09:12:09.289Z"
   },
   {
    "duration": 19,
    "start_time": "2023-10-12T09:12:09.337Z"
   },
   {
    "duration": 4,
    "start_time": "2023-10-12T09:12:09.358Z"
   },
   {
    "duration": 10,
    "start_time": "2023-10-12T09:12:09.363Z"
   },
   {
    "duration": 10,
    "start_time": "2023-10-12T09:12:09.375Z"
   },
   {
    "duration": 7,
    "start_time": "2023-10-12T09:12:09.387Z"
   },
   {
    "duration": 185,
    "start_time": "2023-10-12T09:12:09.395Z"
   },
   {
    "duration": 10,
    "start_time": "2023-10-12T09:12:09.582Z"
   },
   {
    "duration": 168,
    "start_time": "2023-10-12T09:12:09.593Z"
   },
   {
    "duration": 293,
    "start_time": "2023-10-12T09:12:09.763Z"
   },
   {
    "duration": 236,
    "start_time": "2023-10-12T09:12:10.058Z"
   },
   {
    "duration": 220,
    "start_time": "2023-10-12T09:12:10.296Z"
   },
   {
    "duration": 20,
    "start_time": "2023-10-12T09:12:10.518Z"
   },
   {
    "duration": 46,
    "start_time": "2023-10-12T09:12:10.546Z"
   },
   {
    "duration": 10,
    "start_time": "2023-10-12T09:12:10.594Z"
   },
   {
    "duration": 17,
    "start_time": "2023-10-12T09:12:10.606Z"
   },
   {
    "duration": 353,
    "start_time": "2023-10-12T09:12:10.625Z"
   },
   {
    "duration": 417,
    "start_time": "2023-10-12T09:12:10.980Z"
   },
   {
    "duration": 4,
    "start_time": "2023-10-12T09:12:11.398Z"
   },
   {
    "duration": 35,
    "start_time": "2023-10-12T09:12:11.405Z"
   },
   {
    "duration": 45,
    "start_time": "2023-10-12T09:12:11.442Z"
   },
   {
    "duration": 3,
    "start_time": "2023-10-12T09:12:11.489Z"
   },
   {
    "duration": 35,
    "start_time": "2023-10-12T09:12:11.493Z"
   },
   {
    "duration": 23,
    "start_time": "2023-10-12T09:12:11.530Z"
   },
   {
    "duration": 24,
    "start_time": "2023-10-12T09:12:11.555Z"
   },
   {
    "duration": 2,
    "start_time": "2023-10-12T09:12:11.581Z"
   },
   {
    "duration": 6,
    "start_time": "2023-10-12T09:12:11.586Z"
   },
   {
    "duration": 12,
    "start_time": "2023-10-12T09:12:11.594Z"
   },
   {
    "duration": 26,
    "start_time": "2023-10-12T09:12:11.608Z"
   },
   {
    "duration": 7,
    "start_time": "2023-10-12T09:12:11.636Z"
   },
   {
    "duration": 11,
    "start_time": "2023-10-12T09:12:11.646Z"
   },
   {
    "duration": 10,
    "start_time": "2023-10-12T09:12:11.658Z"
   },
   {
    "duration": 14,
    "start_time": "2023-10-12T09:12:11.669Z"
   },
   {
    "duration": 6,
    "start_time": "2023-10-12T09:12:11.685Z"
   },
   {
    "duration": 14,
    "start_time": "2023-10-12T09:12:11.692Z"
   },
   {
    "duration": 41,
    "start_time": "2023-10-12T09:12:11.708Z"
   },
   {
    "duration": 18,
    "start_time": "2023-10-12T09:12:11.751Z"
   },
   {
    "duration": 10,
    "start_time": "2023-10-12T09:12:11.771Z"
   },
   {
    "duration": 110,
    "start_time": "2023-10-12T09:12:11.782Z"
   },
   {
    "duration": 0,
    "start_time": "2023-10-12T09:12:11.894Z"
   },
   {
    "duration": 8,
    "start_time": "2023-10-12T09:12:37.533Z"
   },
   {
    "duration": 19,
    "start_time": "2023-10-12T09:12:58.598Z"
   },
   {
    "duration": 14,
    "start_time": "2023-10-12T09:13:07.173Z"
   },
   {
    "duration": 6,
    "start_time": "2023-10-12T09:14:40.766Z"
   },
   {
    "duration": 13,
    "start_time": "2023-10-12T09:14:52.669Z"
   },
   {
    "duration": 5,
    "start_time": "2023-10-12T09:14:53.037Z"
   },
   {
    "duration": 5,
    "start_time": "2023-10-12T09:29:05.950Z"
   },
   {
    "duration": 5,
    "start_time": "2023-10-12T09:30:24.061Z"
   },
   {
    "duration": 8,
    "start_time": "2023-10-12T09:34:21.805Z"
   },
   {
    "duration": 5,
    "start_time": "2023-10-12T09:34:55.957Z"
   },
   {
    "duration": 5,
    "start_time": "2023-10-12T09:35:25.582Z"
   },
   {
    "duration": 8,
    "start_time": "2023-10-12T09:36:37.750Z"
   },
   {
    "duration": 5,
    "start_time": "2023-10-12T09:42:03.127Z"
   },
   {
    "duration": 9,
    "start_time": "2023-10-12T09:56:00.609Z"
   },
   {
    "duration": 7,
    "start_time": "2023-10-12T09:56:01.208Z"
   },
   {
    "duration": 8,
    "start_time": "2023-10-12T09:56:01.945Z"
   },
   {
    "duration": 6,
    "start_time": "2023-10-12T09:56:02.449Z"
   },
   {
    "duration": 12,
    "start_time": "2023-10-12T09:56:04.097Z"
   },
   {
    "duration": 5,
    "start_time": "2023-10-12T09:56:06.473Z"
   },
   {
    "duration": 7,
    "start_time": "2023-10-12T09:56:55.305Z"
   },
   {
    "duration": 1158,
    "start_time": "2023-10-12T13:36:33.092Z"
   },
   {
    "duration": 72,
    "start_time": "2023-10-12T13:36:34.253Z"
   },
   {
    "duration": 18,
    "start_time": "2023-10-12T13:36:34.327Z"
   },
   {
    "duration": 65,
    "start_time": "2023-10-12T13:36:34.348Z"
   },
   {
    "duration": 280,
    "start_time": "2023-10-12T13:36:34.415Z"
   },
   {
    "duration": 80,
    "start_time": "2023-10-12T13:36:34.696Z"
   },
   {
    "duration": 57,
    "start_time": "2023-10-12T13:36:34.778Z"
   },
   {
    "duration": 38,
    "start_time": "2023-10-12T13:36:34.837Z"
   },
   {
    "duration": 39,
    "start_time": "2023-10-12T13:36:34.877Z"
   },
   {
    "duration": 34,
    "start_time": "2023-10-12T13:36:34.920Z"
   },
   {
    "duration": 27,
    "start_time": "2023-10-12T13:36:34.956Z"
   },
   {
    "duration": 51,
    "start_time": "2023-10-12T13:36:34.985Z"
   },
   {
    "duration": 84,
    "start_time": "2023-10-12T13:36:35.039Z"
   },
   {
    "duration": 132,
    "start_time": "2023-10-12T13:36:35.125Z"
   },
   {
    "duration": 230,
    "start_time": "2023-10-12T13:36:35.259Z"
   },
   {
    "duration": 10,
    "start_time": "2023-10-12T13:36:35.491Z"
   },
   {
    "duration": 167,
    "start_time": "2023-10-12T13:36:35.502Z"
   },
   {
    "duration": 311,
    "start_time": "2023-10-12T13:36:35.671Z"
   },
   {
    "duration": 233,
    "start_time": "2023-10-12T13:36:35.984Z"
   },
   {
    "duration": 218,
    "start_time": "2023-10-12T13:36:36.219Z"
   },
   {
    "duration": 26,
    "start_time": "2023-10-12T13:36:36.439Z"
   },
   {
    "duration": 21,
    "start_time": "2023-10-12T13:36:36.467Z"
   },
   {
    "duration": 12,
    "start_time": "2023-10-12T13:36:36.490Z"
   },
   {
    "duration": 8,
    "start_time": "2023-10-12T13:36:36.504Z"
   },
   {
    "duration": 370,
    "start_time": "2023-10-12T13:36:36.513Z"
   },
   {
    "duration": 417,
    "start_time": "2023-10-12T13:36:36.885Z"
   },
   {
    "duration": 4,
    "start_time": "2023-10-12T13:36:37.304Z"
   },
   {
    "duration": 64,
    "start_time": "2023-10-12T13:36:37.311Z"
   },
   {
    "duration": 61,
    "start_time": "2023-10-12T13:36:37.376Z"
   },
   {
    "duration": 18,
    "start_time": "2023-10-12T13:36:37.439Z"
   },
   {
    "duration": 39,
    "start_time": "2023-10-12T13:36:37.459Z"
   },
   {
    "duration": 24,
    "start_time": "2023-10-12T13:36:37.500Z"
   },
   {
    "duration": 35,
    "start_time": "2023-10-12T13:36:37.525Z"
   },
   {
    "duration": 13,
    "start_time": "2023-10-12T13:36:37.562Z"
   },
   {
    "duration": 34,
    "start_time": "2023-10-12T13:36:37.577Z"
   },
   {
    "duration": 20,
    "start_time": "2023-10-12T13:36:37.613Z"
   },
   {
    "duration": 27,
    "start_time": "2023-10-12T13:36:37.635Z"
   },
   {
    "duration": 27,
    "start_time": "2023-10-12T13:36:37.664Z"
   },
   {
    "duration": 39,
    "start_time": "2023-10-12T13:36:37.693Z"
   },
   {
    "duration": 29,
    "start_time": "2023-10-12T13:36:37.734Z"
   },
   {
    "duration": 40,
    "start_time": "2023-10-12T13:36:37.765Z"
   },
   {
    "duration": 24,
    "start_time": "2023-10-12T13:36:37.807Z"
   },
   {
    "duration": 33,
    "start_time": "2023-10-12T13:36:37.833Z"
   },
   {
    "duration": 27,
    "start_time": "2023-10-12T13:36:37.868Z"
   },
   {
    "duration": 26,
    "start_time": "2023-10-12T13:36:37.897Z"
   },
   {
    "duration": 23,
    "start_time": "2023-10-12T13:36:37.925Z"
   },
   {
    "duration": 37,
    "start_time": "2023-10-12T13:36:37.950Z"
   },
   {
    "duration": 51,
    "start_time": "2023-10-12T13:36:37.989Z"
   },
   {
    "duration": 287,
    "start_time": "2023-10-12T13:36:38.041Z"
   },
   {
    "duration": 12,
    "start_time": "2023-10-12T14:23:28.703Z"
   },
   {
    "duration": 9,
    "start_time": "2023-10-12T14:26:02.560Z"
   },
   {
    "duration": 163,
    "start_time": "2023-10-12T14:26:06.056Z"
   },
   {
    "duration": 7,
    "start_time": "2023-10-12T14:29:44.792Z"
   },
   {
    "duration": 243,
    "start_time": "2023-10-12T14:33:05.984Z"
   },
   {
    "duration": 241,
    "start_time": "2023-10-12T14:33:22.361Z"
   },
   {
    "duration": 241,
    "start_time": "2023-10-12T14:39:12.769Z"
   },
   {
    "duration": 154,
    "start_time": "2023-10-12T14:39:58.089Z"
   },
   {
    "duration": 14,
    "start_time": "2023-10-12T14:41:16.202Z"
   },
   {
    "duration": 11,
    "start_time": "2023-10-12T14:42:08.968Z"
   },
   {
    "duration": 11,
    "start_time": "2023-10-12T14:42:44.777Z"
   },
   {
    "duration": 296,
    "start_time": "2023-10-12T14:42:45.929Z"
   },
   {
    "duration": 12,
    "start_time": "2023-10-12T14:42:58.338Z"
   },
   {
    "duration": 300,
    "start_time": "2023-10-12T14:42:59.905Z"
   },
   {
    "duration": 239,
    "start_time": "2023-10-12T14:43:08.561Z"
   },
   {
    "duration": 233,
    "start_time": "2023-10-12T14:43:57.210Z"
   },
   {
    "duration": 133,
    "start_time": "2023-10-12T14:44:38.713Z"
   },
   {
    "duration": 139,
    "start_time": "2023-10-12T14:45:01.235Z"
   },
   {
    "duration": 11,
    "start_time": "2023-10-12T14:45:19.746Z"
   },
   {
    "duration": 11,
    "start_time": "2023-10-12T14:45:26.323Z"
   },
   {
    "duration": 14,
    "start_time": "2023-10-12T14:46:12.579Z"
   },
   {
    "duration": 13,
    "start_time": "2023-10-12T14:47:54.706Z"
   },
   {
    "duration": 11,
    "start_time": "2023-10-12T14:48:06.754Z"
   },
   {
    "duration": 11,
    "start_time": "2023-10-12T14:49:13.418Z"
   },
   {
    "duration": 10,
    "start_time": "2023-10-12T14:49:27.074Z"
   },
   {
    "duration": 16,
    "start_time": "2023-10-12T14:50:29.050Z"
   },
   {
    "duration": 272,
    "start_time": "2023-10-12T14:51:18.780Z"
   },
   {
    "duration": 288,
    "start_time": "2023-10-12T14:51:53.100Z"
   },
   {
    "duration": 230,
    "start_time": "2023-10-12T14:52:16.099Z"
   },
   {
    "duration": 1391,
    "start_time": "2023-10-12T14:53:21.635Z"
   },
   {
    "duration": 1985,
    "start_time": "2023-10-12T14:53:54.667Z"
   },
   {
    "duration": 163,
    "start_time": "2023-10-12T14:54:07.828Z"
   },
   {
    "duration": 226,
    "start_time": "2023-10-12T14:54:35.523Z"
   },
   {
    "duration": 274,
    "start_time": "2023-10-12T14:54:43.075Z"
   },
   {
    "duration": 301,
    "start_time": "2023-10-12T14:55:03.803Z"
   },
   {
    "duration": 219,
    "start_time": "2023-10-12T14:57:27.316Z"
   },
   {
    "duration": 147,
    "start_time": "2023-10-12T15:00:18.052Z"
   },
   {
    "duration": 227,
    "start_time": "2023-10-12T15:00:31.580Z"
   },
   {
    "duration": 3118,
    "start_time": "2023-10-12T15:00:44.852Z"
   },
   {
    "duration": 257,
    "start_time": "2023-10-12T15:01:12.093Z"
   },
   {
    "duration": 150,
    "start_time": "2023-10-12T15:01:26.677Z"
   },
   {
    "duration": 197,
    "start_time": "2023-10-12T15:01:54.061Z"
   },
   {
    "duration": 271,
    "start_time": "2023-10-12T15:01:56.564Z"
   },
   {
    "duration": 277,
    "start_time": "2023-10-12T15:03:53.373Z"
   },
   {
    "duration": 14,
    "start_time": "2023-10-12T15:04:03.404Z"
   },
   {
    "duration": 14,
    "start_time": "2023-10-12T15:05:00.629Z"
   },
   {
    "duration": 48,
    "start_time": "2023-10-13T03:28:06.934Z"
   },
   {
    "duration": 1237,
    "start_time": "2023-10-13T03:28:18.144Z"
   },
   {
    "duration": 203,
    "start_time": "2023-10-13T03:28:19.383Z"
   },
   {
    "duration": 17,
    "start_time": "2023-10-13T03:28:19.588Z"
   },
   {
    "duration": 11,
    "start_time": "2023-10-13T03:28:19.607Z"
   },
   {
    "duration": 9,
    "start_time": "2023-10-13T03:28:19.620Z"
   },
   {
    "duration": 8,
    "start_time": "2023-10-13T03:28:19.631Z"
   },
   {
    "duration": 15,
    "start_time": "2023-10-13T03:28:19.640Z"
   },
   {
    "duration": 17,
    "start_time": "2023-10-13T03:28:19.657Z"
   },
   {
    "duration": 7,
    "start_time": "2023-10-13T03:28:19.675Z"
   },
   {
    "duration": 24,
    "start_time": "2023-10-13T03:28:19.684Z"
   },
   {
    "duration": 4,
    "start_time": "2023-10-13T03:28:19.710Z"
   },
   {
    "duration": 8,
    "start_time": "2023-10-13T03:28:19.715Z"
   },
   {
    "duration": 7,
    "start_time": "2023-10-13T03:28:19.724Z"
   },
   {
    "duration": 6,
    "start_time": "2023-10-13T03:28:19.733Z"
   },
   {
    "duration": 11,
    "start_time": "2023-10-13T03:28:19.741Z"
   },
   {
    "duration": 8,
    "start_time": "2023-10-13T03:28:19.754Z"
   },
   {
    "duration": 179,
    "start_time": "2023-10-13T03:28:19.764Z"
   },
   {
    "duration": 6,
    "start_time": "2023-10-13T03:28:19.944Z"
   },
   {
    "duration": 150,
    "start_time": "2023-10-13T03:28:19.952Z"
   },
   {
    "duration": 12,
    "start_time": "2023-10-13T03:28:20.107Z"
   },
   {
    "duration": 269,
    "start_time": "2023-10-13T03:28:20.120Z"
   },
   {
    "duration": 205,
    "start_time": "2023-10-13T03:28:20.391Z"
   },
   {
    "duration": 194,
    "start_time": "2023-10-13T03:28:20.598Z"
   },
   {
    "duration": 23,
    "start_time": "2023-10-13T03:28:20.794Z"
   },
   {
    "duration": 19,
    "start_time": "2023-10-13T03:28:20.818Z"
   },
   {
    "duration": 25,
    "start_time": "2023-10-13T03:28:20.839Z"
   },
   {
    "duration": 26,
    "start_time": "2023-10-13T03:28:20.866Z"
   },
   {
    "duration": 315,
    "start_time": "2023-10-13T03:28:20.896Z"
   },
   {
    "duration": 383,
    "start_time": "2023-10-13T03:28:21.213Z"
   },
   {
    "duration": 9,
    "start_time": "2023-10-13T03:28:21.598Z"
   },
   {
    "duration": 19,
    "start_time": "2023-10-13T03:28:21.608Z"
   },
   {
    "duration": 20,
    "start_time": "2023-10-13T03:28:21.628Z"
   },
   {
    "duration": 3,
    "start_time": "2023-10-13T03:28:21.650Z"
   },
   {
    "duration": 32,
    "start_time": "2023-10-13T03:28:21.654Z"
   },
   {
    "duration": 19,
    "start_time": "2023-10-13T03:28:21.688Z"
   },
   {
    "duration": 21,
    "start_time": "2023-10-13T03:28:21.708Z"
   },
   {
    "duration": 17,
    "start_time": "2023-10-13T03:28:21.731Z"
   },
   {
    "duration": 26,
    "start_time": "2023-10-13T03:28:21.749Z"
   },
   {
    "duration": 6,
    "start_time": "2023-10-13T03:28:21.776Z"
   },
   {
    "duration": 17,
    "start_time": "2023-10-13T03:28:21.783Z"
   },
   {
    "duration": 9,
    "start_time": "2023-10-13T03:28:21.802Z"
   },
   {
    "duration": 16,
    "start_time": "2023-10-13T03:28:21.812Z"
   },
   {
    "duration": 14,
    "start_time": "2023-10-13T03:28:21.829Z"
   },
   {
    "duration": 21,
    "start_time": "2023-10-13T03:28:21.844Z"
   },
   {
    "duration": 7,
    "start_time": "2023-10-13T03:28:21.866Z"
   },
   {
    "duration": 6,
    "start_time": "2023-10-13T03:28:21.874Z"
   },
   {
    "duration": 11,
    "start_time": "2023-10-13T03:28:21.881Z"
   },
   {
    "duration": 7,
    "start_time": "2023-10-13T03:28:21.893Z"
   },
   {
    "duration": 9,
    "start_time": "2023-10-13T03:28:21.902Z"
   },
   {
    "duration": 5,
    "start_time": "2023-10-13T03:28:21.913Z"
   },
   {
    "duration": 13,
    "start_time": "2023-10-13T03:28:21.920Z"
   },
   {
    "duration": 16,
    "start_time": "2023-10-13T03:28:21.934Z"
   },
   {
    "duration": 9,
    "start_time": "2023-10-13T03:28:21.952Z"
   },
   {
    "duration": 203,
    "start_time": "2023-10-13T03:34:32.693Z"
   },
   {
    "duration": 199,
    "start_time": "2023-10-13T03:35:25.532Z"
   },
   {
    "duration": 12,
    "start_time": "2023-10-13T04:31:14.764Z"
   },
   {
    "duration": 7,
    "start_time": "2023-10-13T04:31:15.931Z"
   },
   {
    "duration": 8,
    "start_time": "2023-10-13T05:20:05.124Z"
   },
   {
    "duration": 1216,
    "start_time": "2023-10-13T05:44:21.670Z"
   },
   {
    "duration": 71,
    "start_time": "2023-10-13T05:44:22.888Z"
   },
   {
    "duration": 18,
    "start_time": "2023-10-13T05:44:22.960Z"
   },
   {
    "duration": 12,
    "start_time": "2023-10-13T05:44:22.980Z"
   },
   {
    "duration": 6,
    "start_time": "2023-10-13T05:44:22.994Z"
   },
   {
    "duration": 5,
    "start_time": "2023-10-13T05:44:23.001Z"
   },
   {
    "duration": 15,
    "start_time": "2023-10-13T05:44:23.008Z"
   },
   {
    "duration": 10,
    "start_time": "2023-10-13T05:44:23.024Z"
   },
   {
    "duration": 6,
    "start_time": "2023-10-13T05:44:23.036Z"
   },
   {
    "duration": 7,
    "start_time": "2023-10-13T05:44:23.045Z"
   },
   {
    "duration": 10,
    "start_time": "2023-10-13T05:44:23.053Z"
   },
   {
    "duration": 13,
    "start_time": "2023-10-13T05:44:23.064Z"
   },
   {
    "duration": 12,
    "start_time": "2023-10-13T05:44:23.078Z"
   },
   {
    "duration": 30,
    "start_time": "2023-10-13T05:44:23.091Z"
   },
   {
    "duration": 23,
    "start_time": "2023-10-13T05:44:23.122Z"
   },
   {
    "duration": 16,
    "start_time": "2023-10-13T05:44:23.146Z"
   },
   {
    "duration": 169,
    "start_time": "2023-10-13T05:44:23.163Z"
   },
   {
    "duration": 5,
    "start_time": "2023-10-13T05:44:23.334Z"
   },
   {
    "duration": 162,
    "start_time": "2023-10-13T05:44:23.341Z"
   },
   {
    "duration": 12,
    "start_time": "2023-10-13T05:44:23.505Z"
   },
   {
    "duration": 265,
    "start_time": "2023-10-13T05:44:23.519Z"
   },
   {
    "duration": 213,
    "start_time": "2023-10-13T05:44:23.786Z"
   },
   {
    "duration": 221,
    "start_time": "2023-10-13T05:44:24.007Z"
   },
   {
    "duration": 15,
    "start_time": "2023-10-13T05:44:24.230Z"
   },
   {
    "duration": 37,
    "start_time": "2023-10-13T05:44:24.247Z"
   },
   {
    "duration": 9,
    "start_time": "2023-10-13T05:44:24.287Z"
   },
   {
    "duration": 33,
    "start_time": "2023-10-13T05:44:24.298Z"
   },
   {
    "duration": 369,
    "start_time": "2023-10-13T05:44:24.335Z"
   },
   {
    "duration": 390,
    "start_time": "2023-10-13T05:44:24.707Z"
   },
   {
    "duration": 8,
    "start_time": "2023-10-13T05:44:25.100Z"
   },
   {
    "duration": 70,
    "start_time": "2023-10-13T05:44:25.109Z"
   },
   {
    "duration": 34,
    "start_time": "2023-10-13T05:44:25.181Z"
   },
   {
    "duration": 30,
    "start_time": "2023-10-13T05:44:25.217Z"
   },
   {
    "duration": 49,
    "start_time": "2023-10-13T05:44:25.249Z"
   },
   {
    "duration": 39,
    "start_time": "2023-10-13T05:44:25.299Z"
   },
   {
    "duration": 47,
    "start_time": "2023-10-13T05:44:25.339Z"
   },
   {
    "duration": 17,
    "start_time": "2023-10-13T05:44:25.387Z"
   },
   {
    "duration": 35,
    "start_time": "2023-10-13T05:44:25.406Z"
   },
   {
    "duration": 27,
    "start_time": "2023-10-13T05:44:25.443Z"
   },
   {
    "duration": 30,
    "start_time": "2023-10-13T05:44:25.471Z"
   },
   {
    "duration": 57,
    "start_time": "2023-10-13T05:44:25.503Z"
   },
   {
    "duration": 35,
    "start_time": "2023-10-13T05:44:25.562Z"
   },
   {
    "duration": 40,
    "start_time": "2023-10-13T05:44:25.599Z"
   },
   {
    "duration": 33,
    "start_time": "2023-10-13T05:44:25.640Z"
   },
   {
    "duration": 13,
    "start_time": "2023-10-13T05:44:25.674Z"
   },
   {
    "duration": 90,
    "start_time": "2023-10-13T05:44:25.688Z"
   },
   {
    "duration": 11,
    "start_time": "2023-10-13T05:44:25.779Z"
   },
   {
    "duration": 25,
    "start_time": "2023-10-13T05:44:25.792Z"
   },
   {
    "duration": 48,
    "start_time": "2023-10-13T05:44:25.819Z"
   },
   {
    "duration": 34,
    "start_time": "2023-10-13T05:44:25.869Z"
   },
   {
    "duration": 36,
    "start_time": "2023-10-13T05:44:25.905Z"
   },
   {
    "duration": 75,
    "start_time": "2023-10-13T05:44:25.943Z"
   },
   {
    "duration": 0,
    "start_time": "2023-10-13T05:44:26.021Z"
   },
   {
    "duration": 7167,
    "start_time": "2023-10-13T05:45:04.082Z"
   },
   {
    "duration": 3784,
    "start_time": "2023-10-13T05:45:43.114Z"
   },
   {
    "duration": 2424,
    "start_time": "2023-10-13T05:46:09.266Z"
   },
   {
    "duration": 16081,
    "start_time": "2023-10-13T05:47:04.867Z"
   },
   {
    "duration": 2387,
    "start_time": "2023-10-13T05:50:40.443Z"
   },
   {
    "duration": 1121,
    "start_time": "2023-10-13T05:53:18.994Z"
   },
   {
    "duration": 70,
    "start_time": "2023-10-13T05:53:20.117Z"
   },
   {
    "duration": 17,
    "start_time": "2023-10-13T05:53:20.189Z"
   },
   {
    "duration": 11,
    "start_time": "2023-10-13T05:53:20.209Z"
   },
   {
    "duration": 18,
    "start_time": "2023-10-13T05:53:20.221Z"
   },
   {
    "duration": 8,
    "start_time": "2023-10-13T05:53:20.241Z"
   },
   {
    "duration": 13,
    "start_time": "2023-10-13T05:53:20.250Z"
   },
   {
    "duration": 11,
    "start_time": "2023-10-13T05:53:20.265Z"
   },
   {
    "duration": 14,
    "start_time": "2023-10-13T05:53:20.278Z"
   },
   {
    "duration": 10,
    "start_time": "2023-10-13T05:53:20.308Z"
   },
   {
    "duration": 19,
    "start_time": "2023-10-13T05:53:20.320Z"
   },
   {
    "duration": 6,
    "start_time": "2023-10-13T05:53:20.341Z"
   },
   {
    "duration": 8,
    "start_time": "2023-10-13T05:53:20.349Z"
   },
   {
    "duration": 8,
    "start_time": "2023-10-13T05:53:20.359Z"
   },
   {
    "duration": 29,
    "start_time": "2023-10-13T05:53:20.369Z"
   },
   {
    "duration": 13,
    "start_time": "2023-10-13T05:53:20.400Z"
   },
   {
    "duration": 174,
    "start_time": "2023-10-13T05:53:20.415Z"
   },
   {
    "duration": 7,
    "start_time": "2023-10-13T05:53:20.590Z"
   },
   {
    "duration": 141,
    "start_time": "2023-10-13T05:53:20.599Z"
   },
   {
    "duration": 12,
    "start_time": "2023-10-13T05:53:20.742Z"
   },
   {
    "duration": 290,
    "start_time": "2023-10-13T05:53:20.756Z"
   },
   {
    "duration": 226,
    "start_time": "2023-10-13T05:53:21.048Z"
   },
   {
    "duration": 240,
    "start_time": "2023-10-13T05:53:21.276Z"
   },
   {
    "duration": 15,
    "start_time": "2023-10-13T05:53:21.517Z"
   },
   {
    "duration": 28,
    "start_time": "2023-10-13T05:53:21.534Z"
   },
   {
    "duration": 16,
    "start_time": "2023-10-13T05:53:21.564Z"
   },
   {
    "duration": 5,
    "start_time": "2023-10-13T05:53:21.582Z"
   },
   {
    "duration": 321,
    "start_time": "2023-10-13T05:53:21.590Z"
   },
   {
    "duration": 394,
    "start_time": "2023-10-13T05:53:21.913Z"
   },
   {
    "duration": 4,
    "start_time": "2023-10-13T05:53:22.308Z"
   },
   {
    "duration": 23,
    "start_time": "2023-10-13T05:53:22.313Z"
   },
   {
    "duration": 22,
    "start_time": "2023-10-13T05:53:22.338Z"
   },
   {
    "duration": 3,
    "start_time": "2023-10-13T05:53:22.361Z"
   },
   {
    "duration": 42,
    "start_time": "2023-10-13T05:53:22.366Z"
   },
   {
    "duration": 6,
    "start_time": "2023-10-13T05:53:22.409Z"
   },
   {
    "duration": 21,
    "start_time": "2023-10-13T05:53:22.417Z"
   },
   {
    "duration": 3,
    "start_time": "2023-10-13T05:53:22.440Z"
   },
   {
    "duration": 14,
    "start_time": "2023-10-13T05:53:22.445Z"
   },
   {
    "duration": 14,
    "start_time": "2023-10-13T05:53:22.461Z"
   },
   {
    "duration": 13,
    "start_time": "2023-10-13T05:53:22.476Z"
   },
   {
    "duration": 10,
    "start_time": "2023-10-13T05:53:22.506Z"
   },
   {
    "duration": 8,
    "start_time": "2023-10-13T05:53:22.518Z"
   },
   {
    "duration": 7,
    "start_time": "2023-10-13T05:53:22.528Z"
   },
   {
    "duration": 12,
    "start_time": "2023-10-13T05:53:22.536Z"
   },
   {
    "duration": 6,
    "start_time": "2023-10-13T05:53:22.549Z"
   },
   {
    "duration": 18,
    "start_time": "2023-10-13T05:53:22.556Z"
   },
   {
    "duration": 6,
    "start_time": "2023-10-13T05:53:22.576Z"
   },
   {
    "duration": 33,
    "start_time": "2023-10-13T05:53:22.583Z"
   },
   {
    "duration": 15,
    "start_time": "2023-10-13T05:53:22.618Z"
   },
   {
    "duration": 41,
    "start_time": "2023-10-13T05:53:22.635Z"
   },
   {
    "duration": 17,
    "start_time": "2023-10-13T05:53:22.677Z"
   },
   {
    "duration": 1510,
    "start_time": "2023-10-13T05:53:22.695Z"
   },
   {
    "duration": 6,
    "start_time": "2023-10-13T05:53:24.207Z"
   },
   {
    "duration": 1513,
    "start_time": "2023-10-13T05:54:59.637Z"
   },
   {
    "duration": 236,
    "start_time": "2023-10-13T05:56:32.436Z"
   },
   {
    "duration": 121,
    "start_time": "2023-10-13T06:21:48.372Z"
   },
   {
    "duration": 68,
    "start_time": "2023-10-13T06:21:58.195Z"
   },
   {
    "duration": 1187,
    "start_time": "2023-10-13T06:22:44.312Z"
   },
   {
    "duration": 70,
    "start_time": "2023-10-13T06:22:45.501Z"
   },
   {
    "duration": 17,
    "start_time": "2023-10-13T06:22:45.572Z"
   },
   {
    "duration": 49,
    "start_time": "2023-10-13T06:22:45.591Z"
   },
   {
    "duration": 46,
    "start_time": "2023-10-13T06:22:45.642Z"
   },
   {
    "duration": 47,
    "start_time": "2023-10-13T06:22:45.690Z"
   },
   {
    "duration": 39,
    "start_time": "2023-10-13T06:22:45.738Z"
   },
   {
    "duration": 34,
    "start_time": "2023-10-13T06:22:45.778Z"
   },
   {
    "duration": 43,
    "start_time": "2023-10-13T06:22:45.814Z"
   },
   {
    "duration": 44,
    "start_time": "2023-10-13T06:22:45.861Z"
   },
   {
    "duration": 57,
    "start_time": "2023-10-13T06:22:45.908Z"
   },
   {
    "duration": 25,
    "start_time": "2023-10-13T06:22:45.967Z"
   },
   {
    "duration": 39,
    "start_time": "2023-10-13T06:22:45.994Z"
   },
   {
    "duration": 52,
    "start_time": "2023-10-13T06:22:46.035Z"
   },
   {
    "duration": 39,
    "start_time": "2023-10-13T06:22:46.090Z"
   },
   {
    "duration": 47,
    "start_time": "2023-10-13T06:22:46.132Z"
   },
   {
    "duration": 208,
    "start_time": "2023-10-13T06:22:46.182Z"
   },
   {
    "duration": 19,
    "start_time": "2023-10-13T06:22:46.392Z"
   },
   {
    "duration": 172,
    "start_time": "2023-10-13T06:22:46.413Z"
   },
   {
    "duration": 14,
    "start_time": "2023-10-13T06:22:46.587Z"
   },
   {
    "duration": 324,
    "start_time": "2023-10-13T06:22:46.609Z"
   },
   {
    "duration": 240,
    "start_time": "2023-10-13T06:22:46.935Z"
   },
   {
    "duration": 266,
    "start_time": "2023-10-13T06:22:47.177Z"
   },
   {
    "duration": 17,
    "start_time": "2023-10-13T06:22:47.446Z"
   },
   {
    "duration": 116,
    "start_time": "2023-10-13T06:22:47.465Z"
   },
   {
    "duration": 18,
    "start_time": "2023-10-13T06:22:47.583Z"
   },
   {
    "duration": 63,
    "start_time": "2023-10-13T06:22:47.603Z"
   },
   {
    "duration": 404,
    "start_time": "2023-10-13T06:22:47.670Z"
   },
   {
    "duration": 428,
    "start_time": "2023-10-13T06:22:48.076Z"
   },
   {
    "duration": 8,
    "start_time": "2023-10-13T06:22:48.507Z"
   },
   {
    "duration": 49,
    "start_time": "2023-10-13T06:22:48.522Z"
   },
   {
    "duration": 27,
    "start_time": "2023-10-13T06:22:48.573Z"
   },
   {
    "duration": 39,
    "start_time": "2023-10-13T06:22:48.601Z"
   },
   {
    "duration": 40,
    "start_time": "2023-10-13T06:22:48.641Z"
   },
   {
    "duration": 41,
    "start_time": "2023-10-13T06:22:48.683Z"
   },
   {
    "duration": 25,
    "start_time": "2023-10-13T06:22:48.726Z"
   },
   {
    "duration": 34,
    "start_time": "2023-10-13T06:22:48.754Z"
   },
   {
    "duration": 14,
    "start_time": "2023-10-13T06:22:48.790Z"
   },
   {
    "duration": 39,
    "start_time": "2023-10-13T06:22:48.806Z"
   },
   {
    "duration": 14,
    "start_time": "2023-10-13T06:22:48.846Z"
   },
   {
    "duration": 37,
    "start_time": "2023-10-13T06:22:48.862Z"
   },
   {
    "duration": 36,
    "start_time": "2023-10-13T06:22:48.900Z"
   },
   {
    "duration": 18,
    "start_time": "2023-10-13T06:22:48.937Z"
   },
   {
    "duration": 36,
    "start_time": "2023-10-13T06:22:48.957Z"
   },
   {
    "duration": 27,
    "start_time": "2023-10-13T06:22:48.995Z"
   },
   {
    "duration": 38,
    "start_time": "2023-10-13T06:22:49.023Z"
   },
   {
    "duration": 19,
    "start_time": "2023-10-13T06:22:49.063Z"
   },
   {
    "duration": 36,
    "start_time": "2023-10-13T06:22:49.084Z"
   },
   {
    "duration": 7,
    "start_time": "2023-10-13T06:22:49.125Z"
   },
   {
    "duration": 35,
    "start_time": "2023-10-13T06:22:49.134Z"
   },
   {
    "duration": 49,
    "start_time": "2023-10-13T06:22:49.171Z"
   },
   {
    "duration": 1738,
    "start_time": "2023-10-13T06:22:49.222Z"
   },
   {
    "duration": 178,
    "start_time": "2023-10-13T06:22:50.962Z"
   },
   {
    "duration": 0,
    "start_time": "2023-10-13T06:22:51.143Z"
   },
   {
    "duration": 3143,
    "start_time": "2023-10-13T06:23:29.132Z"
   },
   {
    "duration": 3573,
    "start_time": "2023-10-13T06:23:44.027Z"
   },
   {
    "duration": 2649,
    "start_time": "2023-10-13T06:24:05.891Z"
   },
   {
    "duration": 2448,
    "start_time": "2023-10-13T06:26:28.500Z"
   },
   {
    "duration": 7,
    "start_time": "2023-10-13T06:45:21.800Z"
   },
   {
    "duration": 100,
    "start_time": "2023-10-13T07:17:01.872Z"
   },
   {
    "duration": 4,
    "start_time": "2023-10-13T07:26:23.258Z"
   },
   {
    "duration": 6,
    "start_time": "2023-10-13T07:29:54.162Z"
   },
   {
    "duration": 2021,
    "start_time": "2023-10-13T07:30:48.322Z"
   },
   {
    "duration": 6,
    "start_time": "2023-10-13T07:39:51.546Z"
   },
   {
    "duration": 5,
    "start_time": "2023-10-13T07:40:01.610Z"
   },
   {
    "duration": 6,
    "start_time": "2023-10-13T07:42:01.410Z"
   },
   {
    "duration": 6,
    "start_time": "2023-10-13T07:45:11.507Z"
   },
   {
    "duration": 5,
    "start_time": "2023-10-13T07:45:51.706Z"
   },
   {
    "duration": 6,
    "start_time": "2023-10-13T07:46:50.171Z"
   },
   {
    "duration": 6,
    "start_time": "2023-10-13T07:51:18.267Z"
   },
   {
    "duration": 2084,
    "start_time": "2023-10-13T07:53:11.979Z"
   },
   {
    "duration": 2581,
    "start_time": "2023-10-13T07:53:24.891Z"
   },
   {
    "duration": 1940,
    "start_time": "2023-10-13T07:53:38.756Z"
   },
   {
    "duration": 6,
    "start_time": "2023-10-13T08:03:17.190Z"
   },
   {
    "duration": 6,
    "start_time": "2023-10-13T08:05:49.038Z"
   },
   {
    "duration": 5,
    "start_time": "2023-10-13T08:08:25.846Z"
   },
   {
    "duration": 3079,
    "start_time": "2023-10-13T09:38:20.226Z"
   },
   {
    "duration": 22,
    "start_time": "2023-10-13T10:05:29.156Z"
   },
   {
    "duration": 284,
    "start_time": "2023-10-13T10:05:39.971Z"
   },
   {
    "duration": 1375,
    "start_time": "2023-10-13T10:08:32.835Z"
   },
   {
    "duration": 6,
    "start_time": "2023-10-13T10:19:04.884Z"
   },
   {
    "duration": 67,
    "start_time": "2023-10-13T10:27:32.595Z"
   },
   {
    "duration": 1135,
    "start_time": "2023-10-13T10:27:42.224Z"
   },
   {
    "duration": 200,
    "start_time": "2023-10-13T10:27:43.362Z"
   },
   {
    "duration": 18,
    "start_time": "2023-10-13T10:27:43.564Z"
   },
   {
    "duration": 10,
    "start_time": "2023-10-13T10:27:43.584Z"
   },
   {
    "duration": 10,
    "start_time": "2023-10-13T10:27:43.597Z"
   },
   {
    "duration": 8,
    "start_time": "2023-10-13T10:27:43.609Z"
   },
   {
    "duration": 19,
    "start_time": "2023-10-13T10:27:43.618Z"
   },
   {
    "duration": 27,
    "start_time": "2023-10-13T10:27:43.639Z"
   },
   {
    "duration": 8,
    "start_time": "2023-10-13T10:27:43.668Z"
   },
   {
    "duration": 16,
    "start_time": "2023-10-13T10:27:43.678Z"
   },
   {
    "duration": 8,
    "start_time": "2023-10-13T10:27:43.696Z"
   },
   {
    "duration": 9,
    "start_time": "2023-10-13T10:27:43.705Z"
   },
   {
    "duration": 6,
    "start_time": "2023-10-13T10:27:43.716Z"
   },
   {
    "duration": 15,
    "start_time": "2023-10-13T10:27:43.726Z"
   },
   {
    "duration": 15,
    "start_time": "2023-10-13T10:27:43.743Z"
   },
   {
    "duration": 21,
    "start_time": "2023-10-13T10:27:43.760Z"
   },
   {
    "duration": 187,
    "start_time": "2023-10-13T10:27:43.782Z"
   },
   {
    "duration": 6,
    "start_time": "2023-10-13T10:27:43.971Z"
   },
   {
    "duration": 164,
    "start_time": "2023-10-13T10:27:43.979Z"
   },
   {
    "duration": 12,
    "start_time": "2023-10-13T10:27:44.145Z"
   },
   {
    "duration": 250,
    "start_time": "2023-10-13T10:27:44.158Z"
   },
   {
    "duration": 215,
    "start_time": "2023-10-13T10:27:44.410Z"
   },
   {
    "duration": 210,
    "start_time": "2023-10-13T10:27:44.626Z"
   },
   {
    "duration": 14,
    "start_time": "2023-10-13T10:27:44.837Z"
   },
   {
    "duration": 17,
    "start_time": "2023-10-13T10:27:44.853Z"
   },
   {
    "duration": 8,
    "start_time": "2023-10-13T10:27:44.871Z"
   },
   {
    "duration": 31,
    "start_time": "2023-10-13T10:27:44.880Z"
   },
   {
    "duration": 323,
    "start_time": "2023-10-13T10:27:44.912Z"
   },
   {
    "duration": 406,
    "start_time": "2023-10-13T10:27:45.237Z"
   },
   {
    "duration": 3,
    "start_time": "2023-10-13T10:27:45.645Z"
   },
   {
    "duration": 33,
    "start_time": "2023-10-13T10:27:45.650Z"
   },
   {
    "duration": 36,
    "start_time": "2023-10-13T10:27:45.685Z"
   },
   {
    "duration": 3,
    "start_time": "2023-10-13T10:27:45.723Z"
   },
   {
    "duration": 56,
    "start_time": "2023-10-13T10:27:45.727Z"
   },
   {
    "duration": 19,
    "start_time": "2023-10-13T10:27:45.785Z"
   },
   {
    "duration": 26,
    "start_time": "2023-10-13T10:27:45.806Z"
   },
   {
    "duration": 4,
    "start_time": "2023-10-13T10:27:45.835Z"
   },
   {
    "duration": 17,
    "start_time": "2023-10-13T10:27:45.840Z"
   },
   {
    "duration": 26,
    "start_time": "2023-10-13T10:27:45.859Z"
   },
   {
    "duration": 19,
    "start_time": "2023-10-13T10:27:45.886Z"
   },
   {
    "duration": 21,
    "start_time": "2023-10-13T10:27:45.909Z"
   },
   {
    "duration": 28,
    "start_time": "2023-10-13T10:27:45.932Z"
   },
   {
    "duration": 18,
    "start_time": "2023-10-13T10:27:45.962Z"
   },
   {
    "duration": 18,
    "start_time": "2023-10-13T10:27:45.982Z"
   },
   {
    "duration": 9,
    "start_time": "2023-10-13T10:27:46.001Z"
   },
   {
    "duration": 26,
    "start_time": "2023-10-13T10:27:46.012Z"
   },
   {
    "duration": 15,
    "start_time": "2023-10-13T10:27:46.040Z"
   },
   {
    "duration": 21,
    "start_time": "2023-10-13T10:27:46.057Z"
   },
   {
    "duration": 21,
    "start_time": "2023-10-13T10:27:46.080Z"
   },
   {
    "duration": 31,
    "start_time": "2023-10-13T10:27:46.103Z"
   },
   {
    "duration": 11,
    "start_time": "2023-10-13T10:27:46.136Z"
   },
   {
    "duration": 1758,
    "start_time": "2023-10-13T10:27:46.149Z"
   },
   {
    "duration": 2240,
    "start_time": "2023-10-13T10:27:47.909Z"
   },
   {
    "duration": 692,
    "start_time": "2023-10-13T11:10:53.291Z"
   },
   {
    "duration": 80,
    "start_time": "2023-10-13T11:13:02.754Z"
   },
   {
    "duration": 1144,
    "start_time": "2023-10-13T11:13:21.535Z"
   },
   {
    "duration": 209,
    "start_time": "2023-10-13T11:13:22.681Z"
   },
   {
    "duration": 36,
    "start_time": "2023-10-13T11:13:22.892Z"
   },
   {
    "duration": 66,
    "start_time": "2023-10-13T11:13:22.930Z"
   },
   {
    "duration": 34,
    "start_time": "2023-10-13T11:13:22.998Z"
   },
   {
    "duration": 36,
    "start_time": "2023-10-13T11:13:23.034Z"
   },
   {
    "duration": 54,
    "start_time": "2023-10-13T11:13:23.071Z"
   },
   {
    "duration": 26,
    "start_time": "2023-10-13T11:13:23.127Z"
   },
   {
    "duration": 39,
    "start_time": "2023-10-13T11:13:23.155Z"
   },
   {
    "duration": 29,
    "start_time": "2023-10-13T11:13:23.197Z"
   },
   {
    "duration": 15,
    "start_time": "2023-10-13T11:13:23.228Z"
   },
   {
    "duration": 22,
    "start_time": "2023-10-13T11:13:23.246Z"
   },
   {
    "duration": 27,
    "start_time": "2023-10-13T11:13:23.269Z"
   },
   {
    "duration": 27,
    "start_time": "2023-10-13T11:13:23.298Z"
   },
   {
    "duration": 25,
    "start_time": "2023-10-13T11:13:23.327Z"
   },
   {
    "duration": 27,
    "start_time": "2023-10-13T11:13:23.354Z"
   },
   {
    "duration": 205,
    "start_time": "2023-10-13T11:13:23.383Z"
   },
   {
    "duration": 6,
    "start_time": "2023-10-13T11:13:23.590Z"
   },
   {
    "duration": 220,
    "start_time": "2023-10-13T11:13:23.597Z"
   },
   {
    "duration": 20,
    "start_time": "2023-10-13T11:13:23.819Z"
   },
   {
    "duration": 327,
    "start_time": "2023-10-13T11:13:23.841Z"
   },
   {
    "duration": 249,
    "start_time": "2023-10-13T11:13:24.171Z"
   },
   {
    "duration": 232,
    "start_time": "2023-10-13T11:13:24.422Z"
   },
   {
    "duration": 17,
    "start_time": "2023-10-13T11:13:24.655Z"
   },
   {
    "duration": 100,
    "start_time": "2023-10-13T11:13:24.674Z"
   },
   {
    "duration": 49,
    "start_time": "2023-10-13T11:13:24.776Z"
   },
   {
    "duration": 25,
    "start_time": "2023-10-13T11:13:24.827Z"
   },
   {
    "duration": 351,
    "start_time": "2023-10-13T11:13:24.855Z"
   },
   {
    "duration": 441,
    "start_time": "2023-10-13T11:13:25.209Z"
   },
   {
    "duration": 4,
    "start_time": "2023-10-13T11:13:25.652Z"
   },
   {
    "duration": 89,
    "start_time": "2023-10-13T11:13:25.657Z"
   },
   {
    "duration": 64,
    "start_time": "2023-10-13T11:13:25.747Z"
   },
   {
    "duration": 8,
    "start_time": "2023-10-13T11:13:25.812Z"
   },
   {
    "duration": 43,
    "start_time": "2023-10-13T11:13:25.822Z"
   },
   {
    "duration": 36,
    "start_time": "2023-10-13T11:13:25.867Z"
   },
   {
    "duration": 44,
    "start_time": "2023-10-13T11:13:25.905Z"
   },
   {
    "duration": 13,
    "start_time": "2023-10-13T11:13:25.951Z"
   },
   {
    "duration": 12,
    "start_time": "2023-10-13T11:13:25.965Z"
   },
   {
    "duration": 25,
    "start_time": "2023-10-13T11:13:25.979Z"
   },
   {
    "duration": 49,
    "start_time": "2023-10-13T11:13:26.006Z"
   },
   {
    "duration": 72,
    "start_time": "2023-10-13T11:13:26.057Z"
   },
   {
    "duration": 22,
    "start_time": "2023-10-13T11:13:26.131Z"
   },
   {
    "duration": 31,
    "start_time": "2023-10-13T11:13:26.155Z"
   },
   {
    "duration": 33,
    "start_time": "2023-10-13T11:13:26.187Z"
   },
   {
    "duration": 25,
    "start_time": "2023-10-13T11:13:26.222Z"
   },
   {
    "duration": 58,
    "start_time": "2023-10-13T11:13:26.249Z"
   },
   {
    "duration": 29,
    "start_time": "2023-10-13T11:13:26.309Z"
   },
   {
    "duration": 26,
    "start_time": "2023-10-13T11:13:26.340Z"
   },
   {
    "duration": 72,
    "start_time": "2023-10-13T11:13:26.368Z"
   },
   {
    "duration": 49,
    "start_time": "2023-10-13T11:13:26.442Z"
   },
   {
    "duration": 38,
    "start_time": "2023-10-13T11:13:26.493Z"
   },
   {
    "duration": 1691,
    "start_time": "2023-10-13T11:13:26.533Z"
   },
   {
    "duration": 2387,
    "start_time": "2023-10-13T11:13:28.225Z"
   },
   {
    "duration": 1214,
    "start_time": "2023-10-13T11:14:50.939Z"
   },
   {
    "duration": 72,
    "start_time": "2023-10-13T11:14:52.156Z"
   },
   {
    "duration": 22,
    "start_time": "2023-10-13T11:14:52.230Z"
   },
   {
    "duration": 70,
    "start_time": "2023-10-13T11:14:52.254Z"
   },
   {
    "duration": 39,
    "start_time": "2023-10-13T11:14:52.326Z"
   },
   {
    "duration": 22,
    "start_time": "2023-10-13T11:14:52.366Z"
   },
   {
    "duration": 30,
    "start_time": "2023-10-13T11:14:52.390Z"
   },
   {
    "duration": 23,
    "start_time": "2023-10-13T11:14:52.422Z"
   },
   {
    "duration": 31,
    "start_time": "2023-10-13T11:14:52.447Z"
   },
   {
    "duration": 45,
    "start_time": "2023-10-13T11:14:52.481Z"
   },
   {
    "duration": 21,
    "start_time": "2023-10-13T11:14:52.527Z"
   },
   {
    "duration": 55,
    "start_time": "2023-10-13T11:14:52.550Z"
   },
   {
    "duration": 42,
    "start_time": "2023-10-13T11:14:52.607Z"
   },
   {
    "duration": 30,
    "start_time": "2023-10-13T11:14:52.651Z"
   },
   {
    "duration": 68,
    "start_time": "2023-10-13T11:14:52.683Z"
   },
   {
    "duration": 67,
    "start_time": "2023-10-13T11:14:52.753Z"
   },
   {
    "duration": 205,
    "start_time": "2023-10-13T11:14:52.823Z"
   },
   {
    "duration": 7,
    "start_time": "2023-10-13T11:14:53.030Z"
   },
   {
    "duration": 158,
    "start_time": "2023-10-13T11:14:53.039Z"
   },
   {
    "duration": 23,
    "start_time": "2023-10-13T11:14:53.198Z"
   },
   {
    "duration": 307,
    "start_time": "2023-10-13T11:14:53.223Z"
   },
   {
    "duration": 235,
    "start_time": "2023-10-13T11:14:53.531Z"
   },
   {
    "duration": 341,
    "start_time": "2023-10-13T11:14:53.768Z"
   },
   {
    "duration": 23,
    "start_time": "2023-10-13T11:14:54.112Z"
   },
   {
    "duration": 30,
    "start_time": "2023-10-13T11:14:54.137Z"
   },
   {
    "duration": 28,
    "start_time": "2023-10-13T11:14:54.168Z"
   },
   {
    "duration": 33,
    "start_time": "2023-10-13T11:14:54.197Z"
   },
   {
    "duration": 500,
    "start_time": "2023-10-13T11:14:54.234Z"
   },
   {
    "duration": 431,
    "start_time": "2023-10-13T11:14:54.736Z"
   },
   {
    "duration": 4,
    "start_time": "2023-10-13T11:14:55.169Z"
   },
   {
    "duration": 67,
    "start_time": "2023-10-13T11:14:55.175Z"
   },
   {
    "duration": 43,
    "start_time": "2023-10-13T11:14:55.244Z"
   },
   {
    "duration": 16,
    "start_time": "2023-10-13T11:14:55.288Z"
   },
   {
    "duration": 58,
    "start_time": "2023-10-13T11:14:55.305Z"
   },
   {
    "duration": 40,
    "start_time": "2023-10-13T11:14:55.366Z"
   },
   {
    "duration": 49,
    "start_time": "2023-10-13T11:14:55.411Z"
   },
   {
    "duration": 32,
    "start_time": "2023-10-13T11:14:55.463Z"
   },
   {
    "duration": 34,
    "start_time": "2023-10-13T11:14:55.496Z"
   },
   {
    "duration": 14,
    "start_time": "2023-10-13T11:14:55.531Z"
   },
   {
    "duration": 29,
    "start_time": "2023-10-13T11:14:55.546Z"
   },
   {
    "duration": 93,
    "start_time": "2023-10-13T11:14:55.577Z"
   },
   {
    "duration": 26,
    "start_time": "2023-10-13T11:14:55.671Z"
   },
   {
    "duration": 33,
    "start_time": "2023-10-13T11:14:55.698Z"
   },
   {
    "duration": 24,
    "start_time": "2023-10-13T11:14:55.732Z"
   },
   {
    "duration": 37,
    "start_time": "2023-10-13T11:14:55.758Z"
   },
   {
    "duration": 36,
    "start_time": "2023-10-13T11:14:55.797Z"
   },
   {
    "duration": 25,
    "start_time": "2023-10-13T11:14:55.837Z"
   },
   {
    "duration": 41,
    "start_time": "2023-10-13T11:14:55.864Z"
   },
   {
    "duration": 13,
    "start_time": "2023-10-13T11:14:55.909Z"
   },
   {
    "duration": 48,
    "start_time": "2023-10-13T11:14:55.926Z"
   },
   {
    "duration": 21,
    "start_time": "2023-10-13T11:14:55.977Z"
   },
   {
    "duration": 1810,
    "start_time": "2023-10-13T11:14:56.001Z"
   },
   {
    "duration": 2360,
    "start_time": "2023-10-13T11:14:57.814Z"
   },
   {
    "duration": 5,
    "start_time": "2023-10-13T11:15:00.176Z"
   },
   {
    "duration": 1345,
    "start_time": "2023-10-13T11:27:55.205Z"
   },
   {
    "duration": 207,
    "start_time": "2023-10-13T11:27:56.552Z"
   },
   {
    "duration": 18,
    "start_time": "2023-10-13T11:27:56.761Z"
   },
   {
    "duration": 31,
    "start_time": "2023-10-13T11:27:56.781Z"
   },
   {
    "duration": 19,
    "start_time": "2023-10-13T11:27:56.814Z"
   },
   {
    "duration": 5,
    "start_time": "2023-10-13T11:27:56.838Z"
   },
   {
    "duration": 15,
    "start_time": "2023-10-13T11:27:56.844Z"
   },
   {
    "duration": 24,
    "start_time": "2023-10-13T11:27:56.861Z"
   },
   {
    "duration": 7,
    "start_time": "2023-10-13T11:27:56.887Z"
   },
   {
    "duration": 14,
    "start_time": "2023-10-13T11:27:56.897Z"
   },
   {
    "duration": 4,
    "start_time": "2023-10-13T11:27:56.915Z"
   },
   {
    "duration": 22,
    "start_time": "2023-10-13T11:27:56.921Z"
   },
   {
    "duration": 17,
    "start_time": "2023-10-13T11:27:56.945Z"
   },
   {
    "duration": 10,
    "start_time": "2023-10-13T11:27:56.964Z"
   },
   {
    "duration": 14,
    "start_time": "2023-10-13T11:27:56.975Z"
   },
   {
    "duration": 26,
    "start_time": "2023-10-13T11:27:56.991Z"
   },
   {
    "duration": 177,
    "start_time": "2023-10-13T11:27:57.018Z"
   },
   {
    "duration": 12,
    "start_time": "2023-10-13T11:27:57.196Z"
   },
   {
    "duration": 160,
    "start_time": "2023-10-13T11:27:57.209Z"
   },
   {
    "duration": 370,
    "start_time": "2023-10-13T11:27:57.370Z"
   },
   {
    "duration": 224,
    "start_time": "2023-10-13T11:27:57.741Z"
   },
   {
    "duration": 224,
    "start_time": "2023-10-13T11:27:57.967Z"
   },
   {
    "duration": 24,
    "start_time": "2023-10-13T11:27:58.193Z"
   },
   {
    "duration": 31,
    "start_time": "2023-10-13T11:27:58.218Z"
   },
   {
    "duration": 8,
    "start_time": "2023-10-13T11:27:58.250Z"
   },
   {
    "duration": 19,
    "start_time": "2023-10-13T11:27:58.259Z"
   },
   {
    "duration": 372,
    "start_time": "2023-10-13T11:27:58.279Z"
   },
   {
    "duration": 416,
    "start_time": "2023-10-13T11:27:58.655Z"
   },
   {
    "duration": 4,
    "start_time": "2023-10-13T11:27:59.072Z"
   },
   {
    "duration": 55,
    "start_time": "2023-10-13T11:27:59.077Z"
   },
   {
    "duration": 34,
    "start_time": "2023-10-13T11:27:59.134Z"
   },
   {
    "duration": 2,
    "start_time": "2023-10-13T11:27:59.170Z"
   },
   {
    "duration": 25,
    "start_time": "2023-10-13T11:27:59.173Z"
   },
   {
    "duration": 5,
    "start_time": "2023-10-13T11:27:59.199Z"
   },
   {
    "duration": 32,
    "start_time": "2023-10-13T11:27:59.210Z"
   },
   {
    "duration": 7,
    "start_time": "2023-10-13T11:27:59.245Z"
   },
   {
    "duration": 7,
    "start_time": "2023-10-13T11:27:59.253Z"
   },
   {
    "duration": 8,
    "start_time": "2023-10-13T11:27:59.261Z"
   },
   {
    "duration": 6,
    "start_time": "2023-10-13T11:27:59.271Z"
   },
   {
    "duration": 4,
    "start_time": "2023-10-13T11:27:59.279Z"
   },
   {
    "duration": 11,
    "start_time": "2023-10-13T11:27:59.285Z"
   },
   {
    "duration": 9,
    "start_time": "2023-10-13T11:27:59.311Z"
   },
   {
    "duration": 8,
    "start_time": "2023-10-13T11:27:59.322Z"
   },
   {
    "duration": 13,
    "start_time": "2023-10-13T11:27:59.332Z"
   },
   {
    "duration": 10,
    "start_time": "2023-10-13T11:27:59.347Z"
   },
   {
    "duration": 6,
    "start_time": "2023-10-13T11:27:59.360Z"
   },
   {
    "duration": 8,
    "start_time": "2023-10-13T11:27:59.368Z"
   },
   {
    "duration": 5,
    "start_time": "2023-10-13T11:27:59.378Z"
   },
   {
    "duration": 17,
    "start_time": "2023-10-13T11:27:59.408Z"
   },
   {
    "duration": 6,
    "start_time": "2023-10-13T11:27:59.427Z"
   },
   {
    "duration": 1820,
    "start_time": "2023-10-13T11:27:59.435Z"
   },
   {
    "duration": 2471,
    "start_time": "2023-10-13T11:28:01.257Z"
   },
   {
    "duration": 8,
    "start_time": "2023-10-13T11:28:03.730Z"
   },
   {
    "duration": 21,
    "start_time": "2023-10-13T11:28:03.740Z"
   },
   {
    "duration": 1171,
    "start_time": "2023-10-13T13:49:21.713Z"
   },
   {
    "duration": 77,
    "start_time": "2023-10-13T13:49:22.886Z"
   },
   {
    "duration": 19,
    "start_time": "2023-10-13T13:49:22.965Z"
   },
   {
    "duration": 40,
    "start_time": "2023-10-13T13:49:22.986Z"
   },
   {
    "duration": 22,
    "start_time": "2023-10-13T13:49:23.027Z"
   },
   {
    "duration": 16,
    "start_time": "2023-10-13T13:49:23.050Z"
   },
   {
    "duration": 31,
    "start_time": "2023-10-13T13:49:23.068Z"
   },
   {
    "duration": 39,
    "start_time": "2023-10-13T13:49:23.101Z"
   },
   {
    "duration": 23,
    "start_time": "2023-10-13T13:49:23.142Z"
   },
   {
    "duration": 21,
    "start_time": "2023-10-13T13:49:23.168Z"
   },
   {
    "duration": 27,
    "start_time": "2023-10-13T13:49:23.191Z"
   },
   {
    "duration": 11,
    "start_time": "2023-10-13T13:49:23.227Z"
   },
   {
    "duration": 38,
    "start_time": "2023-10-13T13:49:23.240Z"
   },
   {
    "duration": 32,
    "start_time": "2023-10-13T13:49:23.280Z"
   },
   {
    "duration": 32,
    "start_time": "2023-10-13T13:49:23.313Z"
   },
   {
    "duration": 26,
    "start_time": "2023-10-13T13:49:23.346Z"
   },
   {
    "duration": 198,
    "start_time": "2023-10-13T13:49:23.374Z"
   },
   {
    "duration": 7,
    "start_time": "2023-10-13T13:49:23.573Z"
   },
   {
    "duration": 164,
    "start_time": "2023-10-13T13:49:23.581Z"
   },
   {
    "duration": 265,
    "start_time": "2023-10-13T13:49:23.747Z"
   },
   {
    "duration": 234,
    "start_time": "2023-10-13T13:49:24.014Z"
   },
   {
    "duration": 242,
    "start_time": "2023-10-13T13:49:24.250Z"
   },
   {
    "duration": 17,
    "start_time": "2023-10-13T13:49:24.494Z"
   },
   {
    "duration": 37,
    "start_time": "2023-10-13T13:49:24.514Z"
   },
   {
    "duration": 23,
    "start_time": "2023-10-13T13:49:24.553Z"
   },
   {
    "duration": 44,
    "start_time": "2023-10-13T13:49:24.577Z"
   },
   {
    "duration": 341,
    "start_time": "2023-10-13T13:49:24.623Z"
   },
   {
    "duration": 408,
    "start_time": "2023-10-13T13:49:24.967Z"
   },
   {
    "duration": 4,
    "start_time": "2023-10-13T13:49:25.376Z"
   },
   {
    "duration": 66,
    "start_time": "2023-10-13T13:49:25.381Z"
   },
   {
    "duration": 27,
    "start_time": "2023-10-13T13:49:25.449Z"
   },
   {
    "duration": 22,
    "start_time": "2023-10-13T13:49:25.478Z"
   },
   {
    "duration": 39,
    "start_time": "2023-10-13T13:49:25.502Z"
   },
   {
    "duration": 26,
    "start_time": "2023-10-13T13:49:25.542Z"
   },
   {
    "duration": 45,
    "start_time": "2023-10-13T13:49:25.569Z"
   },
   {
    "duration": 13,
    "start_time": "2023-10-13T13:49:25.615Z"
   },
   {
    "duration": 34,
    "start_time": "2023-10-13T13:49:25.633Z"
   },
   {
    "duration": 53,
    "start_time": "2023-10-13T13:49:25.668Z"
   },
   {
    "duration": 26,
    "start_time": "2023-10-13T13:49:25.728Z"
   },
   {
    "duration": 36,
    "start_time": "2023-10-13T13:49:25.755Z"
   },
   {
    "duration": 36,
    "start_time": "2023-10-13T13:49:25.793Z"
   },
   {
    "duration": 16,
    "start_time": "2023-10-13T13:49:25.831Z"
   },
   {
    "duration": 17,
    "start_time": "2023-10-13T13:49:25.849Z"
   },
   {
    "duration": 22,
    "start_time": "2023-10-13T13:49:25.868Z"
   },
   {
    "duration": 28,
    "start_time": "2023-10-13T13:49:25.892Z"
   },
   {
    "duration": 23,
    "start_time": "2023-10-13T13:49:25.921Z"
   },
   {
    "duration": 41,
    "start_time": "2023-10-13T13:49:25.945Z"
   },
   {
    "duration": 35,
    "start_time": "2023-10-13T13:49:25.989Z"
   },
   {
    "duration": 20,
    "start_time": "2023-10-13T13:49:26.026Z"
   },
   {
    "duration": 31,
    "start_time": "2023-10-13T13:49:26.048Z"
   },
   {
    "duration": 1745,
    "start_time": "2023-10-13T13:49:26.081Z"
   },
   {
    "duration": 2438,
    "start_time": "2023-10-13T13:49:27.833Z"
   },
   {
    "duration": 6,
    "start_time": "2023-10-13T13:49:30.273Z"
   },
   {
    "duration": 43,
    "start_time": "2023-10-13T13:49:30.280Z"
   },
   {
    "duration": 1228,
    "start_time": "2023-10-13T13:50:23.731Z"
   },
   {
    "duration": 82,
    "start_time": "2023-10-13T13:50:24.961Z"
   },
   {
    "duration": 17,
    "start_time": "2023-10-13T13:50:25.046Z"
   },
   {
    "duration": 13,
    "start_time": "2023-10-13T13:50:25.065Z"
   },
   {
    "duration": 18,
    "start_time": "2023-10-13T13:50:25.079Z"
   },
   {
    "duration": 5,
    "start_time": "2023-10-13T13:50:25.099Z"
   },
   {
    "duration": 30,
    "start_time": "2023-10-13T13:50:25.106Z"
   },
   {
    "duration": 15,
    "start_time": "2023-10-13T13:50:25.139Z"
   },
   {
    "duration": 8,
    "start_time": "2023-10-13T13:50:25.156Z"
   },
   {
    "duration": 12,
    "start_time": "2023-10-13T13:50:25.168Z"
   },
   {
    "duration": 5,
    "start_time": "2023-10-13T13:50:25.181Z"
   },
   {
    "duration": 7,
    "start_time": "2023-10-13T13:50:25.188Z"
   },
   {
    "duration": 13,
    "start_time": "2023-10-13T13:50:25.212Z"
   },
   {
    "duration": 27,
    "start_time": "2023-10-13T13:50:25.226Z"
   },
   {
    "duration": 15,
    "start_time": "2023-10-13T13:50:25.258Z"
   },
   {
    "duration": 17,
    "start_time": "2023-10-13T13:50:25.275Z"
   },
   {
    "duration": 200,
    "start_time": "2023-10-13T13:50:25.294Z"
   },
   {
    "duration": 20,
    "start_time": "2023-10-13T13:50:25.496Z"
   },
   {
    "duration": 180,
    "start_time": "2023-10-13T13:50:25.519Z"
   },
   {
    "duration": 312,
    "start_time": "2023-10-13T13:50:25.701Z"
   },
   {
    "duration": 282,
    "start_time": "2023-10-13T13:50:26.019Z"
   },
   {
    "duration": 260,
    "start_time": "2023-10-13T13:50:26.303Z"
   },
   {
    "duration": 16,
    "start_time": "2023-10-13T13:50:26.565Z"
   },
   {
    "duration": 51,
    "start_time": "2023-10-13T13:50:26.583Z"
   },
   {
    "duration": 9,
    "start_time": "2023-10-13T13:50:26.638Z"
   },
   {
    "duration": 72,
    "start_time": "2023-10-13T13:50:26.648Z"
   },
   {
    "duration": 344,
    "start_time": "2023-10-13T13:50:26.722Z"
   },
   {
    "duration": 456,
    "start_time": "2023-10-13T13:50:27.069Z"
   },
   {
    "duration": 4,
    "start_time": "2023-10-13T13:50:27.529Z"
   },
   {
    "duration": 36,
    "start_time": "2023-10-13T13:50:27.534Z"
   },
   {
    "duration": 66,
    "start_time": "2023-10-13T13:50:27.571Z"
   },
   {
    "duration": 8,
    "start_time": "2023-10-13T13:50:27.639Z"
   },
   {
    "duration": 28,
    "start_time": "2023-10-13T13:50:27.648Z"
   },
   {
    "duration": 17,
    "start_time": "2023-10-13T13:50:27.677Z"
   },
   {
    "duration": 40,
    "start_time": "2023-10-13T13:50:27.696Z"
   },
   {
    "duration": 17,
    "start_time": "2023-10-13T13:50:27.738Z"
   },
   {
    "duration": 38,
    "start_time": "2023-10-13T13:50:27.756Z"
   },
   {
    "duration": 33,
    "start_time": "2023-10-13T13:50:27.796Z"
   },
   {
    "duration": 23,
    "start_time": "2023-10-13T13:50:27.832Z"
   },
   {
    "duration": 19,
    "start_time": "2023-10-13T13:50:27.857Z"
   },
   {
    "duration": 37,
    "start_time": "2023-10-13T13:50:27.878Z"
   },
   {
    "duration": 33,
    "start_time": "2023-10-13T13:50:27.916Z"
   },
   {
    "duration": 29,
    "start_time": "2023-10-13T13:50:27.950Z"
   },
   {
    "duration": 42,
    "start_time": "2023-10-13T13:50:27.980Z"
   },
   {
    "duration": 34,
    "start_time": "2023-10-13T13:50:28.025Z"
   },
   {
    "duration": 11,
    "start_time": "2023-10-13T13:50:28.060Z"
   },
   {
    "duration": 79,
    "start_time": "2023-10-13T13:50:28.072Z"
   },
   {
    "duration": 27,
    "start_time": "2023-10-13T13:50:28.153Z"
   },
   {
    "duration": 44,
    "start_time": "2023-10-13T13:50:28.182Z"
   },
   {
    "duration": 29,
    "start_time": "2023-10-13T13:50:28.233Z"
   },
   {
    "duration": 1653,
    "start_time": "2023-10-13T13:50:28.264Z"
   },
   {
    "duration": 2309,
    "start_time": "2023-10-13T13:50:29.921Z"
   },
   {
    "duration": 6,
    "start_time": "2023-10-13T13:50:32.234Z"
   },
   {
    "duration": 134,
    "start_time": "2023-10-13T13:50:32.241Z"
   },
   {
    "duration": 76,
    "start_time": "2023-10-16T09:28:53.688Z"
   },
   {
    "duration": 86,
    "start_time": "2023-10-16T09:29:07.180Z"
   },
   {
    "duration": 75,
    "start_time": "2023-10-16T09:29:15.312Z"
   },
   {
    "duration": 44,
    "start_time": "2023-10-16T09:30:05.189Z"
   },
   {
    "duration": 1414,
    "start_time": "2023-10-16T09:30:14.011Z"
   },
   {
    "duration": 308,
    "start_time": "2023-10-16T09:30:15.427Z"
   },
   {
    "duration": 25,
    "start_time": "2023-10-16T09:30:15.737Z"
   },
   {
    "duration": 10,
    "start_time": "2023-10-16T09:30:15.764Z"
   },
   {
    "duration": 38,
    "start_time": "2023-10-16T09:30:15.776Z"
   },
   {
    "duration": 24,
    "start_time": "2023-10-16T09:30:15.815Z"
   },
   {
    "duration": 32,
    "start_time": "2023-10-16T09:30:15.841Z"
   },
   {
    "duration": 34,
    "start_time": "2023-10-16T09:30:15.874Z"
   },
   {
    "duration": 58,
    "start_time": "2023-10-16T09:30:15.909Z"
   },
   {
    "duration": 40,
    "start_time": "2023-10-16T09:30:15.970Z"
   },
   {
    "duration": 17,
    "start_time": "2023-10-16T09:30:16.012Z"
   },
   {
    "duration": 23,
    "start_time": "2023-10-16T09:30:16.031Z"
   },
   {
    "duration": 27,
    "start_time": "2023-10-16T09:30:16.055Z"
   },
   {
    "duration": 18,
    "start_time": "2023-10-16T09:30:16.084Z"
   },
   {
    "duration": 27,
    "start_time": "2023-10-16T09:30:16.103Z"
   },
   {
    "duration": 23,
    "start_time": "2023-10-16T09:30:16.131Z"
   },
   {
    "duration": 208,
    "start_time": "2023-10-16T09:30:16.160Z"
   },
   {
    "duration": 7,
    "start_time": "2023-10-16T09:30:16.371Z"
   },
   {
    "duration": 191,
    "start_time": "2023-10-16T09:30:16.379Z"
   },
   {
    "duration": 256,
    "start_time": "2023-10-16T09:30:16.571Z"
   },
   {
    "duration": 225,
    "start_time": "2023-10-16T09:30:16.829Z"
   },
   {
    "duration": 218,
    "start_time": "2023-10-16T09:30:17.056Z"
   },
   {
    "duration": 14,
    "start_time": "2023-10-16T09:30:17.276Z"
   },
   {
    "duration": 79,
    "start_time": "2023-10-16T09:30:17.291Z"
   },
   {
    "duration": 16,
    "start_time": "2023-10-16T09:30:17.372Z"
   },
   {
    "duration": 13,
    "start_time": "2023-10-16T09:30:17.390Z"
   },
   {
    "duration": 326,
    "start_time": "2023-10-16T09:30:17.404Z"
   },
   {
    "duration": 385,
    "start_time": "2023-10-16T09:30:17.734Z"
   },
   {
    "duration": 4,
    "start_time": "2023-10-16T09:30:18.121Z"
   },
   {
    "duration": 38,
    "start_time": "2023-10-16T09:30:18.126Z"
   },
   {
    "duration": 22,
    "start_time": "2023-10-16T09:30:18.166Z"
   },
   {
    "duration": 3,
    "start_time": "2023-10-16T09:30:18.190Z"
   },
   {
    "duration": 24,
    "start_time": "2023-10-16T09:30:18.194Z"
   },
   {
    "duration": 5,
    "start_time": "2023-10-16T09:30:18.219Z"
   },
   {
    "duration": 38,
    "start_time": "2023-10-16T09:30:18.225Z"
   },
   {
    "duration": 5,
    "start_time": "2023-10-16T09:30:18.265Z"
   },
   {
    "duration": 5,
    "start_time": "2023-10-16T09:30:18.272Z"
   },
   {
    "duration": 9,
    "start_time": "2023-10-16T09:30:18.279Z"
   },
   {
    "duration": 5,
    "start_time": "2023-10-16T09:30:18.290Z"
   },
   {
    "duration": 10,
    "start_time": "2023-10-16T09:30:18.296Z"
   },
   {
    "duration": 7,
    "start_time": "2023-10-16T09:30:18.308Z"
   },
   {
    "duration": 36,
    "start_time": "2023-10-16T09:30:18.316Z"
   },
   {
    "duration": 12,
    "start_time": "2023-10-16T09:30:18.362Z"
   },
   {
    "duration": 18,
    "start_time": "2023-10-16T09:30:18.376Z"
   },
   {
    "duration": 41,
    "start_time": "2023-10-16T09:30:18.395Z"
   },
   {
    "duration": 13,
    "start_time": "2023-10-16T09:30:18.438Z"
   },
   {
    "duration": 25,
    "start_time": "2023-10-16T09:30:18.452Z"
   },
   {
    "duration": 14,
    "start_time": "2023-10-16T09:30:18.479Z"
   },
   {
    "duration": 12,
    "start_time": "2023-10-16T09:30:18.495Z"
   },
   {
    "duration": 6,
    "start_time": "2023-10-16T09:30:18.508Z"
   },
   {
    "duration": 1649,
    "start_time": "2023-10-16T09:30:18.516Z"
   },
   {
    "duration": 2150,
    "start_time": "2023-10-16T09:30:20.167Z"
   },
   {
    "duration": 6,
    "start_time": "2023-10-16T09:30:22.319Z"
   },
   {
    "duration": 34,
    "start_time": "2023-10-16T09:30:22.330Z"
   },
   {
    "duration": 138,
    "start_time": "2023-10-16T09:30:51.421Z"
   },
   {
    "duration": 7,
    "start_time": "2023-10-16T09:36:11.674Z"
   },
   {
    "duration": 7,
    "start_time": "2023-10-16T09:36:24.414Z"
   },
   {
    "duration": 209,
    "start_time": "2023-10-16T09:38:58.400Z"
   },
   {
    "duration": 222,
    "start_time": "2023-10-16T09:39:12.103Z"
   },
   {
    "duration": 113,
    "start_time": "2023-10-16T09:40:48.066Z"
   },
   {
    "duration": 9,
    "start_time": "2023-10-16T09:41:22.861Z"
   },
   {
    "duration": 132,
    "start_time": "2023-10-16T09:42:21.244Z"
   },
   {
    "duration": 276,
    "start_time": "2023-10-16T09:43:34.640Z"
   },
   {
    "duration": 110,
    "start_time": "2023-10-16T09:45:35.169Z"
   },
   {
    "duration": 125,
    "start_time": "2023-10-16T09:45:55.007Z"
   },
   {
    "duration": 112,
    "start_time": "2023-10-16T09:46:21.114Z"
   },
   {
    "duration": 121,
    "start_time": "2023-10-16T09:48:59.569Z"
   },
   {
    "duration": 133,
    "start_time": "2023-10-16T09:50:04.431Z"
   },
   {
    "duration": 28,
    "start_time": "2023-10-16T09:56:16.971Z"
   },
   {
    "duration": 8,
    "start_time": "2023-10-16T09:56:45.847Z"
   },
   {
    "duration": 8,
    "start_time": "2023-10-16T09:57:30.730Z"
   },
   {
    "duration": 16,
    "start_time": "2023-10-16T10:02:16.353Z"
   },
   {
    "duration": 310,
    "start_time": "2023-10-16T10:07:07.068Z"
   },
   {
    "duration": 11,
    "start_time": "2023-10-16T10:09:53.382Z"
   },
   {
    "duration": 359,
    "start_time": "2023-10-16T10:10:04.545Z"
   },
   {
    "duration": 362,
    "start_time": "2023-10-16T10:10:30.821Z"
   },
   {
    "duration": 1349,
    "start_time": "2023-10-16T10:10:52.873Z"
   },
   {
    "duration": 88,
    "start_time": "2023-10-16T10:10:54.227Z"
   },
   {
    "duration": 22,
    "start_time": "2023-10-16T10:10:54.318Z"
   },
   {
    "duration": 30,
    "start_time": "2023-10-16T10:10:54.343Z"
   },
   {
    "duration": 15,
    "start_time": "2023-10-16T10:10:54.376Z"
   },
   {
    "duration": 6,
    "start_time": "2023-10-16T10:10:54.392Z"
   },
   {
    "duration": 18,
    "start_time": "2023-10-16T10:10:54.401Z"
   },
   {
    "duration": 17,
    "start_time": "2023-10-16T10:10:54.422Z"
   },
   {
    "duration": 13,
    "start_time": "2023-10-16T10:10:54.452Z"
   },
   {
    "duration": 15,
    "start_time": "2023-10-16T10:10:54.468Z"
   },
   {
    "duration": 7,
    "start_time": "2023-10-16T10:10:54.485Z"
   },
   {
    "duration": 5,
    "start_time": "2023-10-16T10:10:54.494Z"
   },
   {
    "duration": 7,
    "start_time": "2023-10-16T10:10:54.501Z"
   },
   {
    "duration": 14,
    "start_time": "2023-10-16T10:10:54.510Z"
   },
   {
    "duration": 24,
    "start_time": "2023-10-16T10:10:54.526Z"
   },
   {
    "duration": 11,
    "start_time": "2023-10-16T10:10:54.557Z"
   },
   {
    "duration": 186,
    "start_time": "2023-10-16T10:10:54.570Z"
   },
   {
    "duration": 11,
    "start_time": "2023-10-16T10:10:54.758Z"
   },
   {
    "duration": 160,
    "start_time": "2023-10-16T10:10:54.771Z"
   },
   {
    "duration": 319,
    "start_time": "2023-10-16T10:10:54.932Z"
   },
   {
    "duration": 13,
    "start_time": "2023-10-16T10:10:55.253Z"
   },
   {
    "duration": 309,
    "start_time": "2023-10-16T10:10:55.267Z"
   },
   {
    "duration": 246,
    "start_time": "2023-10-16T10:10:55.578Z"
   },
   {
    "duration": 150,
    "start_time": "2023-10-16T10:10:55.825Z"
   },
   {
    "duration": 8,
    "start_time": "2023-10-16T10:10:55.976Z"
   },
   {
    "duration": 35,
    "start_time": "2023-10-16T10:10:55.986Z"
   },
   {
    "duration": 43,
    "start_time": "2023-10-16T10:10:56.022Z"
   },
   {
    "duration": 22,
    "start_time": "2023-10-16T10:10:56.067Z"
   },
   {
    "duration": 37,
    "start_time": "2023-10-16T10:10:56.091Z"
   },
   {
    "duration": 10,
    "start_time": "2023-10-16T10:10:56.130Z"
   },
   {
    "duration": 17,
    "start_time": "2023-10-16T10:10:56.144Z"
   },
   {
    "duration": 497,
    "start_time": "2023-10-16T10:10:56.165Z"
   },
   {
    "duration": 360,
    "start_time": "2023-10-16T10:10:56.664Z"
   },
   {
    "duration": 5,
    "start_time": "2023-10-16T10:10:57.026Z"
   },
   {
    "duration": 40,
    "start_time": "2023-10-16T10:10:57.032Z"
   },
   {
    "duration": 23,
    "start_time": "2023-10-16T10:10:57.074Z"
   },
   {
    "duration": 3,
    "start_time": "2023-10-16T10:10:57.099Z"
   },
   {
    "duration": 52,
    "start_time": "2023-10-16T10:10:57.103Z"
   },
   {
    "duration": 8,
    "start_time": "2023-10-16T10:10:57.157Z"
   },
   {
    "duration": 41,
    "start_time": "2023-10-16T10:10:57.167Z"
   },
   {
    "duration": 22,
    "start_time": "2023-10-16T10:10:57.211Z"
   },
   {
    "duration": 8,
    "start_time": "2023-10-16T10:10:57.235Z"
   },
   {
    "duration": 11,
    "start_time": "2023-10-16T10:10:57.244Z"
   },
   {
    "duration": 6,
    "start_time": "2023-10-16T10:10:57.263Z"
   },
   {
    "duration": 6,
    "start_time": "2023-10-16T10:10:57.272Z"
   },
   {
    "duration": 14,
    "start_time": "2023-10-16T10:10:57.281Z"
   },
   {
    "duration": 8,
    "start_time": "2023-10-16T10:10:57.298Z"
   },
   {
    "duration": 6,
    "start_time": "2023-10-16T10:10:57.310Z"
   },
   {
    "duration": 32,
    "start_time": "2023-10-16T10:10:57.319Z"
   },
   {
    "duration": 13,
    "start_time": "2023-10-16T10:10:57.358Z"
   },
   {
    "duration": 7,
    "start_time": "2023-10-16T10:10:57.373Z"
   },
   {
    "duration": 24,
    "start_time": "2023-10-16T10:10:57.381Z"
   },
   {
    "duration": 87,
    "start_time": "2023-10-16T10:10:57.407Z"
   },
   {
    "duration": 22,
    "start_time": "2023-10-16T10:10:57.496Z"
   },
   {
    "duration": 13,
    "start_time": "2023-10-16T10:10:57.520Z"
   },
   {
    "duration": 1770,
    "start_time": "2023-10-16T10:10:57.535Z"
   },
   {
    "duration": 2375,
    "start_time": "2023-10-16T10:10:59.306Z"
   },
   {
    "duration": 5,
    "start_time": "2023-10-16T10:11:01.683Z"
   },
   {
    "duration": 73,
    "start_time": "2023-10-16T10:11:01.690Z"
   },
   {
    "duration": 6,
    "start_time": "2023-10-16T10:11:54.136Z"
   },
   {
    "duration": 27,
    "start_time": "2023-10-16T10:11:54.200Z"
   },
   {
    "duration": 44,
    "start_time": "2023-10-16T10:12:27.308Z"
   },
   {
    "duration": 4,
    "start_time": "2023-10-16T10:12:28.093Z"
   },
   {
    "duration": 22,
    "start_time": "2023-10-16T10:12:28.798Z"
   },
   {
    "duration": 6,
    "start_time": "2023-10-16T10:15:26.009Z"
   },
   {
    "duration": 6,
    "start_time": "2023-10-16T10:17:19.752Z"
   },
   {
    "duration": 5,
    "start_time": "2023-10-16T17:37:20.498Z"
   },
   {
    "duration": 4,
    "start_time": "2023-10-16T17:48:23.789Z"
   },
   {
    "duration": 5,
    "start_time": "2023-10-16T17:55:24.536Z"
   },
   {
    "duration": 3398,
    "start_time": "2023-10-16T17:57:28.737Z"
   },
   {
    "duration": 5,
    "start_time": "2023-10-16T18:00:01.838Z"
   },
   {
    "duration": 2102,
    "start_time": "2023-10-16T18:00:19.776Z"
   },
   {
    "duration": 8,
    "start_time": "2023-10-16T18:04:26.242Z"
   },
   {
    "duration": 5,
    "start_time": "2023-10-16T18:05:16.928Z"
   },
   {
    "duration": 6,
    "start_time": "2023-10-16T18:05:29.889Z"
   },
   {
    "duration": 7,
    "start_time": "2023-10-16T18:06:37.560Z"
   },
   {
    "duration": 4,
    "start_time": "2023-10-16T18:07:19.768Z"
   },
   {
    "duration": 6,
    "start_time": "2023-10-16T18:07:31.897Z"
   },
   {
    "duration": 6,
    "start_time": "2023-10-16T18:12:22.197Z"
   },
   {
    "duration": 4,
    "start_time": "2023-10-16T18:16:14.003Z"
   },
   {
    "duration": 5,
    "start_time": "2023-10-16T18:20:23.785Z"
   },
   {
    "duration": 7,
    "start_time": "2023-10-16T18:21:36.610Z"
   },
   {
    "duration": 5,
    "start_time": "2023-10-16T18:22:03.049Z"
   },
   {
    "duration": 5,
    "start_time": "2023-10-16T18:32:58.527Z"
   },
   {
    "duration": 6,
    "start_time": "2023-10-16T18:33:23.281Z"
   },
   {
    "duration": 6,
    "start_time": "2023-10-16T18:33:32.208Z"
   },
   {
    "duration": 9,
    "start_time": "2023-10-16T18:34:50.151Z"
   },
   {
    "duration": 6,
    "start_time": "2023-10-16T18:42:13.513Z"
   },
   {
    "duration": 6,
    "start_time": "2023-10-16T18:42:29.443Z"
   },
   {
    "duration": 5,
    "start_time": "2023-10-16T18:42:34.874Z"
   },
   {
    "duration": 6,
    "start_time": "2023-10-16T18:42:40.155Z"
   },
   {
    "duration": 6,
    "start_time": "2023-10-16T18:42:46.353Z"
   },
   {
    "duration": 4,
    "start_time": "2023-10-16T18:42:51.291Z"
   },
   {
    "duration": 5,
    "start_time": "2023-10-16T18:42:56.479Z"
   },
   {
    "duration": 6,
    "start_time": "2023-10-16T18:43:02.071Z"
   },
   {
    "duration": 4,
    "start_time": "2023-10-16T18:43:08.490Z"
   },
   {
    "duration": 7,
    "start_time": "2023-10-16T18:43:14.365Z"
   },
   {
    "duration": 2018,
    "start_time": "2023-10-16T18:43:34.426Z"
   },
   {
    "duration": 2060,
    "start_time": "2023-10-16T18:50:58.526Z"
   },
   {
    "duration": 1779,
    "start_time": "2023-10-16T18:52:23.418Z"
   },
   {
    "duration": 1405,
    "start_time": "2023-10-16T18:52:34.601Z"
   },
   {
    "duration": 1603,
    "start_time": "2023-10-16T18:53:12.179Z"
   },
   {
    "duration": 2707,
    "start_time": "2023-10-16T18:53:36.913Z"
   },
   {
    "duration": 2647,
    "start_time": "2023-10-16T18:54:31.779Z"
   },
   {
    "duration": 1913,
    "start_time": "2023-10-16T18:54:44.775Z"
   },
   {
    "duration": 1211,
    "start_time": "2023-10-16T18:56:47.873Z"
   },
   {
    "duration": 80,
    "start_time": "2023-10-16T18:56:49.086Z"
   },
   {
    "duration": 16,
    "start_time": "2023-10-16T18:56:49.172Z"
   },
   {
    "duration": 44,
    "start_time": "2023-10-16T18:56:49.191Z"
   },
   {
    "duration": 37,
    "start_time": "2023-10-16T18:56:49.237Z"
   },
   {
    "duration": 36,
    "start_time": "2023-10-16T18:56:49.275Z"
   },
   {
    "duration": 57,
    "start_time": "2023-10-16T18:56:49.313Z"
   },
   {
    "duration": 31,
    "start_time": "2023-10-16T18:56:49.372Z"
   },
   {
    "duration": 34,
    "start_time": "2023-10-16T18:56:49.405Z"
   },
   {
    "duration": 38,
    "start_time": "2023-10-16T18:56:49.441Z"
   },
   {
    "duration": 42,
    "start_time": "2023-10-16T18:56:49.480Z"
   },
   {
    "duration": 53,
    "start_time": "2023-10-16T18:56:49.524Z"
   },
   {
    "duration": 21,
    "start_time": "2023-10-16T18:56:49.579Z"
   },
   {
    "duration": 25,
    "start_time": "2023-10-16T18:56:49.602Z"
   },
   {
    "duration": 58,
    "start_time": "2023-10-16T18:56:49.629Z"
   },
   {
    "duration": 30,
    "start_time": "2023-10-16T18:56:49.689Z"
   },
   {
    "duration": 180,
    "start_time": "2023-10-16T18:56:49.720Z"
   },
   {
    "duration": 6,
    "start_time": "2023-10-16T18:56:49.901Z"
   },
   {
    "duration": 175,
    "start_time": "2023-10-16T18:56:49.909Z"
   },
   {
    "duration": 292,
    "start_time": "2023-10-16T18:56:50.086Z"
   },
   {
    "duration": 8,
    "start_time": "2023-10-16T18:56:50.379Z"
   },
   {
    "duration": 224,
    "start_time": "2023-10-16T18:56:50.388Z"
   },
   {
    "duration": 237,
    "start_time": "2023-10-16T18:56:50.613Z"
   },
   {
    "duration": 128,
    "start_time": "2023-10-16T18:56:50.851Z"
   },
   {
    "duration": 8,
    "start_time": "2023-10-16T18:56:50.981Z"
   },
   {
    "duration": 17,
    "start_time": "2023-10-16T18:56:50.991Z"
   },
   {
    "duration": 32,
    "start_time": "2023-10-16T18:56:51.010Z"
   },
   {
    "duration": 28,
    "start_time": "2023-10-16T18:56:51.048Z"
   },
   {
    "duration": 14,
    "start_time": "2023-10-16T18:56:51.078Z"
   },
   {
    "duration": 9,
    "start_time": "2023-10-16T18:56:51.093Z"
   },
   {
    "duration": 23,
    "start_time": "2023-10-16T18:56:51.104Z"
   },
   {
    "duration": 436,
    "start_time": "2023-10-16T18:56:51.129Z"
   },
   {
    "duration": 345,
    "start_time": "2023-10-16T18:56:51.567Z"
   },
   {
    "duration": 4,
    "start_time": "2023-10-16T18:56:51.914Z"
   },
   {
    "duration": 62,
    "start_time": "2023-10-16T18:56:51.920Z"
   },
   {
    "duration": 47,
    "start_time": "2023-10-16T18:56:51.984Z"
   },
   {
    "duration": 3,
    "start_time": "2023-10-16T18:56:52.033Z"
   },
   {
    "duration": 48,
    "start_time": "2023-10-16T18:56:52.037Z"
   },
   {
    "duration": 36,
    "start_time": "2023-10-16T18:56:52.087Z"
   },
   {
    "duration": 52,
    "start_time": "2023-10-16T18:56:52.125Z"
   },
   {
    "duration": 26,
    "start_time": "2023-10-16T18:56:52.178Z"
   },
   {
    "duration": 26,
    "start_time": "2023-10-16T18:56:52.206Z"
   },
   {
    "duration": 40,
    "start_time": "2023-10-16T18:56:52.234Z"
   },
   {
    "duration": 33,
    "start_time": "2023-10-16T18:56:52.276Z"
   },
   {
    "duration": 30,
    "start_time": "2023-10-16T18:56:52.311Z"
   },
   {
    "duration": 23,
    "start_time": "2023-10-16T18:56:52.342Z"
   },
   {
    "duration": 9,
    "start_time": "2023-10-16T18:56:52.366Z"
   },
   {
    "duration": 41,
    "start_time": "2023-10-16T18:56:52.377Z"
   },
   {
    "duration": 20,
    "start_time": "2023-10-16T18:56:52.419Z"
   },
   {
    "duration": 41,
    "start_time": "2023-10-16T18:56:52.441Z"
   },
   {
    "duration": 58,
    "start_time": "2023-10-16T18:56:52.484Z"
   },
   {
    "duration": 22,
    "start_time": "2023-10-16T18:56:52.544Z"
   },
   {
    "duration": 29,
    "start_time": "2023-10-16T18:56:52.568Z"
   },
   {
    "duration": 46,
    "start_time": "2023-10-16T18:56:52.599Z"
   },
   {
    "duration": 20,
    "start_time": "2023-10-16T18:56:52.651Z"
   },
   {
    "duration": 36,
    "start_time": "2023-10-16T18:56:52.673Z"
   },
   {
    "duration": 30,
    "start_time": "2023-10-16T18:56:52.710Z"
   },
   {
    "duration": 1857,
    "start_time": "2023-10-16T18:56:52.741Z"
   },
   {
    "duration": 6,
    "start_time": "2023-10-16T18:56:54.600Z"
   },
   {
    "duration": 2073,
    "start_time": "2023-10-16T18:56:54.608Z"
   },
   {
    "duration": 5,
    "start_time": "2023-10-16T18:56:56.683Z"
   },
   {
    "duration": 6,
    "start_time": "2023-10-16T18:56:56.689Z"
   }
  ],
  "kernelspec": {
   "display_name": "Python 3 (ipykernel)",
   "language": "python",
   "name": "python3"
  },
  "language_info": {
   "codemirror_mode": {
    "name": "ipython",
    "version": 3
   },
   "file_extension": ".py",
   "mimetype": "text/x-python",
   "name": "python",
   "nbconvert_exporter": "python",
   "pygments_lexer": "ipython3",
   "version": "3.11.6"
  },
  "toc": {
   "base_numbering": 1,
   "nav_menu": {},
   "number_sections": true,
   "sideBar": true,
   "skip_h1_title": true,
   "title_cell": "Table of Contents",
   "title_sidebar": "Contents",
   "toc_cell": false,
   "toc_position": {},
   "toc_section_display": true,
   "toc_window_display": true
  }
 },
 "nbformat": 4,
 "nbformat_minor": 5
}
