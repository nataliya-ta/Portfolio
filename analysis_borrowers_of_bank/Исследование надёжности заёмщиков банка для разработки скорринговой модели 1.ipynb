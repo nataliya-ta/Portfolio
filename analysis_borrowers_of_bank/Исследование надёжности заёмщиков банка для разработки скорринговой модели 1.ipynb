{
 "cells": [
  {
   "cell_type": "markdown",
   "id": "86fd98ea-a17c-400c-8e06-c20052350782",
   "metadata": {},
   "source": [
    "**Тема проекта**: Исследование надёжности заёмщиков для разработки скорринговой модели."
   ]
  },
  {
   "cell_type": "markdown",
   "id": "cb1ec129-d151-40da-a364-60b585c175ed",
   "metadata": {},
   "source": [
    "**Заказчик** — кредитный отдел банка. \n",
    "\n",
    "**Цель исследования**: разобраться, влияет ли семейное положение, количество детей клиента и другие факторы на погашение кредита в срок. Результаты исследования будут учтены при построении модели кредитного скоринга — специальной системы, которая оценивает способность потенциального заёмщика вернуть кредит банк\n",
    "\n",
    "Входные данные от банка — статистика о платёжеспособности клиентов.\n"
   ]
  },
  {
   "cell_type": "markdown",
   "id": "52a27ca0-0fd4-4ef8-acb1-24146f18a1e1",
   "metadata": {},
   "source": [
    "# Загрузка данных и изучение общей информации"
   ]
  },
  {
   "cell_type": "code",
   "execution_count": 1,
   "id": "6f1ac153-eadc-4c1a-9c3e-2700300d819f",
   "metadata": {},
   "outputs": [],
   "source": [
    "import pandas as pd"
   ]
  },
  {
   "cell_type": "code",
   "execution_count": 3,
   "id": "4d26cfb6-a342-4189-8eca-33d1ea591dc4",
   "metadata": {},
   "outputs": [
    {
     "data": {
      "text/html": [
       "<div>\n",
       "<style scoped>\n",
       "    .dataframe tbody tr th:only-of-type {\n",
       "        vertical-align: middle;\n",
       "    }\n",
       "\n",
       "    .dataframe tbody tr th {\n",
       "        vertical-align: top;\n",
       "    }\n",
       "\n",
       "    .dataframe thead th {\n",
       "        text-align: right;\n",
       "    }\n",
       "</style>\n",
       "<table border=\"1\" class=\"dataframe\">\n",
       "  <thead>\n",
       "    <tr style=\"text-align: right;\">\n",
       "      <th></th>\n",
       "      <th>children</th>\n",
       "      <th>days_employed</th>\n",
       "      <th>dob_years</th>\n",
       "      <th>education</th>\n",
       "      <th>education_id</th>\n",
       "      <th>family_status</th>\n",
       "      <th>family_status_id</th>\n",
       "      <th>gender</th>\n",
       "      <th>income_type</th>\n",
       "      <th>debt</th>\n",
       "      <th>total_income</th>\n",
       "      <th>purpose</th>\n",
       "    </tr>\n",
       "  </thead>\n",
       "  <tbody>\n",
       "    <tr>\n",
       "      <th>0</th>\n",
       "      <td>1</td>\n",
       "      <td>-8437.673028</td>\n",
       "      <td>42</td>\n",
       "      <td>высшее</td>\n",
       "      <td>0</td>\n",
       "      <td>женат / замужем</td>\n",
       "      <td>0</td>\n",
       "      <td>F</td>\n",
       "      <td>сотрудник</td>\n",
       "      <td>0</td>\n",
       "      <td>253875.639453</td>\n",
       "      <td>покупка жилья</td>\n",
       "    </tr>\n",
       "    <tr>\n",
       "      <th>1</th>\n",
       "      <td>1</td>\n",
       "      <td>-4024.803754</td>\n",
       "      <td>36</td>\n",
       "      <td>среднее</td>\n",
       "      <td>1</td>\n",
       "      <td>женат / замужем</td>\n",
       "      <td>0</td>\n",
       "      <td>F</td>\n",
       "      <td>сотрудник</td>\n",
       "      <td>0</td>\n",
       "      <td>112080.014102</td>\n",
       "      <td>приобретение автомобиля</td>\n",
       "    </tr>\n",
       "    <tr>\n",
       "      <th>2</th>\n",
       "      <td>0</td>\n",
       "      <td>-5623.422610</td>\n",
       "      <td>33</td>\n",
       "      <td>Среднее</td>\n",
       "      <td>1</td>\n",
       "      <td>женат / замужем</td>\n",
       "      <td>0</td>\n",
       "      <td>M</td>\n",
       "      <td>сотрудник</td>\n",
       "      <td>0</td>\n",
       "      <td>145885.952297</td>\n",
       "      <td>покупка жилья</td>\n",
       "    </tr>\n",
       "    <tr>\n",
       "      <th>3</th>\n",
       "      <td>3</td>\n",
       "      <td>-4124.747207</td>\n",
       "      <td>32</td>\n",
       "      <td>среднее</td>\n",
       "      <td>1</td>\n",
       "      <td>женат / замужем</td>\n",
       "      <td>0</td>\n",
       "      <td>M</td>\n",
       "      <td>сотрудник</td>\n",
       "      <td>0</td>\n",
       "      <td>267628.550329</td>\n",
       "      <td>дополнительное образование</td>\n",
       "    </tr>\n",
       "    <tr>\n",
       "      <th>4</th>\n",
       "      <td>0</td>\n",
       "      <td>340266.072047</td>\n",
       "      <td>53</td>\n",
       "      <td>среднее</td>\n",
       "      <td>1</td>\n",
       "      <td>гражданский брак</td>\n",
       "      <td>1</td>\n",
       "      <td>F</td>\n",
       "      <td>пенсионер</td>\n",
       "      <td>0</td>\n",
       "      <td>158616.077870</td>\n",
       "      <td>сыграть свадьбу</td>\n",
       "    </tr>\n",
       "  </tbody>\n",
       "</table>\n",
       "</div>"
      ],
      "text/plain": [
       "   children  days_employed  dob_years education  education_id  \\\n",
       "0         1   -8437.673028         42    высшее             0   \n",
       "1         1   -4024.803754         36   среднее             1   \n",
       "2         0   -5623.422610         33   Среднее             1   \n",
       "3         3   -4124.747207         32   среднее             1   \n",
       "4         0  340266.072047         53   среднее             1   \n",
       "\n",
       "      family_status  family_status_id gender income_type  debt   total_income  \\\n",
       "0   женат / замужем                 0      F   сотрудник     0  253875.639453   \n",
       "1   женат / замужем                 0      F   сотрудник     0  112080.014102   \n",
       "2   женат / замужем                 0      M   сотрудник     0  145885.952297   \n",
       "3   женат / замужем                 0      M   сотрудник     0  267628.550329   \n",
       "4  гражданский брак                 1      F   пенсионер     0  158616.077870   \n",
       "\n",
       "                      purpose  \n",
       "0               покупка жилья  \n",
       "1     приобретение автомобиля  \n",
       "2               покупка жилья  \n",
       "3  дополнительное образование  \n",
       "4             сыграть свадьбу  "
      ]
     },
     "metadata": {},
     "output_type": "display_data"
    },
    {
     "name": "stdout",
     "output_type": "stream",
     "text": [
      "-------------------------\n",
      "<class 'pandas.core.frame.DataFrame'>\n",
      "RangeIndex: 21525 entries, 0 to 21524\n",
      "Data columns (total 12 columns):\n",
      " #   Column            Non-Null Count  Dtype  \n",
      "---  ------            --------------  -----  \n",
      " 0   children          21525 non-null  int64  \n",
      " 1   days_employed     19351 non-null  float64\n",
      " 2   dob_years         21525 non-null  int64  \n",
      " 3   education         21525 non-null  object \n",
      " 4   education_id      21525 non-null  int64  \n",
      " 5   family_status     21525 non-null  object \n",
      " 6   family_status_id  21525 non-null  int64  \n",
      " 7   gender            21525 non-null  object \n",
      " 8   income_type       21525 non-null  object \n",
      " 9   debt              21525 non-null  int64  \n",
      " 10  total_income      19351 non-null  float64\n",
      " 11  purpose           21525 non-null  object \n",
      "dtypes: float64(2), int64(5), object(5)\n",
      "memory usage: 2.0+ MB\n"
     ]
    },
    {
     "data": {
      "text/plain": [
       "None"
      ]
     },
     "metadata": {},
     "output_type": "display_data"
    },
    {
     "name": "stdout",
     "output_type": "stream",
     "text": [
      "-------------------------\n"
     ]
    },
    {
     "data": {
      "text/plain": [
       "children            0.000000\n",
       "days_employed       0.100999\n",
       "dob_years           0.000000\n",
       "education           0.000000\n",
       "education_id        0.000000\n",
       "family_status       0.000000\n",
       "family_status_id    0.000000\n",
       "gender              0.000000\n",
       "income_type         0.000000\n",
       "debt                0.000000\n",
       "total_income        0.100999\n",
       "purpose             0.000000\n",
       "dtype: float64"
      ]
     },
     "metadata": {},
     "output_type": "display_data"
    }
   ],
   "source": [
    "temp = data.copy() \n",
    "display(temp.head(5))\n",
    "print('-'* 25)\n",
    "display(temp.info())\n",
    "print('-'* 25)\n",
    "display(temp.isna().mean())"
   ]
  },
  {
   "cell_type": "markdown",
   "id": "ec718e35-3684-4f9b-8d96-8816f1b40b03",
   "metadata": {},
   "source": [
    "В столбцах days_employed и total_income есть пропущенные значения. Форматы сообтветствуют значениям. Названия столбцов соответствуют принятому стилю."
   ]
  },
  {
   "cell_type": "markdown",
   "id": "fd1340f9-3f8c-4aa9-971d-b15725512bb8",
   "metadata": {},
   "source": [
    "# Предобработка данных"
   ]
  },
  {
   "cell_type": "markdown",
   "id": "141fac4f-4587-4e20-b71c-8fe7d3869d68",
   "metadata": {},
   "source": [
    "## Удаление пропусков"
   ]
  },
  {
   "cell_type": "markdown",
   "id": "60bf2d45-f66b-4e3c-bcd3-3b2a5101a542",
   "metadata": {},
   "source": [
    "В столбце total_income пропущенные значения составляют 10,1%.  \n",
    "На сумму дохода сильнее всего влияет тип занятости, поэтому целесообразнее всего заполнить пропуски в этом столбце медианным значением по каждому типу из столбца income_type. Например, у человека с типом занятости сотрудник пропуск в столбце total_income должен быть заполнен медианным доходом среди всех записей с тем же типом."
   ]
  },
  {
   "cell_type": "code",
   "execution_count": 4,
   "id": "5bd713ba-7cad-4d8f-bec7-cf90aefedc10",
   "metadata": {},
   "outputs": [
    {
     "data": {
      "text/plain": [
       "0"
      ]
     },
     "execution_count": 4,
     "metadata": {},
     "output_type": "execute_result"
    }
   ],
   "source": [
    "for index in data['income_type'].unique():\n",
    "    data.loc[(data['income_type'] == index)&(data['total_income'].isna()),'total_income']=\\\n",
    "    data.loc[(data['income_type'] == index)&(data['total_income']>=0),'total_income'].median()\n",
    "data['total_income'].isna().sum()"
   ]
  },
  {
   "cell_type": "markdown",
   "id": "81f663d3-961d-41f2-9bca-106576be2953",
   "metadata": {},
   "source": [
    "## Обработка аномальных значений"
   ]
  },
  {
   "cell_type": "markdown",
   "id": "13f926fc-e9f5-40b3-bd95-5d22de681961",
   "metadata": {},
   "source": [
    "Проверим данные на артефакты (аномалии). Таким артефактом будет отрицательное количество дней трудового стажа в столбце days_employed.  \n",
    "Заменим все отрицательные значения положительными с помощью метода abs()."
   ]
  },
  {
   "cell_type": "code",
   "execution_count": 5,
   "id": "4850b3df-954e-4efd-83dd-23b4df740fcb",
   "metadata": {},
   "outputs": [],
   "source": [
    "data['days_employed'] = data['days_employed'].abs()"
   ]
  },
  {
   "cell_type": "markdown",
   "id": "3046cabd-874c-4f78-9e9a-72e0f4bd0531",
   "metadata": {},
   "source": [
    "Для каждого типа занятости выведим медианное значение трудового стажа days_employed в днях."
   ]
  },
  {
   "cell_type": "code",
   "execution_count": 6,
   "id": "9eb6f36f-3f3c-4854-a6a4-3a5239712142",
   "metadata": {},
   "outputs": [
    {
     "data": {
      "text/plain": [
       "income_type\n",
       "безработный        366413.652744\n",
       "в декрете            3296.759962\n",
       "госслужащий          2689.368353\n",
       "компаньон            1547.382223\n",
       "пенсионер          365213.306266\n",
       "предприниматель       520.848083\n",
       "сотрудник            1574.202821\n",
       "студент               578.751554\n",
       "Name: days_employed, dtype: float64"
      ]
     },
     "execution_count": 6,
     "metadata": {},
     "output_type": "execute_result"
    }
   ],
   "source": [
    "data.groupby('income_type')['days_employed'].median()"
   ]
  },
  {
   "cell_type": "markdown",
   "id": "efd5a235-89df-4c5e-a8c3-d1a4aefea13e",
   "metadata": {},
   "source": [
    "У двух типов (безработные и пенсионеры) получатся аномально большие значения. Исправить такие значения не представляется возможным, поэтому оставим их без изменений."
   ]
  },
  {
   "cell_type": "markdown",
   "id": "8577f34b-3a7a-4856-b3ae-5a59872baca7",
   "metadata": {},
   "source": [
    "Выведите перечень уникальных значений столбца children."
   ]
  },
  {
   "cell_type": "code",
   "execution_count": 7,
   "id": "2613281f-e5b0-4c0b-9512-f0fb546149e7",
   "metadata": {},
   "outputs": [
    {
     "data": {
      "text/plain": [
       "array([ 1,  0,  3,  2, -1,  4, 20,  5], dtype=int64)"
      ]
     },
     "execution_count": 7,
     "metadata": {},
     "output_type": "execute_result"
    }
   ],
   "source": [
    "data['children'].unique()"
   ]
  },
  {
   "cell_type": "markdown",
   "id": "7061e6a7-41b4-46b1-8b95-e866dfcea609",
   "metadata": {},
   "source": [
    "В столбце есть два аномальных значения: -1 и 20 . Удалим строки, в которых встречаются эти аномальные значения. "
   ]
  },
  {
   "cell_type": "code",
   "execution_count": 8,
   "id": "31942cbd-6bef-4699-a07e-dccfcb8af61f",
   "metadata": {},
   "outputs": [],
   "source": [
    "data = data[(data['children'] != -1)&(data['children'] != 20)]"
   ]
  },
  {
   "cell_type": "markdown",
   "id": "30f282cc-053e-4cac-b649-2bf6cb88441b",
   "metadata": {},
   "source": [
    "## Удаление пропусков (продолжение)"
   ]
  },
  {
   "cell_type": "markdown",
   "id": "441957f4-7220-4fc5-a981-73dd1ded9bbb",
   "metadata": {},
   "source": [
    " Заполним пропуски в столбце days_employed медианными значениями по каждому типу занятости income_type."
   ]
  },
  {
   "cell_type": "code",
   "execution_count": 9,
   "id": "59e92b8f-8649-4125-bb5b-12afe7ed60f9",
   "metadata": {},
   "outputs": [
    {
     "data": {
      "text/plain": [
       "0"
      ]
     },
     "execution_count": 9,
     "metadata": {},
     "output_type": "execute_result"
    }
   ],
   "source": [
    "for index in data['income_type'].unique():\n",
    "    data.loc[(data['income_type'] == index)&(data['days_employed'].isna()),'days_employed']=\\\n",
    "    data.loc[(data['income_type'] == index)&(data['days_employed']>=0),'days_employed'].median()\n",
    "data['days_employed'].isna().sum()"
   ]
  },
  {
   "cell_type": "markdown",
   "id": "cdd3ba03-6f9e-42fd-9b94-daa4b6775458",
   "metadata": {},
   "source": [
    "## Изменение типов данных"
   ]
  },
  {
   "cell_type": "markdown",
   "id": "f28c2370-8d9f-47e0-95f9-f7d3cb304ef0",
   "metadata": {},
   "source": [
    "Замениv вещественный тип данных в столбце total_income на целочисленный с помощью метода astype()."
   ]
  },
  {
   "cell_type": "code",
   "execution_count": 10,
   "id": "c89d2b39-104c-4ffb-ada9-d7fe93203d91",
   "metadata": {},
   "outputs": [],
   "source": [
    "data['total_income'] = data['total_income'].astype('int')"
   ]
  },
  {
   "cell_type": "markdown",
   "id": "04e0366f-e54d-452e-ab4c-5cf1184496f5",
   "metadata": {},
   "source": [
    "## Обработка дубликатов"
   ]
  },
  {
   "cell_type": "markdown",
   "id": "032640bb-8a61-460c-832a-7a40d1295a88",
   "metadata": {},
   "source": [
    "Проверим наличие явных дубликатов и удалим их при наличии."
   ]
  },
  {
   "cell_type": "code",
   "execution_count": 11,
   "id": "28099beb-0731-4495-b7c6-918ec628415d",
   "metadata": {},
   "outputs": [
    {
     "data": {
      "text/plain": [
       "54"
      ]
     },
     "execution_count": 11,
     "metadata": {},
     "output_type": "execute_result"
    }
   ],
   "source": [
    "data.duplicated().sum()"
   ]
  },
  {
   "cell_type": "code",
   "execution_count": 12,
   "id": "5352f2ba-4641-463c-ab57-99a4577a64ad",
   "metadata": {},
   "outputs": [],
   "source": [
    "data = data.drop_duplicates()"
   ]
  },
  {
   "cell_type": "markdown",
   "id": "baeb22ca-1631-4271-b3dc-04c4fcb36821",
   "metadata": {},
   "source": [
    "Проверим данные на неявные дубликаты."
   ]
  },
  {
   "cell_type": "code",
   "execution_count": 13,
   "id": "a28b7224-153f-44a5-9bf3-186fb7677e5a",
   "metadata": {},
   "outputs": [
    {
     "data": {
      "text/plain": [
       "Index(['children', 'days_employed', 'dob_years', 'education', 'education_id',\n",
       "       'family_status', 'family_status_id', 'gender', 'income_type', 'debt',\n",
       "       'total_income', 'purpose'],\n",
       "      dtype='object')"
      ]
     },
     "execution_count": 13,
     "metadata": {},
     "output_type": "execute_result"
    }
   ],
   "source": [
    "data.columns"
   ]
  },
  {
   "cell_type": "code",
   "execution_count": 14,
   "id": "0f5862cd-401f-414e-8c14-891062927784",
   "metadata": {},
   "outputs": [
    {
     "name": "stdout",
     "output_type": "stream",
     "text": [
      "education ['ВЫСШЕЕ' 'Высшее' 'НАЧАЛЬНОЕ' 'НЕОКОНЧЕННОЕ ВЫСШЕЕ' 'Начальное'\n",
      " 'Неоконченное высшее' 'СРЕДНЕЕ' 'Среднее' 'УЧЕНАЯ СТЕПЕНЬ'\n",
      " 'Ученая степень' 'высшее' 'начальное' 'неоконченное высшее' 'среднее'\n",
      " 'ученая степень']\n",
      "-------------------------\n",
      "family_status ['Не женат / не замужем' 'в разводе' 'вдовец / вдова' 'гражданский брак'\n",
      " 'женат / замужем']\n",
      "-------------------------\n",
      "gender ['F' 'M' 'XNA']\n",
      "-------------------------\n",
      "income_type ['безработный' 'в декрете' 'госслужащий' 'компаньон' 'пенсионер'\n",
      " 'предприниматель' 'сотрудник' 'студент']\n",
      "-------------------------\n",
      "purpose ['автомобили' 'автомобиль' 'высшее образование'\n",
      " 'дополнительное образование' 'жилье' 'заняться высшим образованием'\n",
      " 'заняться образованием' 'на покупку автомобиля'\n",
      " 'на покупку подержанного автомобиля' 'на покупку своего автомобиля'\n",
      " 'на проведение свадьбы' 'недвижимость' 'образование' 'операции с жильем'\n",
      " 'операции с коммерческой недвижимостью' 'операции с недвижимостью'\n",
      " 'операции со своей недвижимостью' 'покупка жилой недвижимости'\n",
      " 'покупка жилья' 'покупка жилья для сдачи' 'покупка жилья для семьи'\n",
      " 'покупка коммерческой недвижимости' 'покупка недвижимости'\n",
      " 'покупка своего жилья' 'получение высшего образования'\n",
      " 'получение дополнительного образования' 'получение образования'\n",
      " 'приобретение автомобиля' 'профильное образование' 'ремонт жилью'\n",
      " 'свадьба' 'свой автомобиль' 'сделка с автомобилем'\n",
      " 'сделка с подержанным автомобилем' 'строительство жилой недвижимости'\n",
      " 'строительство недвижимости' 'строительство собственной недвижимости'\n",
      " 'сыграть свадьбу']\n",
      "-------------------------\n"
     ]
    }
   ],
   "source": [
    "qual_columns = ['education', 'family_status', 'gender', 'income_type', 'purpose']\n",
    "for i in qual_columns:\n",
    "    print(i, data[i].sort_values().unique())\n",
    "    print('-'* 25)"
   ]
  },
  {
   "cell_type": "markdown",
   "id": "34e5b778-bc8c-4622-ada3-aa9ecfa94593",
   "metadata": {},
   "source": [
    "Обработаем неявные дубликаты в столбце education. В этом столбце есть одни и те же значения, но записанные по-разному: с использованием заглавных и строчных букв. Приведем их к нижнему регистру."
   ]
  },
  {
   "cell_type": "code",
   "execution_count": 15,
   "id": "7a8ce33c-0fec-4c00-a8d2-0debe7a851d3",
   "metadata": {},
   "outputs": [],
   "source": [
    "data['education'] = data['education'].str.lower()"
   ]
  },
  {
   "cell_type": "markdown",
   "id": "1e2a2b7b-525e-474a-b3d3-8fa78b50886f",
   "metadata": {},
   "source": [
    "Неявные дубликаты в столбце purpose пока не будем трогать, обрабатаем их по-другому чуть позже."
   ]
  },
  {
   "cell_type": "markdown",
   "id": "92361476-46c1-4feb-bc2c-7aa30adcee60",
   "metadata": {},
   "source": [
    "## Категоризация данных"
   ]
  },
  {
   "cell_type": "markdown",
   "id": "b8b33fbe-135d-453a-8446-8a2177da68cb",
   "metadata": {},
   "source": [
    "На основании диапазонов доходов, указанных ниже, создадим столбец total_income_category с категориями:\n",
    "\n",
    "0–30000 — 'E';  \n",
    "30001–50000 — 'D';  \n",
    "50001–200000 — 'C';  \n",
    "200001–1000000 — 'B';  \n",
    "1000001 и выше — 'A'.  \n",
    "\n",
    "Для этого создадим собственную функцию с именем categorize_income()."
   ]
  },
  {
   "cell_type": "code",
   "execution_count": 16,
   "id": "822e82cb-4300-4cd1-a06f-6f30ad82c7c5",
   "metadata": {},
   "outputs": [],
   "source": [
    "def categorize_income(income):\n",
    "    if 0 < income <=30000:\n",
    "        return 'E'\n",
    "    if 30001 < income <= 50000:\n",
    "        return 'D'\n",
    "    if 50001 <= income <= 200000:\n",
    "        return 'C'\n",
    "    if 200001 <= income <=1000000:\n",
    "        return 'B'\n",
    "    if income >= 1000001:\n",
    "        return 'A'"
   ]
  },
  {
   "cell_type": "code",
   "execution_count": 17,
   "id": "bf6e4f11-4f4d-4523-91cf-e2ceee8f36bb",
   "metadata": {},
   "outputs": [],
   "source": [
    "data['total_income_category'] = data['total_income'].apply(categorize_income)"
   ]
  },
  {
   "cell_type": "markdown",
   "id": "490d1278-de29-4eac-b06f-3b5703e9c036",
   "metadata": {},
   "source": [
    "Создадим функцию, которая на основании данных из столбца purpose сформирует новый столбец purpose_category, в который войдут следующие категории:\n",
    "\n",
    "- 'операции с автомобилем',  \n",
    "- 'операции с недвижимостью',  \n",
    "- 'проведение свадьбы',  \n",
    "- 'получение образования'.  \n",
    "\n",
    "Для этого создадим собственную функцию с именем categorize_purpose(). егорию."
   ]
  },
  {
   "cell_type": "code",
   "execution_count": 18,
   "id": "f78b0fb0-1550-4772-9f68-501a681b572b",
   "metadata": {},
   "outputs": [],
   "source": [
    "def categorize_purpose(purpose):\n",
    "    if 'образ' in purpose:\n",
    "        return 'получение образования'\n",
    "    if 'авто' in purpose: \n",
    "        return 'операции с автомобилем'\n",
    "    if 'свад' in purpose:\n",
    "        return 'проведение свадьбы'\n",
    "    return 'операции с недвижимостью'"
   ]
  },
  {
   "cell_type": "code",
   "execution_count": 19,
   "id": "de6adf47-1e71-468d-96c7-8450943151a2",
   "metadata": {},
   "outputs": [],
   "source": [
    "data['purpose_category'] = data['purpose'].apply(categorize_purpose)"
   ]
  },
  {
   "cell_type": "markdown",
   "id": "936584c2-8ba4-4738-b136-a345d95830e5",
   "metadata": {},
   "source": [
    "# Исследовательский анализ данных."
   ]
  },
  {
   "cell_type": "markdown",
   "id": "e02bb3f6-b12d-45e6-99e9-a54a448f23ed",
   "metadata": {},
   "source": [
    "## Определение зависимости между количеством детей и возвратом кредита в срок."
   ]
  },
  {
   "cell_type": "code",
   "execution_count": 20,
   "id": "dede66cb-4a98-44d4-9ace-8174f6f9eff8",
   "metadata": {},
   "outputs": [],
   "source": [
    "data_children = data.groupby('children').agg({'debt':['sum','count','mean']}).sort_values(by=('debt','mean'),ascending=False)\n"
   ]
  },
  {
   "cell_type": "code",
   "execution_count": 21,
   "id": "a9c4a6b9-b800-46bf-b89e-40e8a8065bfd",
   "metadata": {},
   "outputs": [],
   "source": [
    "data_children.columns = ['sum','count','debt_share']\n"
   ]
  },
  {
   "cell_type": "code",
   "execution_count": 22,
   "id": "f11cd957-c7a2-4617-a4fd-b5af529efa70",
   "metadata": {},
   "outputs": [
    {
     "data": {
      "text/html": [
       "<div>\n",
       "<style scoped>\n",
       "    .dataframe tbody tr th:only-of-type {\n",
       "        vertical-align: middle;\n",
       "    }\n",
       "\n",
       "    .dataframe tbody tr th {\n",
       "        vertical-align: top;\n",
       "    }\n",
       "\n",
       "    .dataframe thead th {\n",
       "        text-align: right;\n",
       "    }\n",
       "</style>\n",
       "<table border=\"1\" class=\"dataframe\">\n",
       "  <thead>\n",
       "    <tr style=\"text-align: right;\">\n",
       "      <th></th>\n",
       "      <th>sum</th>\n",
       "      <th>count</th>\n",
       "      <th>debt_share</th>\n",
       "      <th>category_share</th>\n",
       "    </tr>\n",
       "    <tr>\n",
       "      <th>children</th>\n",
       "      <th></th>\n",
       "      <th></th>\n",
       "      <th></th>\n",
       "      <th></th>\n",
       "    </tr>\n",
       "  </thead>\n",
       "  <tbody>\n",
       "    <tr>\n",
       "      <th>4</th>\n",
       "      <td>4</td>\n",
       "      <td>41</td>\n",
       "      <td>0.097561</td>\n",
       "      <td>0.19</td>\n",
       "    </tr>\n",
       "    <tr>\n",
       "      <th>2</th>\n",
       "      <td>194</td>\n",
       "      <td>2052</td>\n",
       "      <td>0.094542</td>\n",
       "      <td>9.61</td>\n",
       "    </tr>\n",
       "    <tr>\n",
       "      <th>1</th>\n",
       "      <td>444</td>\n",
       "      <td>4809</td>\n",
       "      <td>0.092327</td>\n",
       "      <td>22.53</td>\n",
       "    </tr>\n",
       "    <tr>\n",
       "      <th>3</th>\n",
       "      <td>27</td>\n",
       "      <td>330</td>\n",
       "      <td>0.081818</td>\n",
       "      <td>1.55</td>\n",
       "    </tr>\n",
       "    <tr>\n",
       "      <th>0</th>\n",
       "      <td>1063</td>\n",
       "      <td>14107</td>\n",
       "      <td>0.075353</td>\n",
       "      <td>66.08</td>\n",
       "    </tr>\n",
       "    <tr>\n",
       "      <th>5</th>\n",
       "      <td>0</td>\n",
       "      <td>9</td>\n",
       "      <td>0.000000</td>\n",
       "      <td>0.04</td>\n",
       "    </tr>\n",
       "  </tbody>\n",
       "</table>\n",
       "</div>"
      ],
      "text/plain": [
       "           sum  count  debt_share  category_share\n",
       "children                                         \n",
       "4            4     41    0.097561            0.19\n",
       "2          194   2052    0.094542            9.61\n",
       "1          444   4809    0.092327           22.53\n",
       "3           27    330    0.081818            1.55\n",
       "0         1063  14107    0.075353           66.08\n",
       "5            0      9    0.000000            0.04"
      ]
     },
     "execution_count": 22,
     "metadata": {},
     "output_type": "execute_result"
    }
   ],
   "source": [
    "data_children['category_share'] = round(data_children['count']*100/data_children['count'].sum(),2)\n",
    "data_children"
   ]
  },
  {
   "cell_type": "markdown",
   "id": "cb78dbb4-c10d-45f3-8d42-5edc0b4b3337",
   "metadata": {},
   "source": [
    "Вывод: Семьи с 5 детьми гасят кредиты в срок без просрочек.  \n",
    "\n",
    "Заемщики без детей составляют самую многочисленную группу заемщиков(66% от общего количества заемщиков) и доля просрочек в этой группе ниже всех - 7,54%.  \n",
    "\n",
    "Заемщики с 1-2 детьми допускают просрочки чуть чаще, доля просрочек составляет 9,23% и 9,45%, соответственно. А их доля в общем объеме заемщиков - 22,53% и 9,61%, соответственно.  \n",
    "\n",
    "Доля должников среди заемщиков с 3 детьми - 8,18%, с 4 детьми - 9,75%, с 5 детьми - 0,0%.  \n",
    "\n",
    "Т.о., видно, что появление детей влечет за собой дополнительную финансовую нагрузку и заемщики с детьми чаще допускают просрочки, но незначительно.  Разница в доле просрочки колеблется в пределах 1-2%.\n",
    "\n",
    "Также стоит отметить, что группа с 3, 4 и 5 детьми очень малочисленны и составляют всего 1,55%, 0,19% и 0,4%, соответственно,  от общего количества заемщиков, поэтому эти группы существенно не влияют на долю возвратов кредитов в целом и их можно не принимать в расчет. "
   ]
  },
  {
   "cell_type": "markdown",
   "id": "dca1d057-49fd-4cee-bacc-113b2066e6c9",
   "metadata": {},
   "source": [
    "## Определение зависимости между семейным положением и возвратом кредита в срок."
   ]
  },
  {
   "cell_type": "code",
   "execution_count": 23,
   "id": "cd29a067-b2e4-4c81-90dd-d32c821bc7bb",
   "metadata": {},
   "outputs": [],
   "source": [
    "data_family_status = data.groupby('family_status').agg({'debt':['sum','count','mean']}).sort_values(by=('debt','mean'),ascending=False)\n"
   ]
  },
  {
   "cell_type": "code",
   "execution_count": 24,
   "id": "731f81a9-9d00-4110-af89-3d931beeaed6",
   "metadata": {},
   "outputs": [],
   "source": [
    "data_family_status.columns = ['sum','count','debt_share']"
   ]
  },
  {
   "cell_type": "code",
   "execution_count": 25,
   "id": "52e5d4a6-2337-421c-9ad7-47c99b02a01c",
   "metadata": {},
   "outputs": [
    {
     "data": {
      "text/html": [
       "<div>\n",
       "<style scoped>\n",
       "    .dataframe tbody tr th:only-of-type {\n",
       "        vertical-align: middle;\n",
       "    }\n",
       "\n",
       "    .dataframe tbody tr th {\n",
       "        vertical-align: top;\n",
       "    }\n",
       "\n",
       "    .dataframe thead th {\n",
       "        text-align: right;\n",
       "    }\n",
       "</style>\n",
       "<table border=\"1\" class=\"dataframe\">\n",
       "  <thead>\n",
       "    <tr style=\"text-align: right;\">\n",
       "      <th></th>\n",
       "      <th>sum</th>\n",
       "      <th>count</th>\n",
       "      <th>debt_share</th>\n",
       "      <th>category_share</th>\n",
       "    </tr>\n",
       "    <tr>\n",
       "      <th>family_status</th>\n",
       "      <th></th>\n",
       "      <th></th>\n",
       "      <th></th>\n",
       "      <th></th>\n",
       "    </tr>\n",
       "  </thead>\n",
       "  <tbody>\n",
       "    <tr>\n",
       "      <th>Не женат / не замужем</th>\n",
       "      <td>273</td>\n",
       "      <td>2796</td>\n",
       "      <td>0.097639</td>\n",
       "      <td>13.10</td>\n",
       "    </tr>\n",
       "    <tr>\n",
       "      <th>гражданский брак</th>\n",
       "      <td>385</td>\n",
       "      <td>4146</td>\n",
       "      <td>0.092861</td>\n",
       "      <td>19.42</td>\n",
       "    </tr>\n",
       "    <tr>\n",
       "      <th>женат / замужем</th>\n",
       "      <td>927</td>\n",
       "      <td>12266</td>\n",
       "      <td>0.075575</td>\n",
       "      <td>57.46</td>\n",
       "    </tr>\n",
       "    <tr>\n",
       "      <th>в разводе</th>\n",
       "      <td>84</td>\n",
       "      <td>1189</td>\n",
       "      <td>0.070648</td>\n",
       "      <td>5.57</td>\n",
       "    </tr>\n",
       "    <tr>\n",
       "      <th>вдовец / вдова</th>\n",
       "      <td>63</td>\n",
       "      <td>951</td>\n",
       "      <td>0.066246</td>\n",
       "      <td>4.45</td>\n",
       "    </tr>\n",
       "  </tbody>\n",
       "</table>\n",
       "</div>"
      ],
      "text/plain": [
       "                       sum  count  debt_share  category_share\n",
       "family_status                                                \n",
       "Не женат / не замужем  273   2796    0.097639           13.10\n",
       "гражданский брак       385   4146    0.092861           19.42\n",
       "женат / замужем        927  12266    0.075575           57.46\n",
       "в разводе               84   1189    0.070648            5.57\n",
       "вдовец / вдова          63    951    0.066246            4.45"
      ]
     },
     "execution_count": 25,
     "metadata": {},
     "output_type": "execute_result"
    }
   ],
   "source": [
    "data_family_status['category_share'] = round(data_family_status['count']*100/data_family_status['count'].sum(),2)\n",
    "data_family_status"
   ]
  },
  {
   "cell_type": "markdown",
   "id": "1f500fa5-6a35-42e0-b4a6-ea645b6b3413",
   "metadata": {},
   "source": [
    "Меньше всего доля просрочек у вдовцов и людей в разводе: 6,62% и 7,06% соответственно. Можно предположить, что люди, оставшиеся одни, очень хорошо взвешивают свои решения прежде, чем взять на себя какие-либо обязательства, т.к. понимают, что нужно рассчитывать только на себя, и имеют жизненный опыт. Их доля в общем количестве заемщиков составляет 4,45% и 5,57%, соответственно (примерно 1/10 от общего числа заемщиков).\n",
    "\n",
    "Доля просрочек у людей, состоящих в браке(эта группа составляет 57.46% от общего количества заемщиков- больше 1/2) - 7,56%.  Она чуть выше, чем у предыдущей группы. Можно предположить, что у семейных заемщиков чуть чаще возникают непредвиденные траты или меняются финансовые приоритеты.\n",
    "\n",
    "Чаще всего допускают просрочки люди не в браке или состоящие в гражданском браке: 9,76% и 9,31%. Их доли в общем числе заемщиков - 13,10% и 19,42%, соотвественно(в общей сложности примерно 1/3 от общего числа заемщиков). Т.е., это та группа людей, среди которых больше молодых людей, еще не готовых брать на себя серьезную ответственность. "
   ]
  },
  {
   "cell_type": "markdown",
   "id": "251cfc81-f68b-49b4-a10e-4dfb4cabea64",
   "metadata": {},
   "source": [
    "## Определение зависимости между уровнем дохода и возвратом кредита в срок."
   ]
  },
  {
   "cell_type": "code",
   "execution_count": 26,
   "id": "1ab8a72e-0931-4467-b035-b0fa98cfb824",
   "metadata": {},
   "outputs": [],
   "source": [
    "data_income_category = data.groupby('total_income_category').agg({'debt':['sum','count','mean']}).sort_values(by=('debt','mean'),ascending=False)"
   ]
  },
  {
   "cell_type": "code",
   "execution_count": 27,
   "id": "4e12e943-0b82-49fb-91e1-1d0228e532f5",
   "metadata": {},
   "outputs": [],
   "source": [
    "data_income_category.columns = ['sum','count','debt_share']"
   ]
  },
  {
   "cell_type": "code",
   "execution_count": 28,
   "id": "eb8e6eb9-92e5-4701-9727-c329a2d8071e",
   "metadata": {},
   "outputs": [
    {
     "data": {
      "text/html": [
       "<div>\n",
       "<style scoped>\n",
       "    .dataframe tbody tr th:only-of-type {\n",
       "        vertical-align: middle;\n",
       "    }\n",
       "\n",
       "    .dataframe tbody tr th {\n",
       "        vertical-align: top;\n",
       "    }\n",
       "\n",
       "    .dataframe thead th {\n",
       "        text-align: right;\n",
       "    }\n",
       "</style>\n",
       "<table border=\"1\" class=\"dataframe\">\n",
       "  <thead>\n",
       "    <tr style=\"text-align: right;\">\n",
       "      <th></th>\n",
       "      <th>sum</th>\n",
       "      <th>count</th>\n",
       "      <th>debt_share</th>\n",
       "      <th>category_share</th>\n",
       "    </tr>\n",
       "    <tr>\n",
       "      <th>total_income_category</th>\n",
       "      <th></th>\n",
       "      <th></th>\n",
       "      <th></th>\n",
       "      <th></th>\n",
       "    </tr>\n",
       "  </thead>\n",
       "  <tbody>\n",
       "    <tr>\n",
       "      <th>E</th>\n",
       "      <td>2</td>\n",
       "      <td>22</td>\n",
       "      <td>0.090909</td>\n",
       "      <td>0.10</td>\n",
       "    </tr>\n",
       "    <tr>\n",
       "      <th>C</th>\n",
       "      <td>1353</td>\n",
       "      <td>15938</td>\n",
       "      <td>0.084891</td>\n",
       "      <td>74.66</td>\n",
       "    </tr>\n",
       "    <tr>\n",
       "      <th>A</th>\n",
       "      <td>2</td>\n",
       "      <td>25</td>\n",
       "      <td>0.080000</td>\n",
       "      <td>0.12</td>\n",
       "    </tr>\n",
       "    <tr>\n",
       "      <th>B</th>\n",
       "      <td>354</td>\n",
       "      <td>5014</td>\n",
       "      <td>0.070602</td>\n",
       "      <td>23.49</td>\n",
       "    </tr>\n",
       "    <tr>\n",
       "      <th>D</th>\n",
       "      <td>21</td>\n",
       "      <td>349</td>\n",
       "      <td>0.060172</td>\n",
       "      <td>1.63</td>\n",
       "    </tr>\n",
       "  </tbody>\n",
       "</table>\n",
       "</div>"
      ],
      "text/plain": [
       "                        sum  count  debt_share  category_share\n",
       "total_income_category                                         \n",
       "E                         2     22    0.090909            0.10\n",
       "C                      1353  15938    0.084891           74.66\n",
       "A                         2     25    0.080000            0.12\n",
       "B                       354   5014    0.070602           23.49\n",
       "D                        21    349    0.060172            1.63"
      ]
     },
     "execution_count": 28,
     "metadata": {},
     "output_type": "execute_result"
    }
   ],
   "source": [
    "data_income_category['category_share'] = round(data_income_category['count']*100/data_income_category['count'].sum(),2)\n",
    "data_income_category"
   ]
  },
  {
   "cell_type": "markdown",
   "id": "0da53133-625f-4b63-ad78-a333a5e96ea2",
   "metadata": {},
   "source": [
    "0–30000 — 'E';\r\n",
    "30001–50000 — 'D';\r\n",
    "50001–200000 — 'C';\r\n",
    "200001–1000000 — 'B';\r\n",
    "1000001 и выше — 'A'."
   ]
  },
  {
   "cell_type": "markdown",
   "id": "0f815ff3-86ea-49ee-a011-85546ed1b7b3",
   "metadata": {},
   "source": [
    "Вывод:  \n",
    "Чаще всего допускают просрочки люди с минимальным уровнем дохода - до 30 000р., доля просрочки - 9,09%. Но их всего 0,1% от общего количества клиентов, также, как и людей с доходом выше 1 000 000, у которых доля просрочки 8,00%.  \n",
    "\n",
    "Реже всего допускают просрочки люди с доходом от 30 000 до 50 000, у них доля просрочки - 6,02% (но их тоже всего 1,63% от общего количества заемщиков).  \n",
    "''.\n",
    "\n",
    "Лучше рассматривать группу с доходом от 50 000 до 200 000, их 74,66% от общего количества заемщиков, а доля просрочки в этой группе составляет 8,50%.  \n",
    "\n",
    "Доля просрочки у людей с доходом от 200 000 до 1 000 000 - 7,06% (их 23,49% от общего количества заемщиков).  \n",
    "\n",
    "Если смотреть по самым многочисленным группам, то чем выше доход, тем ниже уровень просрочек."
   ]
  },
  {
   "cell_type": "markdown",
   "id": "c56349fa-7726-4d45-91ee-1246cdcf0396",
   "metadata": {},
   "source": [
    "## Определение, как влияют разные цели кредита на его возврат в срок."
   ]
  },
  {
   "cell_type": "code",
   "execution_count": 29,
   "id": "12217549-6976-47b0-9424-1dfcf5160d56",
   "metadata": {},
   "outputs": [],
   "source": [
    "data_purpose = data.groupby('purpose_category').agg({'debt':['sum','count','mean']}).sort_values(by=('debt','mean'),ascending=False)"
   ]
  },
  {
   "cell_type": "code",
   "execution_count": 30,
   "id": "5598648e-afee-4b19-b7c0-ed81829e38cb",
   "metadata": {},
   "outputs": [],
   "source": [
    "data_purpose.columns = ['sum','count','debt_share']"
   ]
  },
  {
   "cell_type": "code",
   "execution_count": 31,
   "id": "0fb63557-c414-47c9-a76f-67e99dff82ae",
   "metadata": {},
   "outputs": [
    {
     "data": {
      "text/html": [
       "<div>\n",
       "<style scoped>\n",
       "    .dataframe tbody tr th:only-of-type {\n",
       "        vertical-align: middle;\n",
       "    }\n",
       "\n",
       "    .dataframe tbody tr th {\n",
       "        vertical-align: top;\n",
       "    }\n",
       "\n",
       "    .dataframe thead th {\n",
       "        text-align: right;\n",
       "    }\n",
       "</style>\n",
       "<table border=\"1\" class=\"dataframe\">\n",
       "  <thead>\n",
       "    <tr style=\"text-align: right;\">\n",
       "      <th></th>\n",
       "      <th>sum</th>\n",
       "      <th>count</th>\n",
       "      <th>debt_share</th>\n",
       "      <th>category_share</th>\n",
       "    </tr>\n",
       "    <tr>\n",
       "      <th>purpose_category</th>\n",
       "      <th></th>\n",
       "      <th></th>\n",
       "      <th></th>\n",
       "      <th></th>\n",
       "    </tr>\n",
       "  </thead>\n",
       "  <tbody>\n",
       "    <tr>\n",
       "      <th>операции с автомобилем</th>\n",
       "      <td>400</td>\n",
       "      <td>4281</td>\n",
       "      <td>0.093436</td>\n",
       "      <td>20.05</td>\n",
       "    </tr>\n",
       "    <tr>\n",
       "      <th>получение образования</th>\n",
       "      <td>369</td>\n",
       "      <td>3989</td>\n",
       "      <td>0.092504</td>\n",
       "      <td>18.69</td>\n",
       "    </tr>\n",
       "    <tr>\n",
       "      <th>проведение свадьбы</th>\n",
       "      <td>183</td>\n",
       "      <td>2324</td>\n",
       "      <td>0.078744</td>\n",
       "      <td>10.89</td>\n",
       "    </tr>\n",
       "    <tr>\n",
       "      <th>операции с недвижимостью</th>\n",
       "      <td>780</td>\n",
       "      <td>10754</td>\n",
       "      <td>0.072531</td>\n",
       "      <td>50.37</td>\n",
       "    </tr>\n",
       "  </tbody>\n",
       "</table>\n",
       "</div>"
      ],
      "text/plain": [
       "                          sum  count  debt_share  category_share\n",
       "purpose_category                                                \n",
       "операции с автомобилем    400   4281    0.093436           20.05\n",
       "получение образования     369   3989    0.092504           18.69\n",
       "проведение свадьбы        183   2324    0.078744           10.89\n",
       "операции с недвижимостью  780  10754    0.072531           50.37"
      ]
     },
     "execution_count": 31,
     "metadata": {},
     "output_type": "execute_result"
    }
   ],
   "source": [
    "data_purpose['category_share'] = round(data_purpose['count']*100/data_purpose['count'].sum(),2)\n",
    "data_purpose"
   ]
  },
  {
   "cell_type": "markdown",
   "id": "5facd36f-313c-4bf9-831f-d9c59c071d2f",
   "metadata": {},
   "source": [
    "Ниже всего уровень просрочек по кредитам на недвижимость - 7,25% (доля таких кредитов - 50,37% в общем портфеле заемщиков),  \n",
    "на проведение свадеб - 7,87% (10,89% от общего количества кредитов).   \n",
    "Максимальный уровень просрочек по кредитам на образование и операции с автомобилем. Он примерно одинаковый по этим категориям и составляет 9,3% (доля этих категорий в общем портфеле тоже примерно одинаковая: 18,69% и 20.05%)"
   ]
  },
  {
   "cell_type": "markdown",
   "id": "49a2afe5-5431-420a-93a3-4e7dd217a2a0",
   "metadata": {},
   "source": [
    "## Возможные причины появления пропусков в исходных данных."
   ]
  },
  {
   "cell_type": "markdown",
   "id": "94607acf-ce1c-4b43-9767-d38fc8871d87",
   "metadata": {},
   "source": [
    "Пропуски в данных содержатся в столбцах 'days_employed' и 'total_income'. Можно предположить, что это созаемщики, являющиеся супругами основных заемщиков, доход которых банк не рассматривает для расчета дохода (жены в декрете или супруги, которые не могут подтвердить официальный доход, не работают или учатся). Если эта версия верна, то тогда лучше исключить данные по этим заемщикам, а не заполнять их медианными значениями."
   ]
  },
  {
   "cell_type": "markdown",
   "id": "cc13f856-644d-4f71-8876-3251f509e300",
   "metadata": {},
   "source": [
    "# Выводы"
   ]
  },
  {
   "cell_type": "markdown",
   "id": "95faae0d-a530-4f01-87a1-5d21ab370ab5",
   "metadata": {},
   "source": [
    "Отчет об исследовании статистики платёжеспособности клиентов. Результаты могут быть использованы для  построения модели кредитного скорринга, оценивающей платежеспособность потенциального заёмщика.  \n",
    "\n",
    "1. Для исследования взяты входные данные от банка — статистика о платёжеспособности 21.5 тысячи клиентов со следующими 10 параметрами: количество детей, общий трудовой стаж, возраст, уровень образования, семейное положение, пол клиента, тип занятости, наличие просрочек, ежемесячный доход и цель получения кредита.\n",
    "\n",
    "2. Проведена предобработка данных.\n",
    "\n",
    "В данных были выявлены пропуски и некорректные значения и предприняты меры для их устранения:\n",
    "- отработаны отрицательные значения трудового стажа путем приведения их к положительному значению,\n",
    "- в 10% значений в графах ежемесячного дохода и общего стажа заемщиков были допущены пропуски. Для устранения этой проблемы в столбце общего дохода и общего стажа пропущенные значения заменены медианными значениями, рассчитанными для соответствующего типа занятости. Медианные значения позволяют избежать искажения данных при сильно отличающихся крайних значениях.\n",
    "- удалены аномальные значения (-1 и 20) в столбце «количество детей»,\n",
    "- удалены явные дубликаты,\n",
    "- отработаны неявные дубликаты в столбце  «уровень образования» путем приведения значений к нижнему регистру.\n",
    "\n",
    "Проведена категоризация данных по столбцу «общий доход» путем создания диапазонов уровня дохода клиентов и присвоения им \n",
    "буквенного обозначения:  \n",
    "•0–30000 — 'E';  \n",
    "•30001–50000 — 'D';  \n",
    "•50001–200000 — 'C';  \n",
    "•200001–1000000 — 'B';  \n",
    "•1000001 и выше — 'A'.  \n",
    "\n",
    "Проведена категоризация данных по столбцу «цель кредита» путем объединения их в следующие категории:  \n",
    "• операции с автомобилем,  \n",
    "• операции с недвижимостью,  \n",
    "• проведение свадьбы,  \n",
    "• получение образования.  \n",
    "\n",
    "3. После проведения предобработки данных был сделан анализ зависимости возврата заемщиками кредита в срок от 4 факторов:\n",
    "количества детей, семейного положения, уровня дохода и цели кредита. \n",
    "Получены следующие выводы:\n",
    "\n",
    "3.1. Семьи с 5 детьми гасят кредиты в срок без просрочек.\r\n",
    "\r\n",
    "Заемщики без детей составляют самую многочисленную группу заемщиков(66% от общего количества заемщиков) и доля просрочек в этой группе ниже всех - 7,54%.\r\n",
    "\r\n",
    "Заемщики с 1-2 детьми допускают просрочки чуть чаще, доля просрочек составляет 9,23% и 9,45%, соответственно. А их доля в общем объеме заемщиков - 22,53% и 9,61%, соответственно.\r\n",
    "\r\n",
    "Доля должников среди заемщиков с 3 детьми - 8,18%, с 4 детьми - 9,75%, с 5 детьми - 0,0%.\r\n",
    "\r\n",
    "Т.о., видно, что появление детей влечет за собой дополнительную финансовую нагрузку и заемщики с детьми чаще допускают просрочки, но незначительно. Разница в доле просрочки колеблется в пределах 1-2%.\r\n",
    "\r\n",
    "Также стоит отметить, что группа с 3, 4 и 5 детьми очень малочисленны и составляют всего 1,55%, 0,19% и 0,4%, соответственно, от общего количества заемщиков, поэтому эти группы существенно не влияют на долю возвратов кредитов в целом и их можно не принимать ивается. \n",
    "\n",
    "3.2. Зависимость от семейного положения также просл\n",
    "Меньше всего доля просрочек у вдовцов и людей в разводе: 6,62% и 7,06% соответственно. Можно предположить, что теряя финансовую поддержку своих партнеров, они очень взвешенно подходят к вопросу оценки своих финансовых возможностей по обслуживанию кредита. Их доля в общем количестве заемщиков составляет 4,45% и 5,57%, соответственно (примерно 1/10 от общего числа заемщиков).\r\n",
    "\r\n",
    "Доля просрочек у людей, состоящих в браке(эта группа составляет 57.46% от общего количества заемщиков- больше 1/2) - 7,56%. Она чуть выше, чем у предыдущей группы. Можно предположить, что у семейных заемщиков чуть чаще возникают непредвиденные траты или меняются финансовые приоритеты.\r\n",
    "\r\n",
    "Чаще всего допускают просрочки люди не в браке или состоящие в гражданском браке: 9,76% и 9,31%. Их доли в общем числе заемщиков - 13,10% и 19,42%, соотвественно(в общей сложности примерно 1/3 от общего числа заемщикоа\n",
    "заемщиков). Можно предположить, что из-за своего молодого возраста или отсутствия жизненного опыта они более егкомысленно \n",
    "относятся к своим обязательств\n",
    "ам по кредиту.\n",
    "3.3. Если оценивать заемщиков по уровню дохода, то чаще всего допускают просрочки люди с минимальным уровнем доход(т.к. их уровень дохода едва позволяет им закрывать свои базовые потребности)\n",
    "\n",
    "Чаще всего допускают просрочки люди с минимальным уровнем дохода - до 30 000р., доля просрочки - 9,09%. Но их всего 0,1% от общего количества клиентов, также, как и людей с доходом выше 1 000 000, у которых доля просрочки 8,00%.\r\n",
    "\r\n",
    "Реже всего допускают просрочки люди с доходом от 30 000 до 50 000, у них доля просрочки - 6,02% (но их тоже всего 1,63% от общего количества заемщиков Можно предположить, что эта категория берет кредиты только в случае острой необходимости, тщательно взвешивая перед этим свои финансовые возможности.)'.\r\n",
    "\r\n",
    "Лучше рассматривать группу с доходом от 50 000 до 200 000, их 74,66% от общего количества заемщиков, а доля просрочки в этой группе составляет 8,50%.\r\n",
    "\r\n",
    "Доля просрочки у людей с доходом от 200 000 до 1 000 000 - 7,06% (их 23,49% от общего количества заемщиков).\r\n",
    "\r\n",
    "Если смотреть по самым многочисленным группам, то чем выше доход, тем ниже уровень прое уровень просрочек. \n",
    "\n",
    "3.4. Рассматривая зависимость от цели кредитниже всего уровень просрочек по кредитам на недвижимость - 7,25% (доля таких кредитов - 50,37% в общем портфеле заемщиков). Как правило, в данном случае люди берут кредит на то жилье, в котором они будут проживать и риск потерять это жилье из-за неплатежей, дисциплинирует заемщиков.\r",
    "У кредитов \n",
    "на проведение свадебдоля просрочек составляет- 7,87% (10,89% от общего количества кредитов)  \n",
    "\r\n",
    "Максимальный уровень просрочек по кредитам на образование и операции с автомобилем. Он примерно одинаковый по этим категориям и составляет 9,3% (доля этих категорий в общем портфеле тоже примерно одинаковая: 18,69% и 20.05%)ковая: 18,7% и 20.06%).\n",
    "\n",
    "Т.о., можно сделать вывод, что скорринговая модель, оценивающая вероятность погашения заемщиками кредита в срок, должна быть многофакторной и учитывать не только уровень дохода потенциальных клиентов, но и их семейное положение, количество детей и цель, на которую берется кредит.\n",
    " "
   ]
  },
  {
   "cell_type": "code",
   "execution_count": null,
   "id": "364476c4-7a51-45ad-b9b7-0612cfc0c8b8",
   "metadata": {},
   "outputs": [],
   "source": []
  }
 ],
 "metadata": {
  "kernelspec": {
   "display_name": "Python 3 (ipykernel)",
   "language": "python",
   "name": "python3"
  },
  "language_info": {
   "codemirror_mode": {
    "name": "ipython",
    "version": 3
   },
   "file_extension": ".py",
   "mimetype": "text/x-python",
   "name": "python",
   "nbconvert_exporter": "python",
   "pygments_lexer": "ipython3",
   "version": "3.11.6"
  }
 },
 "nbformat": 4,
 "nbformat_minor": 5
}
